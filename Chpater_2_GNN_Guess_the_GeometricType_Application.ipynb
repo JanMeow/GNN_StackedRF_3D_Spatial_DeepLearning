{
  "nbformat": 4,
  "nbformat_minor": 0,
  "metadata": {
    "colab": {
      "provenance": [],
      "authorship_tag": "ABX9TyMFseVsHMOo7x99UkDFwpGh",
      "include_colab_link": true
    },
    "kernelspec": {
      "name": "python3",
      "display_name": "Python 3"
    },
    "language_info": {
      "name": "python"
    }
  },
  "cells": [
    {
      "cell_type": "markdown",
      "metadata": {
        "id": "view-in-github",
        "colab_type": "text"
      },
      "source": [
        "<a href=\"https://colab.research.google.com/github/JanMeow/GNN_StackedRF_3D_Spatial_DeepLearning/blob/main/Chpater_2_GNN_Guess_the_GeometricType_Application.ipynb\" target=\"_parent\"><img src=\"https://colab.research.google.com/assets/colab-badge.svg\" alt=\"Open In Colab\"/></a>"
      ]
    },
    {
      "cell_type": "code",
      "execution_count": 1,
      "metadata": {
        "colab": {
          "base_uri": "https://localhost:8080/"
        },
        "id": "ztp7jgt_W09h",
        "outputId": "fbce7a72-ec4a-433a-e35a-1d2a48fde9d0"
      },
      "outputs": [
        {
          "output_type": "stream",
          "name": "stdout",
          "text": [
            "Requirement already satisfied: numpy in /usr/local/lib/python3.11/dist-packages (2.0.2)\n",
            "Collecting pytorch\n",
            "  Downloading pytorch-1.0.2.tar.gz (689 bytes)\n",
            "  Preparing metadata (setup.py) ... \u001b[?25l\u001b[?25hdone\n",
            "Building wheels for collected packages: pytorch\n",
            "  \u001b[1;31merror\u001b[0m: \u001b[1msubprocess-exited-with-error\u001b[0m\n",
            "  \n",
            "  \u001b[31m×\u001b[0m \u001b[32mpython setup.py bdist_wheel\u001b[0m did not run successfully.\n",
            "  \u001b[31m│\u001b[0m exit code: \u001b[1;36m1\u001b[0m\n",
            "  \u001b[31m╰─>\u001b[0m See above for output.\n",
            "  \n",
            "  \u001b[1;35mnote\u001b[0m: This error originates from a subprocess, and is likely not a problem with pip.\n",
            "  Building wheel for pytorch (setup.py) ... \u001b[?25lerror\n",
            "\u001b[31m  ERROR: Failed building wheel for pytorch\u001b[0m\u001b[31m\n",
            "\u001b[0m\u001b[?25h  Running setup.py clean for pytorch\n",
            "Failed to build pytorch\n",
            "\u001b[31mERROR: ERROR: Failed to build installable wheels for some pyproject.toml based projects (pytorch)\u001b[0m\u001b[31m\n",
            "\u001b[0mCollecting torch_geometric\n",
            "  Downloading torch_geometric-2.6.1-py3-none-any.whl.metadata (63 kB)\n",
            "\u001b[2K     \u001b[90m━━━━━━━━━━━━━━━━━━━━━━━━━━━━━━━━━━━━━━━━\u001b[0m \u001b[32m63.1/63.1 kB\u001b[0m \u001b[31m1.8 MB/s\u001b[0m eta \u001b[36m0:00:00\u001b[0m\n",
            "\u001b[?25hRequirement already satisfied: aiohttp in /usr/local/lib/python3.11/dist-packages (from torch_geometric) (3.11.15)\n",
            "Requirement already satisfied: fsspec in /usr/local/lib/python3.11/dist-packages (from torch_geometric) (2025.3.2)\n",
            "Requirement already satisfied: jinja2 in /usr/local/lib/python3.11/dist-packages (from torch_geometric) (3.1.6)\n",
            "Requirement already satisfied: numpy in /usr/local/lib/python3.11/dist-packages (from torch_geometric) (2.0.2)\n",
            "Requirement already satisfied: psutil>=5.8.0 in /usr/local/lib/python3.11/dist-packages (from torch_geometric) (5.9.5)\n",
            "Requirement already satisfied: pyparsing in /usr/local/lib/python3.11/dist-packages (from torch_geometric) (3.2.3)\n",
            "Requirement already satisfied: requests in /usr/local/lib/python3.11/dist-packages (from torch_geometric) (2.32.3)\n",
            "Requirement already satisfied: tqdm in /usr/local/lib/python3.11/dist-packages (from torch_geometric) (4.67.1)\n",
            "Requirement already satisfied: aiohappyeyeballs>=2.3.0 in /usr/local/lib/python3.11/dist-packages (from aiohttp->torch_geometric) (2.6.1)\n",
            "Requirement already satisfied: aiosignal>=1.1.2 in /usr/local/lib/python3.11/dist-packages (from aiohttp->torch_geometric) (1.3.2)\n",
            "Requirement already satisfied: attrs>=17.3.0 in /usr/local/lib/python3.11/dist-packages (from aiohttp->torch_geometric) (25.3.0)\n",
            "Requirement already satisfied: frozenlist>=1.1.1 in /usr/local/lib/python3.11/dist-packages (from aiohttp->torch_geometric) (1.5.0)\n",
            "Requirement already satisfied: multidict<7.0,>=4.5 in /usr/local/lib/python3.11/dist-packages (from aiohttp->torch_geometric) (6.4.3)\n",
            "Requirement already satisfied: propcache>=0.2.0 in /usr/local/lib/python3.11/dist-packages (from aiohttp->torch_geometric) (0.3.1)\n",
            "Requirement already satisfied: yarl<2.0,>=1.17.0 in /usr/local/lib/python3.11/dist-packages (from aiohttp->torch_geometric) (1.19.0)\n",
            "Requirement already satisfied: MarkupSafe>=2.0 in /usr/local/lib/python3.11/dist-packages (from jinja2->torch_geometric) (3.0.2)\n",
            "Requirement already satisfied: charset-normalizer<4,>=2 in /usr/local/lib/python3.11/dist-packages (from requests->torch_geometric) (3.4.1)\n",
            "Requirement already satisfied: idna<4,>=2.5 in /usr/local/lib/python3.11/dist-packages (from requests->torch_geometric) (3.10)\n",
            "Requirement already satisfied: urllib3<3,>=1.21.1 in /usr/local/lib/python3.11/dist-packages (from requests->torch_geometric) (2.3.0)\n",
            "Requirement already satisfied: certifi>=2017.4.17 in /usr/local/lib/python3.11/dist-packages (from requests->torch_geometric) (2025.1.31)\n",
            "Downloading torch_geometric-2.6.1-py3-none-any.whl (1.1 MB)\n",
            "\u001b[2K   \u001b[90m━━━━━━━━━━━━━━━━━━━━━━━━━━━━━━━━━━━━━━━━\u001b[0m \u001b[32m1.1/1.1 MB\u001b[0m \u001b[31m19.6 MB/s\u001b[0m eta \u001b[36m0:00:00\u001b[0m\n",
            "\u001b[?25hInstalling collected packages: torch_geometric\n",
            "Successfully installed torch_geometric-2.6.1\n"
          ]
        }
      ],
      "source": [
        "!pip install numpy\n",
        "!pip install pytorch\n",
        "!pip install torch_geometric"
      ]
    },
    {
      "cell_type": "code",
      "source": [
        "import torch\n",
        "print(torch.__version__)"
      ],
      "metadata": {
        "colab": {
          "base_uri": "https://localhost:8080/"
        },
        "id": "svJnGaIOdSft",
        "outputId": "248e959c-30bc-401b-fcf9-acc490ba43ba"
      },
      "execution_count": 2,
      "outputs": [
        {
          "output_type": "stream",
          "name": "stdout",
          "text": [
            "2.6.0+cu124\n"
          ]
        }
      ]
    },
    {
      "cell_type": "code",
      "source": [
        "print(f\"python {torch.version.cuda}\")"
      ],
      "metadata": {
        "colab": {
          "base_uri": "https://localhost:8080/"
        },
        "id": "QeKgxSEWdYOe",
        "outputId": "9ed47bbd-272d-4d0d-b8f1-0439cfc6d850"
      },
      "execution_count": 3,
      "outputs": [
        {
          "output_type": "stream",
          "name": "stdout",
          "text": [
            "python 12.4\n"
          ]
        }
      ]
    },
    {
      "cell_type": "code",
      "source": [
        "torch.cuda.is_available()"
      ],
      "metadata": {
        "colab": {
          "base_uri": "https://localhost:8080/"
        },
        "id": "BqZe4QvKcjqq",
        "outputId": "effeff83-b4a4-4898-ad0d-6fec18f9e26e"
      },
      "execution_count": 4,
      "outputs": [
        {
          "output_type": "execute_result",
          "data": {
            "text/plain": [
              "False"
            ]
          },
          "metadata": {},
          "execution_count": 4
        }
      ]
    },
    {
      "cell_type": "code",
      "source": [
        "import torch\n",
        "from torch_geometric.data import Data\n",
        "\n",
        "edge_index = torch.tensor([[0, 1, 1, 2],\n",
        "                           [1, 0, 2, 1]], dtype=torch.long)\n",
        "x = torch.tensor([[-1], [0], [1]], dtype=torch.float)\n",
        "\n",
        "data = Data(x=x, edge_index=edge_index)\n",
        "Data(edge_index=[2, 4], x=[3, 1])"
      ],
      "metadata": {
        "id": "oBvT6NKmdJFz",
        "colab": {
          "base_uri": "https://localhost:8080/"
        },
        "outputId": "0e224e89-101f-4df6-8a8d-a2fd6035073f"
      },
      "execution_count": 5,
      "outputs": [
        {
          "output_type": "execute_result",
          "data": {
            "text/plain": [
              "Data(x=[2], edge_index=[2])"
            ]
          },
          "metadata": {},
          "execution_count": 5
        }
      ]
    },
    {
      "cell_type": "markdown",
      "source": [
        "#Transforming our graph into PYG graph"
      ],
      "metadata": {
        "id": "bwsSwjTlEkRj"
      }
    },
    {
      "cell_type": "markdown",
      "source": [
        "Although our data is in graph structure, it is different from the PyG format of graph we need for training.\n",
        "So the first step would be to turn our graph into a PyG *graph*\n",
        "\n",
        "\n",
        "1.   Turn node index into integers\n",
        "2.   Use node.near property to connect the indexs\n",
        "\n"
      ],
      "metadata": {
        "id": "eVFiGXlKEoQB"
      }
    },
    {
      "cell_type": "code",
      "source": [
        "# Getting the data and data engineering functions\n",
        "!git clone https://github.com/JanMeow/3d_graph_data_engineering.git\n",
        "# Install the dependency\n",
        "!mv 3d_graph_data_engineering data_engineering\n",
        "!pip install numpy pandas ifcopenshell"
      ],
      "metadata": {
        "colab": {
          "base_uri": "https://localhost:8080/"
        },
        "id": "kAElHJlRH8XQ",
        "outputId": "899d41c7-5e24-418f-a061-f1fca9eb5d50"
      },
      "execution_count": 6,
      "outputs": [
        {
          "output_type": "stream",
          "name": "stdout",
          "text": [
            "Cloning into '3d_graph_data_engineering'...\n",
            "remote: Enumerating objects: 104, done.\u001b[K\n",
            "remote: Counting objects: 100% (104/104), done.\u001b[K\n",
            "remote: Compressing objects: 100% (71/71), done.\u001b[K\n",
            "remote: Total 104 (delta 61), reused 70 (delta 27), pack-reused 0 (from 0)\u001b[K\n",
            "Receiving objects: 100% (104/104), 326.21 KiB | 5.35 MiB/s, done.\n",
            "Resolving deltas: 100% (61/61), done.\n",
            "Requirement already satisfied: numpy in /usr/local/lib/python3.11/dist-packages (2.0.2)\n",
            "Requirement already satisfied: pandas in /usr/local/lib/python3.11/dist-packages (2.2.2)\n",
            "Collecting ifcopenshell\n",
            "  Downloading ifcopenshell-0.8.2-py311-none-manylinux_2_31_x86_64.whl.metadata (11 kB)\n",
            "Requirement already satisfied: python-dateutil>=2.8.2 in /usr/local/lib/python3.11/dist-packages (from pandas) (2.8.2)\n",
            "Requirement already satisfied: pytz>=2020.1 in /usr/local/lib/python3.11/dist-packages (from pandas) (2025.2)\n",
            "Requirement already satisfied: tzdata>=2022.7 in /usr/local/lib/python3.11/dist-packages (from pandas) (2025.2)\n",
            "Requirement already satisfied: shapely in /usr/local/lib/python3.11/dist-packages (from ifcopenshell) (2.1.0)\n",
            "Collecting isodate (from ifcopenshell)\n",
            "  Downloading isodate-0.7.2-py3-none-any.whl.metadata (11 kB)\n",
            "Collecting lark (from ifcopenshell)\n",
            "  Downloading lark-1.2.2-py3-none-any.whl.metadata (1.8 kB)\n",
            "Requirement already satisfied: typing-extensions in /usr/local/lib/python3.11/dist-packages (from ifcopenshell) (4.13.2)\n",
            "Requirement already satisfied: six>=1.5 in /usr/local/lib/python3.11/dist-packages (from python-dateutil>=2.8.2->pandas) (1.17.0)\n",
            "Downloading ifcopenshell-0.8.2-py311-none-manylinux_2_31_x86_64.whl (40.8 MB)\n",
            "\u001b[2K   \u001b[90m━━━━━━━━━━━━━━━━━━━━━━━━━━━━━━━━━━━━━━━━\u001b[0m \u001b[32m40.8/40.8 MB\u001b[0m \u001b[31m18.4 MB/s\u001b[0m eta \u001b[36m0:00:00\u001b[0m\n",
            "\u001b[?25hDownloading isodate-0.7.2-py3-none-any.whl (22 kB)\n",
            "Downloading lark-1.2.2-py3-none-any.whl (111 kB)\n",
            "\u001b[2K   \u001b[90m━━━━━━━━━━━━━━━━━━━━━━━━━━━━━━━━━━━━━━━━\u001b[0m \u001b[32m111.0/111.0 kB\u001b[0m \u001b[31m9.1 MB/s\u001b[0m eta \u001b[36m0:00:00\u001b[0m\n",
            "\u001b[?25hInstalling collected packages: lark, isodate, ifcopenshell\n",
            "Successfully installed ifcopenshell-0.8.2 isodate-0.7.2 lark-1.2.2\n"
          ]
        }
      ]
    },
    {
      "cell_type": "code",
      "source": [
        "import numpy as np\n",
        "import pandas as pd\n",
        "import ifcopenshell\n",
        "import sys\n",
        "sys.path.append('/content/data_engineering')\n",
        "from data_engineering import collision as C, utils as U, compute_proxy as CP"
      ],
      "metadata": {
        "id": "odRH75BSIAVZ"
      },
      "execution_count": 7,
      "outputs": []
    },
    {
      "cell_type": "code",
      "source": [
        "from pathlib import Path\n",
        "# lets use the test ifc_model\n",
        "ifc_path = \"/content/data_engineering/data/ifc/ML_train_data_0.ifc\""
      ],
      "metadata": {
        "id": "c7ezFr_WIEIv"
      },
      "execution_count": 8,
      "outputs": []
    },
    {
      "cell_type": "code",
      "source": [
        "model = ifcopenshell.open(ifc_path)\n",
        "root = model.by_type(\"IfcProject\")[0]"
      ],
      "metadata": {
        "id": "ZJuVbdZTIFu_"
      },
      "execution_count": 9,
      "outputs": []
    },
    {
      "cell_type": "code",
      "source": [
        "from utils import  Graph\n",
        "# Create a graph and establish BVH Tree=\n",
        "graph = Graph.create(root)\n",
        "graph.build_bvh()"
      ],
      "metadata": {
        "colab": {
          "base_uri": "https://localhost:8080/"
        },
        "id": "CkP9G3KeIIx2",
        "outputId": "724972db-b68e-40bc-9d1f-9131a0e66f00"
      },
      "execution_count": 10,
      "outputs": [
        {
          "output_type": "stream",
          "name": "stdout",
          "text": [
            "Function ended, No more spatial child\n",
            "Graph created\n"
          ]
        }
      ]
    },
    {
      "cell_type": "code",
      "source": [
        "for node in graph.node_dict.values():\n",
        "      if node.geom_info != None:\n",
        "          node.near = [graph[guid] for guid in graph.bvh_query(node.geom_info[\"bbox\"])\n",
        "                        if guid != node.guid]"
      ],
      "metadata": {
        "id": "yPSM-0aeK4ag"
      },
      "execution_count": 11,
      "outputs": []
    },
    {
      "cell_type": "markdown",
      "source": [
        "# Turn the data into features embedding for the GNN"
      ],
      "metadata": {
        "id": "WE-7QIi1E7vY"
      }
    },
    {
      "cell_type": "code",
      "source": [
        "#Get Intrisic features for all nodes\n",
        "intrinsic_features = [CP.get_Intrinsic_features(graph, key) for key in graph.node_dict.keys()]\n",
        "print(\"Finished Extracting Intrinsic Features\")"
      ],
      "metadata": {
        "colab": {
          "base_uri": "https://localhost:8080/"
        },
        "id": "-XE8PwUIFM2g",
        "outputId": "a5e8d661-e4eb-4b28-f68d-632d2faa65e7"
      },
      "execution_count": 12,
      "outputs": [
        {
          "output_type": "stream",
          "name": "stdout",
          "text": [
            "Finished Extracting Intrinsic Features\n"
          ]
        }
      ]
    },
    {
      "cell_type": "code",
      "source": [
        "#Example of an intrisic features\n",
        "df1 = pd.DataFrame(intrinsic_features)\n",
        "df1.head()"
      ],
      "metadata": {
        "colab": {
          "base_uri": "https://localhost:8080/",
          "height": 255
        },
        "id": "UfIQ5_D3FGOU",
        "outputId": "62464055-a62b-486d-d50c-8119eb207fd8"
      },
      "execution_count": 13,
      "outputs": [
        {
          "output_type": "execute_result",
          "data": {
            "text/plain": [
              "   AABB_X_Extent  OOBB_X_Extent  AABB_Y_Extent  OOBB_Y_Extent  AABB_Z_Extent  \\\n",
              "0           4.69       4.651975           6.78       6.953317           0.04   \n",
              "1           1.98       0.280000           3.70       0.202695           0.28   \n",
              "2           3.44       4.458813           3.08       0.199449           0.28   \n",
              "3           4.18       3.491121           6.53       6.070073           0.04   \n",
              "4           0.57       0.280000           1.78       0.206350           0.28   \n",
              "\n",
              "   OOBB_Z_Extent  AABB_base_area  OOBB_Base_area  World_X_Extent  \\\n",
              "0       0.040000           15.94           32.35           27.68   \n",
              "1       4.058783            0.80            0.06           27.68   \n",
              "2       0.280000            0.87            0.89           27.68   \n",
              "3       0.040000           15.59           21.19           27.68   \n",
              "4       1.831194            0.33            0.06           27.68   \n",
              "\n",
              "   World_Y_Extent  ...  Surface_area    Volume  Largest_face_area  \\\n",
              "0           13.68  ...     32.549824  0.659685              15.94   \n",
              "1           13.68  ...      3.953537  0.223608               1.12   \n",
              "2           13.68  ...      4.335963  0.244300               1.24   \n",
              "3           13.68  ...     31.833550  0.623736              15.59   \n",
              "4           13.68  ...      1.731608  0.092064               0.51   \n",
              "\n",
              "   Largest_face_normal_has_Z_vector  Number_of_vertices_in_base  \\\n",
              "0                              True                           6   \n",
              "1                             False                           4   \n",
              "2                             False                           4   \n",
              "3                              True                           5   \n",
              "4                             False                           4   \n",
              "\n",
              "   Number_of_vertices  Number_of_faces  Number_of_XYZ_aligned_faces  \\\n",
              "0                  12               20                            8   \n",
              "1                   8               12                            4   \n",
              "2                   8               12                            4   \n",
              "3                  10               16                            6   \n",
              "4                   8               12                            4   \n",
              "\n",
              "   Number_of_Z_aligned_faces  Number_of_faces_in_largest_face  \n",
              "0                          8                                4  \n",
              "1                          4                                2  \n",
              "2                          4                                2  \n",
              "3                          6                                3  \n",
              "4                          4                                2  \n",
              "\n",
              "[5 rows x 34 columns]"
            ],
            "text/html": [
              "\n",
              "  <div id=\"df-e96f254e-03b8-4a5f-94fe-c15a726fd9aa\" class=\"colab-df-container\">\n",
              "    <div>\n",
              "<style scoped>\n",
              "    .dataframe tbody tr th:only-of-type {\n",
              "        vertical-align: middle;\n",
              "    }\n",
              "\n",
              "    .dataframe tbody tr th {\n",
              "        vertical-align: top;\n",
              "    }\n",
              "\n",
              "    .dataframe thead th {\n",
              "        text-align: right;\n",
              "    }\n",
              "</style>\n",
              "<table border=\"1\" class=\"dataframe\">\n",
              "  <thead>\n",
              "    <tr style=\"text-align: right;\">\n",
              "      <th></th>\n",
              "      <th>AABB_X_Extent</th>\n",
              "      <th>OOBB_X_Extent</th>\n",
              "      <th>AABB_Y_Extent</th>\n",
              "      <th>OOBB_Y_Extent</th>\n",
              "      <th>AABB_Z_Extent</th>\n",
              "      <th>OOBB_Z_Extent</th>\n",
              "      <th>AABB_base_area</th>\n",
              "      <th>OOBB_Base_area</th>\n",
              "      <th>World_X_Extent</th>\n",
              "      <th>World_Y_Extent</th>\n",
              "      <th>...</th>\n",
              "      <th>Surface_area</th>\n",
              "      <th>Volume</th>\n",
              "      <th>Largest_face_area</th>\n",
              "      <th>Largest_face_normal_has_Z_vector</th>\n",
              "      <th>Number_of_vertices_in_base</th>\n",
              "      <th>Number_of_vertices</th>\n",
              "      <th>Number_of_faces</th>\n",
              "      <th>Number_of_XYZ_aligned_faces</th>\n",
              "      <th>Number_of_Z_aligned_faces</th>\n",
              "      <th>Number_of_faces_in_largest_face</th>\n",
              "    </tr>\n",
              "  </thead>\n",
              "  <tbody>\n",
              "    <tr>\n",
              "      <th>0</th>\n",
              "      <td>4.69</td>\n",
              "      <td>4.651975</td>\n",
              "      <td>6.78</td>\n",
              "      <td>6.953317</td>\n",
              "      <td>0.04</td>\n",
              "      <td>0.040000</td>\n",
              "      <td>15.94</td>\n",
              "      <td>32.35</td>\n",
              "      <td>27.68</td>\n",
              "      <td>13.68</td>\n",
              "      <td>...</td>\n",
              "      <td>32.549824</td>\n",
              "      <td>0.659685</td>\n",
              "      <td>15.94</td>\n",
              "      <td>True</td>\n",
              "      <td>6</td>\n",
              "      <td>12</td>\n",
              "      <td>20</td>\n",
              "      <td>8</td>\n",
              "      <td>8</td>\n",
              "      <td>4</td>\n",
              "    </tr>\n",
              "    <tr>\n",
              "      <th>1</th>\n",
              "      <td>1.98</td>\n",
              "      <td>0.280000</td>\n",
              "      <td>3.70</td>\n",
              "      <td>0.202695</td>\n",
              "      <td>0.28</td>\n",
              "      <td>4.058783</td>\n",
              "      <td>0.80</td>\n",
              "      <td>0.06</td>\n",
              "      <td>27.68</td>\n",
              "      <td>13.68</td>\n",
              "      <td>...</td>\n",
              "      <td>3.953537</td>\n",
              "      <td>0.223608</td>\n",
              "      <td>1.12</td>\n",
              "      <td>False</td>\n",
              "      <td>4</td>\n",
              "      <td>8</td>\n",
              "      <td>12</td>\n",
              "      <td>4</td>\n",
              "      <td>4</td>\n",
              "      <td>2</td>\n",
              "    </tr>\n",
              "    <tr>\n",
              "      <th>2</th>\n",
              "      <td>3.44</td>\n",
              "      <td>4.458813</td>\n",
              "      <td>3.08</td>\n",
              "      <td>0.199449</td>\n",
              "      <td>0.28</td>\n",
              "      <td>0.280000</td>\n",
              "      <td>0.87</td>\n",
              "      <td>0.89</td>\n",
              "      <td>27.68</td>\n",
              "      <td>13.68</td>\n",
              "      <td>...</td>\n",
              "      <td>4.335963</td>\n",
              "      <td>0.244300</td>\n",
              "      <td>1.24</td>\n",
              "      <td>False</td>\n",
              "      <td>4</td>\n",
              "      <td>8</td>\n",
              "      <td>12</td>\n",
              "      <td>4</td>\n",
              "      <td>4</td>\n",
              "      <td>2</td>\n",
              "    </tr>\n",
              "    <tr>\n",
              "      <th>3</th>\n",
              "      <td>4.18</td>\n",
              "      <td>3.491121</td>\n",
              "      <td>6.53</td>\n",
              "      <td>6.070073</td>\n",
              "      <td>0.04</td>\n",
              "      <td>0.040000</td>\n",
              "      <td>15.59</td>\n",
              "      <td>21.19</td>\n",
              "      <td>27.68</td>\n",
              "      <td>13.68</td>\n",
              "      <td>...</td>\n",
              "      <td>31.833550</td>\n",
              "      <td>0.623736</td>\n",
              "      <td>15.59</td>\n",
              "      <td>True</td>\n",
              "      <td>5</td>\n",
              "      <td>10</td>\n",
              "      <td>16</td>\n",
              "      <td>6</td>\n",
              "      <td>6</td>\n",
              "      <td>3</td>\n",
              "    </tr>\n",
              "    <tr>\n",
              "      <th>4</th>\n",
              "      <td>0.57</td>\n",
              "      <td>0.280000</td>\n",
              "      <td>1.78</td>\n",
              "      <td>0.206350</td>\n",
              "      <td>0.28</td>\n",
              "      <td>1.831194</td>\n",
              "      <td>0.33</td>\n",
              "      <td>0.06</td>\n",
              "      <td>27.68</td>\n",
              "      <td>13.68</td>\n",
              "      <td>...</td>\n",
              "      <td>1.731608</td>\n",
              "      <td>0.092064</td>\n",
              "      <td>0.51</td>\n",
              "      <td>False</td>\n",
              "      <td>4</td>\n",
              "      <td>8</td>\n",
              "      <td>12</td>\n",
              "      <td>4</td>\n",
              "      <td>4</td>\n",
              "      <td>2</td>\n",
              "    </tr>\n",
              "  </tbody>\n",
              "</table>\n",
              "<p>5 rows × 34 columns</p>\n",
              "</div>\n",
              "    <div class=\"colab-df-buttons\">\n",
              "\n",
              "  <div class=\"colab-df-container\">\n",
              "    <button class=\"colab-df-convert\" onclick=\"convertToInteractive('df-e96f254e-03b8-4a5f-94fe-c15a726fd9aa')\"\n",
              "            title=\"Convert this dataframe to an interactive table.\"\n",
              "            style=\"display:none;\">\n",
              "\n",
              "  <svg xmlns=\"http://www.w3.org/2000/svg\" height=\"24px\" viewBox=\"0 -960 960 960\">\n",
              "    <path d=\"M120-120v-720h720v720H120Zm60-500h600v-160H180v160Zm220 220h160v-160H400v160Zm0 220h160v-160H400v160ZM180-400h160v-160H180v160Zm440 0h160v-160H620v160ZM180-180h160v-160H180v160Zm440 0h160v-160H620v160Z\"/>\n",
              "  </svg>\n",
              "    </button>\n",
              "\n",
              "  <style>\n",
              "    .colab-df-container {\n",
              "      display:flex;\n",
              "      gap: 12px;\n",
              "    }\n",
              "\n",
              "    .colab-df-convert {\n",
              "      background-color: #E8F0FE;\n",
              "      border: none;\n",
              "      border-radius: 50%;\n",
              "      cursor: pointer;\n",
              "      display: none;\n",
              "      fill: #1967D2;\n",
              "      height: 32px;\n",
              "      padding: 0 0 0 0;\n",
              "      width: 32px;\n",
              "    }\n",
              "\n",
              "    .colab-df-convert:hover {\n",
              "      background-color: #E2EBFA;\n",
              "      box-shadow: 0px 1px 2px rgba(60, 64, 67, 0.3), 0px 1px 3px 1px rgba(60, 64, 67, 0.15);\n",
              "      fill: #174EA6;\n",
              "    }\n",
              "\n",
              "    .colab-df-buttons div {\n",
              "      margin-bottom: 4px;\n",
              "    }\n",
              "\n",
              "    [theme=dark] .colab-df-convert {\n",
              "      background-color: #3B4455;\n",
              "      fill: #D2E3FC;\n",
              "    }\n",
              "\n",
              "    [theme=dark] .colab-df-convert:hover {\n",
              "      background-color: #434B5C;\n",
              "      box-shadow: 0px 1px 3px 1px rgba(0, 0, 0, 0.15);\n",
              "      filter: drop-shadow(0px 1px 2px rgba(0, 0, 0, 0.3));\n",
              "      fill: #FFFFFF;\n",
              "    }\n",
              "  </style>\n",
              "\n",
              "    <script>\n",
              "      const buttonEl =\n",
              "        document.querySelector('#df-e96f254e-03b8-4a5f-94fe-c15a726fd9aa button.colab-df-convert');\n",
              "      buttonEl.style.display =\n",
              "        google.colab.kernel.accessAllowed ? 'block' : 'none';\n",
              "\n",
              "      async function convertToInteractive(key) {\n",
              "        const element = document.querySelector('#df-e96f254e-03b8-4a5f-94fe-c15a726fd9aa');\n",
              "        const dataTable =\n",
              "          await google.colab.kernel.invokeFunction('convertToInteractive',\n",
              "                                                    [key], {});\n",
              "        if (!dataTable) return;\n",
              "\n",
              "        const docLinkHtml = 'Like what you see? Visit the ' +\n",
              "          '<a target=\"_blank\" href=https://colab.research.google.com/notebooks/data_table.ipynb>data table notebook</a>'\n",
              "          + ' to learn more about interactive tables.';\n",
              "        element.innerHTML = '';\n",
              "        dataTable['output_type'] = 'display_data';\n",
              "        await google.colab.output.renderOutput(dataTable, element);\n",
              "        const docLink = document.createElement('div');\n",
              "        docLink.innerHTML = docLinkHtml;\n",
              "        element.appendChild(docLink);\n",
              "      }\n",
              "    </script>\n",
              "  </div>\n",
              "\n",
              "\n",
              "<div id=\"df-753b90c9-3479-4f26-b523-51d10bf2c64e\">\n",
              "  <button class=\"colab-df-quickchart\" onclick=\"quickchart('df-753b90c9-3479-4f26-b523-51d10bf2c64e')\"\n",
              "            title=\"Suggest charts\"\n",
              "            style=\"display:none;\">\n",
              "\n",
              "<svg xmlns=\"http://www.w3.org/2000/svg\" height=\"24px\"viewBox=\"0 0 24 24\"\n",
              "     width=\"24px\">\n",
              "    <g>\n",
              "        <path d=\"M19 3H5c-1.1 0-2 .9-2 2v14c0 1.1.9 2 2 2h14c1.1 0 2-.9 2-2V5c0-1.1-.9-2-2-2zM9 17H7v-7h2v7zm4 0h-2V7h2v10zm4 0h-2v-4h2v4z\"/>\n",
              "    </g>\n",
              "</svg>\n",
              "  </button>\n",
              "\n",
              "<style>\n",
              "  .colab-df-quickchart {\n",
              "      --bg-color: #E8F0FE;\n",
              "      --fill-color: #1967D2;\n",
              "      --hover-bg-color: #E2EBFA;\n",
              "      --hover-fill-color: #174EA6;\n",
              "      --disabled-fill-color: #AAA;\n",
              "      --disabled-bg-color: #DDD;\n",
              "  }\n",
              "\n",
              "  [theme=dark] .colab-df-quickchart {\n",
              "      --bg-color: #3B4455;\n",
              "      --fill-color: #D2E3FC;\n",
              "      --hover-bg-color: #434B5C;\n",
              "      --hover-fill-color: #FFFFFF;\n",
              "      --disabled-bg-color: #3B4455;\n",
              "      --disabled-fill-color: #666;\n",
              "  }\n",
              "\n",
              "  .colab-df-quickchart {\n",
              "    background-color: var(--bg-color);\n",
              "    border: none;\n",
              "    border-radius: 50%;\n",
              "    cursor: pointer;\n",
              "    display: none;\n",
              "    fill: var(--fill-color);\n",
              "    height: 32px;\n",
              "    padding: 0;\n",
              "    width: 32px;\n",
              "  }\n",
              "\n",
              "  .colab-df-quickchart:hover {\n",
              "    background-color: var(--hover-bg-color);\n",
              "    box-shadow: 0 1px 2px rgba(60, 64, 67, 0.3), 0 1px 3px 1px rgba(60, 64, 67, 0.15);\n",
              "    fill: var(--button-hover-fill-color);\n",
              "  }\n",
              "\n",
              "  .colab-df-quickchart-complete:disabled,\n",
              "  .colab-df-quickchart-complete:disabled:hover {\n",
              "    background-color: var(--disabled-bg-color);\n",
              "    fill: var(--disabled-fill-color);\n",
              "    box-shadow: none;\n",
              "  }\n",
              "\n",
              "  .colab-df-spinner {\n",
              "    border: 2px solid var(--fill-color);\n",
              "    border-color: transparent;\n",
              "    border-bottom-color: var(--fill-color);\n",
              "    animation:\n",
              "      spin 1s steps(1) infinite;\n",
              "  }\n",
              "\n",
              "  @keyframes spin {\n",
              "    0% {\n",
              "      border-color: transparent;\n",
              "      border-bottom-color: var(--fill-color);\n",
              "      border-left-color: var(--fill-color);\n",
              "    }\n",
              "    20% {\n",
              "      border-color: transparent;\n",
              "      border-left-color: var(--fill-color);\n",
              "      border-top-color: var(--fill-color);\n",
              "    }\n",
              "    30% {\n",
              "      border-color: transparent;\n",
              "      border-left-color: var(--fill-color);\n",
              "      border-top-color: var(--fill-color);\n",
              "      border-right-color: var(--fill-color);\n",
              "    }\n",
              "    40% {\n",
              "      border-color: transparent;\n",
              "      border-right-color: var(--fill-color);\n",
              "      border-top-color: var(--fill-color);\n",
              "    }\n",
              "    60% {\n",
              "      border-color: transparent;\n",
              "      border-right-color: var(--fill-color);\n",
              "    }\n",
              "    80% {\n",
              "      border-color: transparent;\n",
              "      border-right-color: var(--fill-color);\n",
              "      border-bottom-color: var(--fill-color);\n",
              "    }\n",
              "    90% {\n",
              "      border-color: transparent;\n",
              "      border-bottom-color: var(--fill-color);\n",
              "    }\n",
              "  }\n",
              "</style>\n",
              "\n",
              "  <script>\n",
              "    async function quickchart(key) {\n",
              "      const quickchartButtonEl =\n",
              "        document.querySelector('#' + key + ' button');\n",
              "      quickchartButtonEl.disabled = true;  // To prevent multiple clicks.\n",
              "      quickchartButtonEl.classList.add('colab-df-spinner');\n",
              "      try {\n",
              "        const charts = await google.colab.kernel.invokeFunction(\n",
              "            'suggestCharts', [key], {});\n",
              "      } catch (error) {\n",
              "        console.error('Error during call to suggestCharts:', error);\n",
              "      }\n",
              "      quickchartButtonEl.classList.remove('colab-df-spinner');\n",
              "      quickchartButtonEl.classList.add('colab-df-quickchart-complete');\n",
              "    }\n",
              "    (() => {\n",
              "      let quickchartButtonEl =\n",
              "        document.querySelector('#df-753b90c9-3479-4f26-b523-51d10bf2c64e button');\n",
              "      quickchartButtonEl.style.display =\n",
              "        google.colab.kernel.accessAllowed ? 'block' : 'none';\n",
              "    })();\n",
              "  </script>\n",
              "</div>\n",
              "\n",
              "    </div>\n",
              "  </div>\n"
            ],
            "application/vnd.google.colaboratory.intrinsic+json": {
              "type": "dataframe",
              "variable_name": "df1"
            }
          },
          "metadata": {},
          "execution_count": 13
        }
      ]
    },
    {
      "cell_type": "code",
      "source": [
        "df1[\"Z_axis_aligned\"] = df1[\"Z_axis_aligned\"].apply(lambda x: 1 if x else 0)\n",
        "df1[\"Largest_face_normal_has_Z_vector\"] = df1[\"Largest_face_normal_has_Z_vector\"].apply(lambda x: 1 if x else 0)\n",
        "df1.head(2)"
      ],
      "metadata": {
        "colab": {
          "base_uri": "https://localhost:8080/",
          "height": 161
        },
        "id": "1tccJdievDBO",
        "outputId": "bb0792cf-3296-4951-bef2-4d6e16c1c33c"
      },
      "execution_count": 14,
      "outputs": [
        {
          "output_type": "execute_result",
          "data": {
            "text/plain": [
              "   AABB_X_Extent  OOBB_X_Extent  AABB_Y_Extent  OOBB_Y_Extent  AABB_Z_Extent  \\\n",
              "0           4.69       4.651975           6.78       6.953317           0.04   \n",
              "1           1.98       0.280000           3.70       0.202695           0.28   \n",
              "\n",
              "   OOBB_Z_Extent  AABB_base_area  OOBB_Base_area  World_X_Extent  \\\n",
              "0       0.040000           15.94           32.35           27.68   \n",
              "1       4.058783            0.80            0.06           27.68   \n",
              "\n",
              "   World_Y_Extent  ...  Surface_area    Volume  Largest_face_area  \\\n",
              "0           13.68  ...     32.549824  0.659685              15.94   \n",
              "1           13.68  ...      3.953537  0.223608               1.12   \n",
              "\n",
              "   Largest_face_normal_has_Z_vector  Number_of_vertices_in_base  \\\n",
              "0                                 1                           6   \n",
              "1                                 0                           4   \n",
              "\n",
              "   Number_of_vertices  Number_of_faces  Number_of_XYZ_aligned_faces  \\\n",
              "0                  12               20                            8   \n",
              "1                   8               12                            4   \n",
              "\n",
              "   Number_of_Z_aligned_faces  Number_of_faces_in_largest_face  \n",
              "0                          8                                4  \n",
              "1                          4                                2  \n",
              "\n",
              "[2 rows x 34 columns]"
            ],
            "text/html": [
              "\n",
              "  <div id=\"df-68bc59be-997b-44ef-9636-885662b00c9e\" class=\"colab-df-container\">\n",
              "    <div>\n",
              "<style scoped>\n",
              "    .dataframe tbody tr th:only-of-type {\n",
              "        vertical-align: middle;\n",
              "    }\n",
              "\n",
              "    .dataframe tbody tr th {\n",
              "        vertical-align: top;\n",
              "    }\n",
              "\n",
              "    .dataframe thead th {\n",
              "        text-align: right;\n",
              "    }\n",
              "</style>\n",
              "<table border=\"1\" class=\"dataframe\">\n",
              "  <thead>\n",
              "    <tr style=\"text-align: right;\">\n",
              "      <th></th>\n",
              "      <th>AABB_X_Extent</th>\n",
              "      <th>OOBB_X_Extent</th>\n",
              "      <th>AABB_Y_Extent</th>\n",
              "      <th>OOBB_Y_Extent</th>\n",
              "      <th>AABB_Z_Extent</th>\n",
              "      <th>OOBB_Z_Extent</th>\n",
              "      <th>AABB_base_area</th>\n",
              "      <th>OOBB_Base_area</th>\n",
              "      <th>World_X_Extent</th>\n",
              "      <th>World_Y_Extent</th>\n",
              "      <th>...</th>\n",
              "      <th>Surface_area</th>\n",
              "      <th>Volume</th>\n",
              "      <th>Largest_face_area</th>\n",
              "      <th>Largest_face_normal_has_Z_vector</th>\n",
              "      <th>Number_of_vertices_in_base</th>\n",
              "      <th>Number_of_vertices</th>\n",
              "      <th>Number_of_faces</th>\n",
              "      <th>Number_of_XYZ_aligned_faces</th>\n",
              "      <th>Number_of_Z_aligned_faces</th>\n",
              "      <th>Number_of_faces_in_largest_face</th>\n",
              "    </tr>\n",
              "  </thead>\n",
              "  <tbody>\n",
              "    <tr>\n",
              "      <th>0</th>\n",
              "      <td>4.69</td>\n",
              "      <td>4.651975</td>\n",
              "      <td>6.78</td>\n",
              "      <td>6.953317</td>\n",
              "      <td>0.04</td>\n",
              "      <td>0.040000</td>\n",
              "      <td>15.94</td>\n",
              "      <td>32.35</td>\n",
              "      <td>27.68</td>\n",
              "      <td>13.68</td>\n",
              "      <td>...</td>\n",
              "      <td>32.549824</td>\n",
              "      <td>0.659685</td>\n",
              "      <td>15.94</td>\n",
              "      <td>1</td>\n",
              "      <td>6</td>\n",
              "      <td>12</td>\n",
              "      <td>20</td>\n",
              "      <td>8</td>\n",
              "      <td>8</td>\n",
              "      <td>4</td>\n",
              "    </tr>\n",
              "    <tr>\n",
              "      <th>1</th>\n",
              "      <td>1.98</td>\n",
              "      <td>0.280000</td>\n",
              "      <td>3.70</td>\n",
              "      <td>0.202695</td>\n",
              "      <td>0.28</td>\n",
              "      <td>4.058783</td>\n",
              "      <td>0.80</td>\n",
              "      <td>0.06</td>\n",
              "      <td>27.68</td>\n",
              "      <td>13.68</td>\n",
              "      <td>...</td>\n",
              "      <td>3.953537</td>\n",
              "      <td>0.223608</td>\n",
              "      <td>1.12</td>\n",
              "      <td>0</td>\n",
              "      <td>4</td>\n",
              "      <td>8</td>\n",
              "      <td>12</td>\n",
              "      <td>4</td>\n",
              "      <td>4</td>\n",
              "      <td>2</td>\n",
              "    </tr>\n",
              "  </tbody>\n",
              "</table>\n",
              "<p>2 rows × 34 columns</p>\n",
              "</div>\n",
              "    <div class=\"colab-df-buttons\">\n",
              "\n",
              "  <div class=\"colab-df-container\">\n",
              "    <button class=\"colab-df-convert\" onclick=\"convertToInteractive('df-68bc59be-997b-44ef-9636-885662b00c9e')\"\n",
              "            title=\"Convert this dataframe to an interactive table.\"\n",
              "            style=\"display:none;\">\n",
              "\n",
              "  <svg xmlns=\"http://www.w3.org/2000/svg\" height=\"24px\" viewBox=\"0 -960 960 960\">\n",
              "    <path d=\"M120-120v-720h720v720H120Zm60-500h600v-160H180v160Zm220 220h160v-160H400v160Zm0 220h160v-160H400v160ZM180-400h160v-160H180v160Zm440 0h160v-160H620v160ZM180-180h160v-160H180v160Zm440 0h160v-160H620v160Z\"/>\n",
              "  </svg>\n",
              "    </button>\n",
              "\n",
              "  <style>\n",
              "    .colab-df-container {\n",
              "      display:flex;\n",
              "      gap: 12px;\n",
              "    }\n",
              "\n",
              "    .colab-df-convert {\n",
              "      background-color: #E8F0FE;\n",
              "      border: none;\n",
              "      border-radius: 50%;\n",
              "      cursor: pointer;\n",
              "      display: none;\n",
              "      fill: #1967D2;\n",
              "      height: 32px;\n",
              "      padding: 0 0 0 0;\n",
              "      width: 32px;\n",
              "    }\n",
              "\n",
              "    .colab-df-convert:hover {\n",
              "      background-color: #E2EBFA;\n",
              "      box-shadow: 0px 1px 2px rgba(60, 64, 67, 0.3), 0px 1px 3px 1px rgba(60, 64, 67, 0.15);\n",
              "      fill: #174EA6;\n",
              "    }\n",
              "\n",
              "    .colab-df-buttons div {\n",
              "      margin-bottom: 4px;\n",
              "    }\n",
              "\n",
              "    [theme=dark] .colab-df-convert {\n",
              "      background-color: #3B4455;\n",
              "      fill: #D2E3FC;\n",
              "    }\n",
              "\n",
              "    [theme=dark] .colab-df-convert:hover {\n",
              "      background-color: #434B5C;\n",
              "      box-shadow: 0px 1px 3px 1px rgba(0, 0, 0, 0.15);\n",
              "      filter: drop-shadow(0px 1px 2px rgba(0, 0, 0, 0.3));\n",
              "      fill: #FFFFFF;\n",
              "    }\n",
              "  </style>\n",
              "\n",
              "    <script>\n",
              "      const buttonEl =\n",
              "        document.querySelector('#df-68bc59be-997b-44ef-9636-885662b00c9e button.colab-df-convert');\n",
              "      buttonEl.style.display =\n",
              "        google.colab.kernel.accessAllowed ? 'block' : 'none';\n",
              "\n",
              "      async function convertToInteractive(key) {\n",
              "        const element = document.querySelector('#df-68bc59be-997b-44ef-9636-885662b00c9e');\n",
              "        const dataTable =\n",
              "          await google.colab.kernel.invokeFunction('convertToInteractive',\n",
              "                                                    [key], {});\n",
              "        if (!dataTable) return;\n",
              "\n",
              "        const docLinkHtml = 'Like what you see? Visit the ' +\n",
              "          '<a target=\"_blank\" href=https://colab.research.google.com/notebooks/data_table.ipynb>data table notebook</a>'\n",
              "          + ' to learn more about interactive tables.';\n",
              "        element.innerHTML = '';\n",
              "        dataTable['output_type'] = 'display_data';\n",
              "        await google.colab.output.renderOutput(dataTable, element);\n",
              "        const docLink = document.createElement('div');\n",
              "        docLink.innerHTML = docLinkHtml;\n",
              "        element.appendChild(docLink);\n",
              "      }\n",
              "    </script>\n",
              "  </div>\n",
              "\n",
              "\n",
              "<div id=\"df-f217dadf-03f4-4edb-9be6-49f1c721d1f9\">\n",
              "  <button class=\"colab-df-quickchart\" onclick=\"quickchart('df-f217dadf-03f4-4edb-9be6-49f1c721d1f9')\"\n",
              "            title=\"Suggest charts\"\n",
              "            style=\"display:none;\">\n",
              "\n",
              "<svg xmlns=\"http://www.w3.org/2000/svg\" height=\"24px\"viewBox=\"0 0 24 24\"\n",
              "     width=\"24px\">\n",
              "    <g>\n",
              "        <path d=\"M19 3H5c-1.1 0-2 .9-2 2v14c0 1.1.9 2 2 2h14c1.1 0 2-.9 2-2V5c0-1.1-.9-2-2-2zM9 17H7v-7h2v7zm4 0h-2V7h2v10zm4 0h-2v-4h2v4z\"/>\n",
              "    </g>\n",
              "</svg>\n",
              "  </button>\n",
              "\n",
              "<style>\n",
              "  .colab-df-quickchart {\n",
              "      --bg-color: #E8F0FE;\n",
              "      --fill-color: #1967D2;\n",
              "      --hover-bg-color: #E2EBFA;\n",
              "      --hover-fill-color: #174EA6;\n",
              "      --disabled-fill-color: #AAA;\n",
              "      --disabled-bg-color: #DDD;\n",
              "  }\n",
              "\n",
              "  [theme=dark] .colab-df-quickchart {\n",
              "      --bg-color: #3B4455;\n",
              "      --fill-color: #D2E3FC;\n",
              "      --hover-bg-color: #434B5C;\n",
              "      --hover-fill-color: #FFFFFF;\n",
              "      --disabled-bg-color: #3B4455;\n",
              "      --disabled-fill-color: #666;\n",
              "  }\n",
              "\n",
              "  .colab-df-quickchart {\n",
              "    background-color: var(--bg-color);\n",
              "    border: none;\n",
              "    border-radius: 50%;\n",
              "    cursor: pointer;\n",
              "    display: none;\n",
              "    fill: var(--fill-color);\n",
              "    height: 32px;\n",
              "    padding: 0;\n",
              "    width: 32px;\n",
              "  }\n",
              "\n",
              "  .colab-df-quickchart:hover {\n",
              "    background-color: var(--hover-bg-color);\n",
              "    box-shadow: 0 1px 2px rgba(60, 64, 67, 0.3), 0 1px 3px 1px rgba(60, 64, 67, 0.15);\n",
              "    fill: var(--button-hover-fill-color);\n",
              "  }\n",
              "\n",
              "  .colab-df-quickchart-complete:disabled,\n",
              "  .colab-df-quickchart-complete:disabled:hover {\n",
              "    background-color: var(--disabled-bg-color);\n",
              "    fill: var(--disabled-fill-color);\n",
              "    box-shadow: none;\n",
              "  }\n",
              "\n",
              "  .colab-df-spinner {\n",
              "    border: 2px solid var(--fill-color);\n",
              "    border-color: transparent;\n",
              "    border-bottom-color: var(--fill-color);\n",
              "    animation:\n",
              "      spin 1s steps(1) infinite;\n",
              "  }\n",
              "\n",
              "  @keyframes spin {\n",
              "    0% {\n",
              "      border-color: transparent;\n",
              "      border-bottom-color: var(--fill-color);\n",
              "      border-left-color: var(--fill-color);\n",
              "    }\n",
              "    20% {\n",
              "      border-color: transparent;\n",
              "      border-left-color: var(--fill-color);\n",
              "      border-top-color: var(--fill-color);\n",
              "    }\n",
              "    30% {\n",
              "      border-color: transparent;\n",
              "      border-left-color: var(--fill-color);\n",
              "      border-top-color: var(--fill-color);\n",
              "      border-right-color: var(--fill-color);\n",
              "    }\n",
              "    40% {\n",
              "      border-color: transparent;\n",
              "      border-right-color: var(--fill-color);\n",
              "      border-top-color: var(--fill-color);\n",
              "    }\n",
              "    60% {\n",
              "      border-color: transparent;\n",
              "      border-right-color: var(--fill-color);\n",
              "    }\n",
              "    80% {\n",
              "      border-color: transparent;\n",
              "      border-right-color: var(--fill-color);\n",
              "      border-bottom-color: var(--fill-color);\n",
              "    }\n",
              "    90% {\n",
              "      border-color: transparent;\n",
              "      border-bottom-color: var(--fill-color);\n",
              "    }\n",
              "  }\n",
              "</style>\n",
              "\n",
              "  <script>\n",
              "    async function quickchart(key) {\n",
              "      const quickchartButtonEl =\n",
              "        document.querySelector('#' + key + ' button');\n",
              "      quickchartButtonEl.disabled = true;  // To prevent multiple clicks.\n",
              "      quickchartButtonEl.classList.add('colab-df-spinner');\n",
              "      try {\n",
              "        const charts = await google.colab.kernel.invokeFunction(\n",
              "            'suggestCharts', [key], {});\n",
              "      } catch (error) {\n",
              "        console.error('Error during call to suggestCharts:', error);\n",
              "      }\n",
              "      quickchartButtonEl.classList.remove('colab-df-spinner');\n",
              "      quickchartButtonEl.classList.add('colab-df-quickchart-complete');\n",
              "    }\n",
              "    (() => {\n",
              "      let quickchartButtonEl =\n",
              "        document.querySelector('#df-f217dadf-03f4-4edb-9be6-49f1c721d1f9 button');\n",
              "      quickchartButtonEl.style.display =\n",
              "        google.colab.kernel.accessAllowed ? 'block' : 'none';\n",
              "    })();\n",
              "  </script>\n",
              "</div>\n",
              "\n",
              "    </div>\n",
              "  </div>\n"
            ],
            "application/vnd.google.colaboratory.intrinsic+json": {
              "type": "dataframe",
              "variable_name": "df1"
            }
          },
          "metadata": {},
          "execution_count": 14
        }
      ]
    },
    {
      "cell_type": "code",
      "source": [
        "x = []\n",
        "for feature in intrinsic_features:\n",
        "  x.append([v for v in feature.values()])\n",
        "x = torch.tensor(x, dtype=torch.float)"
      ],
      "metadata": {
        "id": "J4rdDFpnH7b9"
      },
      "execution_count": 15,
      "outputs": []
    },
    {
      "cell_type": "code",
      "source": [
        "x"
      ],
      "metadata": {
        "colab": {
          "base_uri": "https://localhost:8080/"
        },
        "id": "dHnv0xBQv5WL",
        "outputId": "ebdc6fb7-80be-4d2c-f478-03765592b362"
      },
      "execution_count": 16,
      "outputs": [
        {
          "output_type": "execute_result",
          "data": {
            "text/plain": [
              "tensor([[ 4.6900,  4.6520,  6.7800,  ...,  8.0000,  8.0000,  4.0000],\n",
              "        [ 1.9800,  0.2800,  3.7000,  ...,  4.0000,  4.0000,  2.0000],\n",
              "        [ 3.4400,  4.4588,  3.0800,  ...,  4.0000,  4.0000,  2.0000],\n",
              "        ...,\n",
              "        [ 0.0700,  0.0700,  5.1800,  ..., 42.0000, 10.0000,  8.0000],\n",
              "        [ 0.2000,  0.2000,  0.2000,  ..., 12.0000,  4.0000,  2.0000],\n",
              "        [ 0.2000,  0.2800,  3.6700,  ..., 10.0000,  4.0000,  2.0000]])"
            ]
          },
          "metadata": {},
          "execution_count": 16
        }
      ]
    },
    {
      "cell_type": "code",
      "source": [
        "#Encode target labels\n",
        "targets = [node.geom_type for node in graph.node_dict.values()]"
      ],
      "metadata": {
        "id": "GzlqJPuOqxVi"
      },
      "execution_count": 17,
      "outputs": []
    },
    {
      "cell_type": "code",
      "source": [
        "from sklearn.preprocessing import LabelEncoder\n",
        "\n",
        "le = LabelEncoder()\n",
        "y = le.fit_transform(targets)  # Now y is a NumPy array of integers\n",
        "y = torch.tensor(y, dtype=torch.long)"
      ],
      "metadata": {
        "id": "NL7fc3aVuZ_z"
      },
      "execution_count": 18,
      "outputs": []
    },
    {
      "cell_type": "code",
      "source": [
        "# Create Different Edges\n",
        "directions = ['upper', 'lower', 'left', 'right', 'near']\n",
        "def encode_relation(relation):\n",
        "    one_hot = [0] * len(directions)\n",
        "    if relation in directions:\n",
        "        one_hot[directions.index(relation)] = 1\n",
        "    return one_hot"
      ],
      "metadata": {
        "id": "vekkZ2v5XmmI"
      },
      "execution_count": 19,
      "outputs": []
    },
    {
      "cell_type": "code",
      "source": [
        "edge_index = []\n",
        "edge_attr = []\n",
        "for index, node in enumerate(graph.node_dict.values()):\n",
        "  node.index = index\n",
        "for node in graph.node_dict.values():\n",
        "  for near_node in node.near:\n",
        "    edge_index.append([node.index, near_node.index])\n",
        "    edge_attr.append(encode_relation(\"near\"))\n",
        "  # Encode relation as one-hot (upper, lower, left, right)\n",
        "  neighbours = CP.assign_neighbours(node, atol = 0.01, return_type = \"guid\")\n",
        "  print(neighbours)\n",
        "  for neighbour, direction in zip(neighbours, directions[0:4]):\n",
        "    if neighbours != None:\n",
        "      edge_index.append([node.index, neighbour])\n",
        "      edge_attr.append(encode_relation(direction))\n",
        "# edge_index = torch.tensor(edge_index, dtype=torch.long).t().contiguous()"
      ],
      "metadata": {
        "colab": {
          "base_uri": "https://localhost:8080/"
        },
        "id": "CxSn6AnZWXUD",
        "outputId": "263f7584-05b7-4063-a6c5-12ffadc57ee7"
      },
      "execution_count": 20,
      "outputs": [
        {
          "output_type": "stream",
          "name": "stdout",
          "text": [
            "['3nybgsQSbEs8xcSjSdiYZd', '3nybgsQSbEs8xcSjSdiYZd', '3nybgsQSbEs8xcSjSdiYZd', '3nybgsQSbEs8xcSjSdiYZd']\n",
            "['1nRaH42K52fBjm0EvslVLP', None, '1nRaH42K52fBjm0EvslVLP', '1nRaH42K52fBjm0EvslVLP']\n",
            "['17Ca1esrb67BbaN7S1xyMh', '17Ca1esrb67BbaN7S1xyMh', '17Ca1esrb67BbaN7S1xyMh', '17Ca1esrb67BbaN7S1xyMh']\n",
            "['3CcAbWEpj63wbgePaaSoY4', '3CcAbWEpj63wbgePaaSoY4', '3CcAbWEpj63wbgePaaSoY4', '3CcAbWEpj63wbgePaaSoY4']\n",
            "['1K6v4JbBbDkBJkC1Sluu2u', None, '1K6v4JbBbDkBJkC1Sluu2u', '1K6v4JbBbDkBJkC1Sluu2u']\n",
            "['2_7LMc0Xf7jgBWXXlkbTzE', '2_7LMc0Xf7jgBWXXlkbTzE', '2_7LMc0Xf7jgBWXXlkbTzE', '2_7LMc0Xf7jgBWXXlkbTzE']\n",
            "['1FHoBBt_bFcA_4DQeUlxsx', '1FHoBBt_bFcA_4DQeUlxsx', None, '1FHoBBt_bFcA_4DQeUlxsx']\n",
            "['1g5PqKudj7M86JP_MhAYUA', None, None, '1g5PqKudj7M86JP_MhAYUA']\n",
            "['0F2Xa6lEn7mR7DECYVf7_x', '0F2Xa6lEn7mR7DECYVf7_x', '0F2Xa6lEn7mR7DECYVf7_x', '0F2Xa6lEn7mR7DECYVf7_x']\n",
            "['2c_PCphkH0VwqZKKk1zN2b', '2c_PCphkH0VwqZKKk1zN2b', '2c_PCphkH0VwqZKKk1zN2b', '2c_PCphkH0VwqZKKk1zN2b']\n",
            "['154wujlQ9B3QS$vDj2ApE1', None, None, '154wujlQ9B3QS$vDj2ApE1']\n",
            "['0Oi7VIW014ThHlf_jNQvBG', '0Oi7VIW014ThHlf_jNQvBG', '0Oi7VIW014ThHlf_jNQvBG', '0Oi7VIW014ThHlf_jNQvBG']\n",
            "['0FP67ykx52Vfl8QLxsd_j1', '0FP67ykx52Vfl8QLxsd_j1', '0FP67ykx52Vfl8QLxsd_j1', '0FP67ykx52Vfl8QLxsd_j1']\n",
            "[None, '28aBLRPE1BG8SIr2KuT2kw', '28aBLRPE1BG8SIr2KuT2kw', '28aBLRPE1BG8SIr2KuT2kw']\n",
            "[None, '0_rR1BdgX1VwLmdcGWmD2O', '0_rR1BdgX1VwLmdcGWmD2O', '0_rR1BdgX1VwLmdcGWmD2O']\n",
            "['2WbK8p_kb6cRKSWPqmla8n', '2WbK8p_kb6cRKSWPqmla8n', '2WbK8p_kb6cRKSWPqmla8n', '2WbK8p_kb6cRKSWPqmla8n']\n",
            "['36XteQvqz2cPSjE92NXQSq', '36XteQvqz2cPSjE92NXQSq', '36XteQvqz2cPSjE92NXQSq', '36XteQvqz2cPSjE92NXQSq']\n",
            "['1OH8J2IWb2YPt30EGADuUA', '1OH8J2IWb2YPt30EGADuUA', '1OH8J2IWb2YPt30EGADuUA', '1OH8J2IWb2YPt30EGADuUA']\n",
            "['1GQtQBII1Ciel1nBYV7cFW', '1GQtQBII1Ciel1nBYV7cFW', '1GQtQBII1Ciel1nBYV7cFW', '1GQtQBII1Ciel1nBYV7cFW']\n",
            "['0zHIcAc453YAUUP5xy3NDw', '0zHIcAc453YAUUP5xy3NDw', '0zHIcAc453YAUUP5xy3NDw', '0zHIcAc453YAUUP5xy3NDw']\n",
            "['2zqO4Q0rvA6gokEvYmbFva', None, '2zqO4Q0rvA6gokEvYmbFva', '2zqO4Q0rvA6gokEvYmbFva']\n",
            "['0TdI$JVbb9kP$N19gKiP9w', '0TdI$JVbb9kP$N19gKiP9w', '0TdI$JVbb9kP$N19gKiP9w', '0TdI$JVbb9kP$N19gKiP9w']\n",
            "['3M9oL6uxL3wxg7iax8tmey', '3M9oL6uxL3wxg7iax8tmey', '3M9oL6uxL3wxg7iax8tmey', '3M9oL6uxL3wxg7iax8tmey']\n",
            "['3NprsJ7LfBkg4P6D0AlfMW', '3NprsJ7LfBkg4P6D0AlfMW', '3NprsJ7LfBkg4P6D0AlfMW', '3NprsJ7LfBkg4P6D0AlfMW']\n",
            "['0NEuSIZFPCggB601vLejaz', '0NEuSIZFPCggB601vLejaz', '0NEuSIZFPCggB601vLejaz', '0NEuSIZFPCggB601vLejaz']\n",
            "['0dc6FGyi1ALBniZlR54ppR', '0dc6FGyi1ALBniZlR54ppR', '0dc6FGyi1ALBniZlR54ppR', '0dc6FGyi1ALBniZlR54ppR']\n",
            "['1rdCHCcPP3FQmBpABMYbDg', '1rdCHCcPP3FQmBpABMYbDg', '1rdCHCcPP3FQmBpABMYbDg', '1rdCHCcPP3FQmBpABMYbDg']\n",
            "['2$xmmZxlzEBA$2CKfO0jYH', '2$xmmZxlzEBA$2CKfO0jYH', '2$xmmZxlzEBA$2CKfO0jYH', '2$xmmZxlzEBA$2CKfO0jYH']\n",
            "['3vCHKIfl5D98aKKOrI_mXU', '3vCHKIfl5D98aKKOrI_mXU', '3vCHKIfl5D98aKKOrI_mXU', '3vCHKIfl5D98aKKOrI_mXU']\n",
            "['23a9oCgw5CDhGYlXtHjbC1', '23a9oCgw5CDhGYlXtHjbC1', '23a9oCgw5CDhGYlXtHjbC1', '23a9oCgw5CDhGYlXtHjbC1']\n",
            "['1eI3VPWyb6yfZt7y0E82uY', '1eI3VPWyb6yfZt7y0E82uY', '1eI3VPWyb6yfZt7y0E82uY', '1eI3VPWyb6yfZt7y0E82uY']\n",
            "['1r0LUloVr72u46x0qKjZJR', '1r0LUloVr72u46x0qKjZJR', '1r0LUloVr72u46x0qKjZJR', '1r0LUloVr72u46x0qKjZJR']\n",
            "['1sCS8tiezCxfJHAiNTfc0q', '1sCS8tiezCxfJHAiNTfc0q', '1sCS8tiezCxfJHAiNTfc0q', '1sCS8tiezCxfJHAiNTfc0q']\n",
            "['10ITbP7tj9QxRMndxCDiaq', '10ITbP7tj9QxRMndxCDiaq', '10ITbP7tj9QxRMndxCDiaq', '10ITbP7tj9QxRMndxCDiaq']\n",
            "['2FQHPJ30nEVPcqIUba8A5n', '2FQHPJ30nEVPcqIUba8A5n', '2FQHPJ30nEVPcqIUba8A5n', '2FQHPJ30nEVPcqIUba8A5n']\n",
            "['00uRuC6Kn8IfD16Va$zgQv', '00uRuC6Kn8IfD16Va$zgQv', '00uRuC6Kn8IfD16Va$zgQv', '00uRuC6Kn8IfD16Va$zgQv']\n",
            "['1loKOYcBj7Nxn9kgAdVUro', '1loKOYcBj7Nxn9kgAdVUro', '1loKOYcBj7Nxn9kgAdVUro', '1loKOYcBj7Nxn9kgAdVUro']\n",
            "['2chS4NwXL2FhcXwl4mxrWp', '2chS4NwXL2FhcXwl4mxrWp', '2chS4NwXL2FhcXwl4mxrWp', '2chS4NwXL2FhcXwl4mxrWp']\n",
            "['10sL7cgab9MgwjiEpyeFVy', '10sL7cgab9MgwjiEpyeFVy', '10sL7cgab9MgwjiEpyeFVy', '10sL7cgab9MgwjiEpyeFVy']\n",
            "['1_EGlzbMr2QgrUlj4s5rMs', '1_EGlzbMr2QgrUlj4s5rMs', '1_EGlzbMr2QgrUlj4s5rMs', '1_EGlzbMr2QgrUlj4s5rMs']\n",
            "['0KGG49vZH06OLfwSz4J80L', '0KGG49vZH06OLfwSz4J80L', '0KGG49vZH06OLfwSz4J80L', '0KGG49vZH06OLfwSz4J80L']\n",
            "['2avgeyv1D4Ig1fMa56Janp', '2avgeyv1D4Ig1fMa56Janp', '2avgeyv1D4Ig1fMa56Janp', '2avgeyv1D4Ig1fMa56Janp']\n",
            "['3im_Ze5Sv71uEvicbyFGdi', '3im_Ze5Sv71uEvicbyFGdi', '3im_Ze5Sv71uEvicbyFGdi', '3im_Ze5Sv71uEvicbyFGdi']\n",
            "['2nU5G2I2nDYRsQOZs8bwu1', '2nU5G2I2nDYRsQOZs8bwu1', '2nU5G2I2nDYRsQOZs8bwu1', '2nU5G2I2nDYRsQOZs8bwu1']\n",
            "['0Gsf28wAH3Sxq9g1RCRIbz', '0Gsf28wAH3Sxq9g1RCRIbz', '0Gsf28wAH3Sxq9g1RCRIbz', '0Gsf28wAH3Sxq9g1RCRIbz']\n",
            "['38XHD3cR93s9BdCX2E3CYV', '38XHD3cR93s9BdCX2E3CYV', '38XHD3cR93s9BdCX2E3CYV', '38XHD3cR93s9BdCX2E3CYV']\n",
            "['2BUi7SU9T0yfIHQuPmzttC', '2BUi7SU9T0yfIHQuPmzttC', '2BUi7SU9T0yfIHQuPmzttC', '2BUi7SU9T0yfIHQuPmzttC']\n",
            "['2xgC0thtv9khOYPA72fLUj', '2xgC0thtv9khOYPA72fLUj', '2xgC0thtv9khOYPA72fLUj', '2xgC0thtv9khOYPA72fLUj']\n",
            "['3e2oYUPnvFp9DUsLPFxqmT', '3e2oYUPnvFp9DUsLPFxqmT', '3e2oYUPnvFp9DUsLPFxqmT', '3e2oYUPnvFp9DUsLPFxqmT']\n",
            "['3N_gEep9X9$89nWtwcnXye', '3N_gEep9X9$89nWtwcnXye', '3N_gEep9X9$89nWtwcnXye', '3N_gEep9X9$89nWtwcnXye']\n",
            "['1RiijDhl58P8S1bdgv1Ar2', '1RiijDhl58P8S1bdgv1Ar2', '1RiijDhl58P8S1bdgv1Ar2', '1RiijDhl58P8S1bdgv1Ar2']\n",
            "['2t5Dc_P6LAQxsNJlWPfvpN', '2t5Dc_P6LAQxsNJlWPfvpN', '2t5Dc_P6LAQxsNJlWPfvpN', '2t5Dc_P6LAQxsNJlWPfvpN']\n",
            "['3rCMaWAz1DWBkU0RjB6Efh', '3rCMaWAz1DWBkU0RjB6Efh', '3rCMaWAz1DWBkU0RjB6Efh', '3rCMaWAz1DWBkU0RjB6Efh']\n",
            "['2rXObCWq50UwXGKts6vFU2', '2rXObCWq50UwXGKts6vFU2', '2rXObCWq50UwXGKts6vFU2', '2rXObCWq50UwXGKts6vFU2']\n",
            "['1Sg4jSBKL5_QxCfYyN23iC', '1Sg4jSBKL5_QxCfYyN23iC', '1Sg4jSBKL5_QxCfYyN23iC', '1Sg4jSBKL5_QxCfYyN23iC']\n",
            "['2oMNvrrQvE1uhdDRYExAXf', '2oMNvrrQvE1uhdDRYExAXf', '2oMNvrrQvE1uhdDRYExAXf', '2oMNvrrQvE1uhdDRYExAXf']\n",
            "['1JtngbbIv4Ffen1_caWczz', '1JtngbbIv4Ffen1_caWczz', '1JtngbbIv4Ffen1_caWczz', '1JtngbbIv4Ffen1_caWczz']\n",
            "['22S02xm954jvVobcy6N5CK', '22S02xm954jvVobcy6N5CK', '22S02xm954jvVobcy6N5CK', '22S02xm954jvVobcy6N5CK']\n",
            "['0aK3_SY6f5COobjGcQRygU', '0aK3_SY6f5COobjGcQRygU', '0aK3_SY6f5COobjGcQRygU', '0aK3_SY6f5COobjGcQRygU']\n",
            "['2V8dwN4LP38x8hLGA3jgfM', '2V8dwN4LP38x8hLGA3jgfM', '2V8dwN4LP38x8hLGA3jgfM', '2V8dwN4LP38x8hLGA3jgfM']\n",
            "['3auolqFGj7MuOePQLtt4QD', '3auolqFGj7MuOePQLtt4QD', '3auolqFGj7MuOePQLtt4QD', '3auolqFGj7MuOePQLtt4QD']\n",
            "['3VqO3hgaDCL8TWv9UKJ6Pw', '3VqO3hgaDCL8TWv9UKJ6Pw', '3VqO3hgaDCL8TWv9UKJ6Pw', '3VqO3hgaDCL8TWv9UKJ6Pw']\n",
            "['1qDvgcmH1AsA7TKDK3mPRl', '1qDvgcmH1AsA7TKDK3mPRl', '1qDvgcmH1AsA7TKDK3mPRl', '1qDvgcmH1AsA7TKDK3mPRl']\n",
            "['2d5mkZhAH1oQnaKar8TBkm', '2d5mkZhAH1oQnaKar8TBkm', '2d5mkZhAH1oQnaKar8TBkm', '2d5mkZhAH1oQnaKar8TBkm']\n",
            "['1XQCQrk6jEp9sv8G$Ah8BG', '1XQCQrk6jEp9sv8G$Ah8BG', '1XQCQrk6jEp9sv8G$Ah8BG', '1XQCQrk6jEp9sv8G$Ah8BG']\n",
            "['0mVXTwxAHESw2eUpFA8v_Z', '0mVXTwxAHESw2eUpFA8v_Z', '0mVXTwxAHESw2eUpFA8v_Z', '0mVXTwxAHESw2eUpFA8v_Z']\n",
            "['0bUb0O0PH60xaQ_FsCX_ou', '0bUb0O0PH60xaQ_FsCX_ou', '0bUb0O0PH60xaQ_FsCX_ou', '0bUb0O0PH60xaQ_FsCX_ou']\n",
            "['2DF_57fhrFWgLLT7qDglRC', '2DF_57fhrFWgLLT7qDglRC', '2DF_57fhrFWgLLT7qDglRC', '2DF_57fhrFWgLLT7qDglRC']\n",
            "[None, '1K$8Ku4NPFcAJ9X46IE_rz', '1K$8Ku4NPFcAJ9X46IE_rz', '1K$8Ku4NPFcAJ9X46IE_rz']\n",
            "['38etAjtY94yR9Iz7PW6muJ', '38etAjtY94yR9Iz7PW6muJ', '38etAjtY94yR9Iz7PW6muJ', '38etAjtY94yR9Iz7PW6muJ']\n",
            "['24GGV0MlPCtRNeSbMv$ndN', '24GGV0MlPCtRNeSbMv$ndN', '24GGV0MlPCtRNeSbMv$ndN', '24GGV0MlPCtRNeSbMv$ndN']\n",
            "['0s2avnVezEQxP3GDgRf3dd', '0s2avnVezEQxP3GDgRf3dd', '0s2avnVezEQxP3GDgRf3dd', '0s2avnVezEQxP3GDgRf3dd']\n",
            "['2$tmCZuB53gvTy99$DiznL', '2$tmCZuB53gvTy99$DiznL', '2$tmCZuB53gvTy99$DiznL', '2$tmCZuB53gvTy99$DiznL']\n",
            "['1N0F6pZDzCEuyIawqiIulj', '1N0F6pZDzCEuyIawqiIulj', '1N0F6pZDzCEuyIawqiIulj', '1N0F6pZDzCEuyIawqiIulj']\n",
            "['3DepBp71X7APqfF1IjmF2z', '3DepBp71X7APqfF1IjmF2z', '3DepBp71X7APqfF1IjmF2z', '3DepBp71X7APqfF1IjmF2z']\n",
            "['3sAeRgKyvEtvLaDo_j2iCa', '3sAeRgKyvEtvLaDo_j2iCa', '3sAeRgKyvEtvLaDo_j2iCa', '3sAeRgKyvEtvLaDo_j2iCa']\n",
            "['2m2Jz1$NHESfeSXBouO7eG', '2m2Jz1$NHESfeSXBouO7eG', '2m2Jz1$NHESfeSXBouO7eG', '2m2Jz1$NHESfeSXBouO7eG']\n",
            "['2pltbWebP8QRVGYXM5ch6M', '2pltbWebP8QRVGYXM5ch6M', '2pltbWebP8QRVGYXM5ch6M', '2pltbWebP8QRVGYXM5ch6M']\n",
            "['3ch7TfZhnBZu3FscPM2AVN', '3ch7TfZhnBZu3FscPM2AVN', '3ch7TfZhnBZu3FscPM2AVN', '3ch7TfZhnBZu3FscPM2AVN']\n",
            "['1pfHOEK592d8$2RLt1gTQQ', '1pfHOEK592d8$2RLt1gTQQ', '1pfHOEK592d8$2RLt1gTQQ', '1pfHOEK592d8$2RLt1gTQQ']\n",
            "['2GCmK3UaP4D9$SGJOwuTvn', '2GCmK3UaP4D9$SGJOwuTvn', '2GCmK3UaP4D9$SGJOwuTvn', '2GCmK3UaP4D9$SGJOwuTvn']\n",
            "['0yE8xHNV11bgAbtRvSzCHW', '0yE8xHNV11bgAbtRvSzCHW', '0yE8xHNV11bgAbtRvSzCHW', '0yE8xHNV11bgAbtRvSzCHW']\n",
            "['0tSvzT2in5Ox_f5cfzLdkk', '0tSvzT2in5Ox_f5cfzLdkk', '0tSvzT2in5Ox_f5cfzLdkk', None]\n",
            "[None, '3XDvnQJPj2B9J$8W1k1bdZ', '3XDvnQJPj2B9J$8W1k1bdZ', '3XDvnQJPj2B9J$8W1k1bdZ']\n",
            "['0Cx2oIR412tAuCdwQlrkQi', '0Cx2oIR412tAuCdwQlrkQi', '0Cx2oIR412tAuCdwQlrkQi', '0Cx2oIR412tAuCdwQlrkQi']\n",
            "['35nd9WGZ95HxNwCDGcy$6N', '35nd9WGZ95HxNwCDGcy$6N', '35nd9WGZ95HxNwCDGcy$6N', '35nd9WGZ95HxNwCDGcy$6N']\n",
            "['0IoHrRg7n30uem3VHPogwo', '0IoHrRg7n30uem3VHPogwo', '0IoHrRg7n30uem3VHPogwo', None]\n",
            "[None, '0KuudDcFn3dPMl2Q3APISD', None, '0KuudDcFn3dPMl2Q3APISD']\n",
            "['00n4wBngLESh3sJgGPM8tl', '00n4wBngLESh3sJgGPM8tl', '00n4wBngLESh3sJgGPM8tl', '00n4wBngLESh3sJgGPM8tl']\n",
            "['0DPk3As8fAPwVPbv4Ds3ps', '0DPk3As8fAPwVPbv4Ds3ps', '0DPk3As8fAPwVPbv4Ds3ps', '0DPk3As8fAPwVPbv4Ds3ps']\n",
            "['0G$335TdbDGe5cSHqOSm3A', '0G$335TdbDGe5cSHqOSm3A', '0G$335TdbDGe5cSHqOSm3A', '0G$335TdbDGe5cSHqOSm3A']\n",
            "['0js3D2vQP9PeLECr8TXDwW', '0js3D2vQP9PeLECr8TXDwW', '0js3D2vQP9PeLECr8TXDwW', '0js3D2vQP9PeLECr8TXDwW']\n",
            "['39efPCs7L6deu3HqC2ZIPf', '39efPCs7L6deu3HqC2ZIPf', '39efPCs7L6deu3HqC2ZIPf', '39efPCs7L6deu3HqC2ZIPf']\n",
            "['0TROaHn9D8ZQ3imL_4cji4', '0TROaHn9D8ZQ3imL_4cji4', '0TROaHn9D8ZQ3imL_4cji4', '0TROaHn9D8ZQ3imL_4cji4']\n",
            "['133eU2RKn2bvFweJUpceaf', '133eU2RKn2bvFweJUpceaf', '133eU2RKn2bvFweJUpceaf', '133eU2RKn2bvFweJUpceaf']\n",
            "['0Z1coc83X2yQPcyoBcYtTW', '0Z1coc83X2yQPcyoBcYtTW', '0Z1coc83X2yQPcyoBcYtTW', '0Z1coc83X2yQPcyoBcYtTW']\n",
            "['0TMBUvH2P4MuAcpVUWArlX', '0TMBUvH2P4MuAcpVUWArlX', '0TMBUvH2P4MuAcpVUWArlX', '0TMBUvH2P4MuAcpVUWArlX']\n",
            "['1zi0wCp9LE1Qk5DpRezmQf', '1zi0wCp9LE1Qk5DpRezmQf', '1zi0wCp9LE1Qk5DpRezmQf', '1zi0wCp9LE1Qk5DpRezmQf']\n",
            "['1oJDOy6JP1B9fxrICLd_Eb', '1oJDOy6JP1B9fxrICLd_Eb', '1oJDOy6JP1B9fxrICLd_Eb', '1oJDOy6JP1B9fxrICLd_Eb']\n",
            "['0$2r$ONcH3WwII0f94mpoN', '0$2r$ONcH3WwII0f94mpoN', '0$2r$ONcH3WwII0f94mpoN', '0$2r$ONcH3WwII0f94mpoN']\n",
            "['3sJMspG3r1mB5jWNk00Cbt', '3sJMspG3r1mB5jWNk00Cbt', '3sJMspG3r1mB5jWNk00Cbt', '3sJMspG3r1mB5jWNk00Cbt']\n",
            "['2y1QoTwJzAD8PH0X7bS2p2', '2y1QoTwJzAD8PH0X7bS2p2', '2y1QoTwJzAD8PH0X7bS2p2', '2y1QoTwJzAD8PH0X7bS2p2']\n",
            "['0XisUq8fX1ZxlsjPhPb3Sf', '0XisUq8fX1ZxlsjPhPb3Sf', '0XisUq8fX1ZxlsjPhPb3Sf', '0XisUq8fX1ZxlsjPhPb3Sf']\n",
            "['0LTIrzjNz1au4uXi6nwHHi', '0LTIrzjNz1au4uXi6nwHHi', '0LTIrzjNz1au4uXi6nwHHi', '0LTIrzjNz1au4uXi6nwHHi']\n",
            "['0kHS97hvnCev$vIaP$vA9y', '0kHS97hvnCev$vIaP$vA9y', '0kHS97hvnCev$vIaP$vA9y', '0kHS97hvnCev$vIaP$vA9y']\n",
            "['2e$6kGnQX60QRbpq8u7ZAq', '2e$6kGnQX60QRbpq8u7ZAq', '2e$6kGnQX60QRbpq8u7ZAq', '2e$6kGnQX60QRbpq8u7ZAq']\n",
            "['2M$j6RBTP8n8vZsyOq9jHn', '2M$j6RBTP8n8vZsyOq9jHn', '2M$j6RBTP8n8vZsyOq9jHn', '2M$j6RBTP8n8vZsyOq9jHn']\n",
            "[None, '0zlLHiur1ElR$u0pjr99AU', '0zlLHiur1ElR$u0pjr99AU', '0zlLHiur1ElR$u0pjr99AU']\n",
            "['1x_$CPnOX4T9RrtlyvpIxg', '1x_$CPnOX4T9RrtlyvpIxg', '1x_$CPnOX4T9RrtlyvpIxg', '1x_$CPnOX4T9RrtlyvpIxg']\n",
            "['3hYzt4oV51QQCZgo4StTTx', '3hYzt4oV51QQCZgo4StTTx', '3hYzt4oV51QQCZgo4StTTx', '3hYzt4oV51QQCZgo4StTTx']\n",
            "['2MCxiAicH1nRUNlsLuwj3q', '2MCxiAicH1nRUNlsLuwj3q', '2MCxiAicH1nRUNlsLuwj3q', '2MCxiAicH1nRUNlsLuwj3q']\n",
            "['13d9zGmuz31BY0HVQstgV0', '13d9zGmuz31BY0HVQstgV0', '13d9zGmuz31BY0HVQstgV0', '13d9zGmuz31BY0HVQstgV0']\n",
            "['3fxNE6l$z01xbprPNLKBYX', '3fxNE6l$z01xbprPNLKBYX', '3fxNE6l$z01xbprPNLKBYX', '3fxNE6l$z01xbprPNLKBYX']\n",
            "['0gpXDpxZLAmxJm_EsMOTwI', '0gpXDpxZLAmxJm_EsMOTwI', '0gpXDpxZLAmxJm_EsMOTwI', '0gpXDpxZLAmxJm_EsMOTwI']\n",
            "['31_nGQTvv9ee_NlwTpsOH5', '31_nGQTvv9ee_NlwTpsOH5', '31_nGQTvv9ee_NlwTpsOH5', '31_nGQTvv9ee_NlwTpsOH5']\n",
            "['2DtwprQIr8GPurnEZzh9be', '2DtwprQIr8GPurnEZzh9be', '2DtwprQIr8GPurnEZzh9be', '2DtwprQIr8GPurnEZzh9be']\n",
            "['1TgncafVDFPgb6J77Z2sKM', '1TgncafVDFPgb6J77Z2sKM', '1TgncafVDFPgb6J77Z2sKM', '1TgncafVDFPgb6J77Z2sKM']\n",
            "['0_Z0ufZZLDW8G92qPZxYJx', '0_Z0ufZZLDW8G92qPZxYJx', '0_Z0ufZZLDW8G92qPZxYJx', None]\n",
            "['3ug$zsJZb83ROpqznUIvNt', '3ug$zsJZb83ROpqznUIvNt', '3ug$zsJZb83ROpqznUIvNt', '3ug$zsJZb83ROpqznUIvNt']\n",
            "['1mH5nqzfDCUQZ_8$sXA0hV', '1mH5nqzfDCUQZ_8$sXA0hV', '1mH5nqzfDCUQZ_8$sXA0hV', '1mH5nqzfDCUQZ_8$sXA0hV']\n",
            "['3eDs5y2jz4YApxq0WfX74u', '3eDs5y2jz4YApxq0WfX74u', '3eDs5y2jz4YApxq0WfX74u', '3eDs5y2jz4YApxq0WfX74u']\n",
            "['2_SjKqEjL6lQqgbpGI4LLk', '2_SjKqEjL6lQqgbpGI4LLk', '2_SjKqEjL6lQqgbpGI4LLk', '2_SjKqEjL6lQqgbpGI4LLk']\n",
            "['1DmB$vqNf59OOsUXMn43vX', '1DmB$vqNf59OOsUXMn43vX', '1DmB$vqNf59OOsUXMn43vX', '1DmB$vqNf59OOsUXMn43vX']\n",
            "['1AfUDPkWr2NghNvPvafnZh', '1AfUDPkWr2NghNvPvafnZh', '1AfUDPkWr2NghNvPvafnZh', '1AfUDPkWr2NghNvPvafnZh']\n",
            "['3YhLlCEMXF$8lkIkWayX$m', '3YhLlCEMXF$8lkIkWayX$m', '3YhLlCEMXF$8lkIkWayX$m', '3YhLlCEMXF$8lkIkWayX$m']\n",
            "['0LtqPOr1zBIPp934jw3N$_', '0LtqPOr1zBIPp934jw3N$_', '0LtqPOr1zBIPp934jw3N$_', '0LtqPOr1zBIPp934jw3N$_']\n",
            "['09eCsX2e91Av1mvaETVQuR', '09eCsX2e91Av1mvaETVQuR', '09eCsX2e91Av1mvaETVQuR', '09eCsX2e91Av1mvaETVQuR']\n",
            "['0um_KWCmL2OvcNjVau2Sw9', '0um_KWCmL2OvcNjVau2Sw9', '0um_KWCmL2OvcNjVau2Sw9', '0um_KWCmL2OvcNjVau2Sw9']\n",
            "['3QJf4cRx14lgG79bUMB1UQ', '3QJf4cRx14lgG79bUMB1UQ', '3QJf4cRx14lgG79bUMB1UQ', '3QJf4cRx14lgG79bUMB1UQ']\n",
            "['039z$quFz61woJ$cw33cuZ', '039z$quFz61woJ$cw33cuZ', '039z$quFz61woJ$cw33cuZ', '039z$quFz61woJ$cw33cuZ']\n",
            "['0mDeBFYYHF1fS_Jt3_2CHP', '0mDeBFYYHF1fS_Jt3_2CHP', '0mDeBFYYHF1fS_Jt3_2CHP', '0mDeBFYYHF1fS_Jt3_2CHP']\n",
            "['27TRj3jnb7HQTvEYskwJ3N', '27TRj3jnb7HQTvEYskwJ3N', None, '27TRj3jnb7HQTvEYskwJ3N']\n",
            "['0OrptQbBvDuREURWDmrF6J', '0OrptQbBvDuREURWDmrF6J', '0OrptQbBvDuREURWDmrF6J', None]\n",
            "['1_rtKvtlr3TePKZLme$6Mg', '1_rtKvtlr3TePKZLme$6Mg', '1_rtKvtlr3TePKZLme$6Mg', '1_rtKvtlr3TePKZLme$6Mg']\n",
            "['20wpyHsf96ufLInahE0lw8', '20wpyHsf96ufLInahE0lw8', '20wpyHsf96ufLInahE0lw8', '20wpyHsf96ufLInahE0lw8']\n",
            "['2uWRTwizj4XB$kx5jYHQPA', '2uWRTwizj4XB$kx5jYHQPA', '2uWRTwizj4XB$kx5jYHQPA', '2uWRTwizj4XB$kx5jYHQPA']\n",
            "['1eTC9U0i94LeyC00WkENwX', '1eTC9U0i94LeyC00WkENwX', '1eTC9U0i94LeyC00WkENwX', '1eTC9U0i94LeyC00WkENwX']\n",
            "['2BKiQSzRT58AUaR2_5quE8', '2BKiQSzRT58AUaR2_5quE8', '2BKiQSzRT58AUaR2_5quE8', '2BKiQSzRT58AUaR2_5quE8']\n",
            "['3kae0iJTT98AzpTIrpDguT', '3kae0iJTT98AzpTIrpDguT', None, '3kae0iJTT98AzpTIrpDguT']\n",
            "['24G$ybNDz3eODETenKMb8v', '24G$ybNDz3eODETenKMb8v', '24G$ybNDz3eODETenKMb8v', '24G$ybNDz3eODETenKMb8v']\n",
            "['2gvaEFFI9BcxZmH2j_AAWj', '2gvaEFFI9BcxZmH2j_AAWj', '2gvaEFFI9BcxZmH2j_AAWj', '2gvaEFFI9BcxZmH2j_AAWj']\n",
            "['0N1Bvf5LT4UvK$tNPDl6aK', '0N1Bvf5LT4UvK$tNPDl6aK', '0N1Bvf5LT4UvK$tNPDl6aK', '0N1Bvf5LT4UvK$tNPDl6aK']\n",
            "['36f$qIRjL33efEwDmuMd4K', '36f$qIRjL33efEwDmuMd4K', None, '36f$qIRjL33efEwDmuMd4K']\n",
            "['3sxoczPwD1d9BipIwphREx', '3sxoczPwD1d9BipIwphREx', None, '3sxoczPwD1d9BipIwphREx']\n",
            "['322t7wCOHCZAzzeSGjeFFF', '322t7wCOHCZAzzeSGjeFFF', '322t7wCOHCZAzzeSGjeFFF', '322t7wCOHCZAzzeSGjeFFF']\n",
            "['0rZ7yXwvPCdeGxbLoaKKyk', '0rZ7yXwvPCdeGxbLoaKKyk', '0rZ7yXwvPCdeGxbLoaKKyk', '0rZ7yXwvPCdeGxbLoaKKyk']\n",
            "['3Eg$3mb7j8mBVY6Ha5LN8w', '3Eg$3mb7j8mBVY6Ha5LN8w', '3Eg$3mb7j8mBVY6Ha5LN8w', '3Eg$3mb7j8mBVY6Ha5LN8w']\n",
            "['0z8QvyfFz9cAiH0lglgym_', '0z8QvyfFz9cAiH0lglgym_', '0z8QvyfFz9cAiH0lglgym_', '0z8QvyfFz9cAiH0lglgym_']\n",
            "['0iJHDAhgb8IBn49TtwD5n0', '0iJHDAhgb8IBn49TtwD5n0', '0iJHDAhgb8IBn49TtwD5n0', '0iJHDAhgb8IBn49TtwD5n0']\n",
            "['3TlaXn10n6DPFsEtqDRhGO', '3TlaXn10n6DPFsEtqDRhGO', '3TlaXn10n6DPFsEtqDRhGO', '3TlaXn10n6DPFsEtqDRhGO']\n",
            "['2QBvvbF6f0KOB8WPRYsmv7', '2QBvvbF6f0KOB8WPRYsmv7', '2QBvvbF6f0KOB8WPRYsmv7', '2QBvvbF6f0KOB8WPRYsmv7']\n",
            "['0xpTm6d6XBmRmFP5V7KMU9', '0xpTm6d6XBmRmFP5V7KMU9', '0xpTm6d6XBmRmFP5V7KMU9', '0xpTm6d6XBmRmFP5V7KMU9']\n",
            "['3fjZHCezL4P9oACz6klcTL', '3fjZHCezL4P9oACz6klcTL', '3fjZHCezL4P9oACz6klcTL', '3fjZHCezL4P9oACz6klcTL']\n",
            "['1y172TqNPB1Plt81uvMbxS', '1y172TqNPB1Plt81uvMbxS', '1y172TqNPB1Plt81uvMbxS', '1y172TqNPB1Plt81uvMbxS']\n",
            "['2fsE5wxoL04BD1HxMAWLBN', '2fsE5wxoL04BD1HxMAWLBN', '2fsE5wxoL04BD1HxMAWLBN', '2fsE5wxoL04BD1HxMAWLBN']\n",
            "['2Xw2tzqor5gwzEhozUr74z', '2Xw2tzqor5gwzEhozUr74z', '2Xw2tzqor5gwzEhozUr74z', '2Xw2tzqor5gwzEhozUr74z']\n",
            "['2sV2rMPtr93hUWjTEQFaD3', '2sV2rMPtr93hUWjTEQFaD3', '2sV2rMPtr93hUWjTEQFaD3', '2sV2rMPtr93hUWjTEQFaD3']\n",
            "['2FZBhWyBH2Gud6qEfz9MA2', '2FZBhWyBH2Gud6qEfz9MA2', '2FZBhWyBH2Gud6qEfz9MA2', '2FZBhWyBH2Gud6qEfz9MA2']\n",
            "['1$RyfOuFPCqP9r71dkwRbU', '1$RyfOuFPCqP9r71dkwRbU', '1$RyfOuFPCqP9r71dkwRbU', '1$RyfOuFPCqP9r71dkwRbU']\n",
            "['0thJtwTybAvfEkUy3Mi6sG', '0thJtwTybAvfEkUy3Mi6sG', '0thJtwTybAvfEkUy3Mi6sG', '0thJtwTybAvfEkUy3Mi6sG']\n",
            "['0mf9zg9Sf0uOdiV0OkHWn5', '0mf9zg9Sf0uOdiV0OkHWn5', '0mf9zg9Sf0uOdiV0OkHWn5', '0mf9zg9Sf0uOdiV0OkHWn5']\n",
            "['23FkHT2APBC9tqYNFMIfav', '23FkHT2APBC9tqYNFMIfav', '23FkHT2APBC9tqYNFMIfav', '23FkHT2APBC9tqYNFMIfav']\n",
            "['0EbbOSWNP89wCmehFOEvZ4', '0EbbOSWNP89wCmehFOEvZ4', '0EbbOSWNP89wCmehFOEvZ4', '0EbbOSWNP89wCmehFOEvZ4']\n",
            "['3PFFWy6GT0X8dbFtb1ZSq9', '3PFFWy6GT0X8dbFtb1ZSq9', '3PFFWy6GT0X8dbFtb1ZSq9', '3PFFWy6GT0X8dbFtb1ZSq9']\n",
            "['3mNqt9vdPDKBPnC7D8lisn', '3mNqt9vdPDKBPnC7D8lisn', '3mNqt9vdPDKBPnC7D8lisn', '3mNqt9vdPDKBPnC7D8lisn']\n",
            "['3U13lJKPX4aBPcXT5aOx7R', '3U13lJKPX4aBPcXT5aOx7R', '3U13lJKPX4aBPcXT5aOx7R', '3U13lJKPX4aBPcXT5aOx7R']\n",
            "['0cM3VfWpr06uutE9cn0vAS', '0cM3VfWpr06uutE9cn0vAS', '0cM3VfWpr06uutE9cn0vAS', '0cM3VfWpr06uutE9cn0vAS']\n",
            "['0reuP8Gb90dRQ9Ck0niz4j', '0reuP8Gb90dRQ9Ck0niz4j', '0reuP8Gb90dRQ9Ck0niz4j', '0reuP8Gb90dRQ9Ck0niz4j']\n",
            "['37iHwGMfD53xzu7uiF5bDH', '37iHwGMfD53xzu7uiF5bDH', '37iHwGMfD53xzu7uiF5bDH', '37iHwGMfD53xzu7uiF5bDH']\n",
            "['0XL9tbNvPCJBBYKVZnpzOo', '0XL9tbNvPCJBBYKVZnpzOo', '0XL9tbNvPCJBBYKVZnpzOo', '0XL9tbNvPCJBBYKVZnpzOo']\n",
            "['1YvAC9R4D1NBTfFFv5xj9$', '1YvAC9R4D1NBTfFFv5xj9$', '1YvAC9R4D1NBTfFFv5xj9$', '1YvAC9R4D1NBTfFFv5xj9$']\n",
            "['1ufHraenzEVvL81xPcQhpu', '1ufHraenzEVvL81xPcQhpu', '1ufHraenzEVvL81xPcQhpu', '1ufHraenzEVvL81xPcQhpu']\n",
            "['3xSfXxkAj9kBjf1jCl_VbL', '3xSfXxkAj9kBjf1jCl_VbL', '3xSfXxkAj9kBjf1jCl_VbL', '3xSfXxkAj9kBjf1jCl_VbL']\n",
            "['1DClCIAs95DQwmWKZL3u_h', '1DClCIAs95DQwmWKZL3u_h', '1DClCIAs95DQwmWKZL3u_h', '1DClCIAs95DQwmWKZL3u_h']\n",
            "['3UpfbRf7P7HwHLL9lSg15R', '3UpfbRf7P7HwHLL9lSg15R', '3UpfbRf7P7HwHLL9lSg15R', '3UpfbRf7P7HwHLL9lSg15R']\n",
            "['3tDMJCPDXCAfglJkJrX1Yl', '3tDMJCPDXCAfglJkJrX1Yl', '3tDMJCPDXCAfglJkJrX1Yl', '3tDMJCPDXCAfglJkJrX1Yl']\n",
            "['0ymEXibA1BWxndxJRpcbpU', '0ymEXibA1BWxndxJRpcbpU', '0ymEXibA1BWxndxJRpcbpU', '0ymEXibA1BWxndxJRpcbpU']\n",
            "['3SkXw5R4DC98Mps1QWEOto', '3SkXw5R4DC98Mps1QWEOto', '3SkXw5R4DC98Mps1QWEOto', '3SkXw5R4DC98Mps1QWEOto']\n",
            "['2TGWzmaXb0qOftW9hGWZxA', '2TGWzmaXb0qOftW9hGWZxA', '2TGWzmaXb0qOftW9hGWZxA', '2TGWzmaXb0qOftW9hGWZxA']\n",
            "['3mDSXbJ45Ag9koWYo$aJ8f', '3mDSXbJ45Ag9koWYo$aJ8f', '3mDSXbJ45Ag9koWYo$aJ8f', '3mDSXbJ45Ag9koWYo$aJ8f']\n",
            "['1aqHYifzP399Aoqg5b295J', '1aqHYifzP399Aoqg5b295J', '1aqHYifzP399Aoqg5b295J', '1aqHYifzP399Aoqg5b295J']\n",
            "['2inAVF3wHEV8fZajC0sX7D', '2inAVF3wHEV8fZajC0sX7D', '2inAVF3wHEV8fZajC0sX7D', '2inAVF3wHEV8fZajC0sX7D']\n",
            "['1B5SHDX$X1vO1UdwJEENCb', '1B5SHDX$X1vO1UdwJEENCb', '1B5SHDX$X1vO1UdwJEENCb', '1B5SHDX$X1vO1UdwJEENCb']\n",
            "['1RqA3hI_LDn9_wGq98cH3d', '1RqA3hI_LDn9_wGq98cH3d', '1RqA3hI_LDn9_wGq98cH3d', '1RqA3hI_LDn9_wGq98cH3d']\n",
            "['28ZJCx7ir52gXJFFa9GFfW', '28ZJCx7ir52gXJFFa9GFfW', '28ZJCx7ir52gXJFFa9GFfW', '28ZJCx7ir52gXJFFa9GFfW']\n",
            "['25em78NZPETvhLOrT0Hxtz', '25em78NZPETvhLOrT0Hxtz', '25em78NZPETvhLOrT0Hxtz', '25em78NZPETvhLOrT0Hxtz']\n",
            "['2WWrv0hmf8lgAwjaV28adp', '2WWrv0hmf8lgAwjaV28adp', '2WWrv0hmf8lgAwjaV28adp', '2WWrv0hmf8lgAwjaV28adp']\n",
            "['3hknbJ_zv4Ux38xb5hy0OK', '3hknbJ_zv4Ux38xb5hy0OK', '3hknbJ_zv4Ux38xb5hy0OK', '3hknbJ_zv4Ux38xb5hy0OK']\n",
            "['2jUWjl21f22wz27slRmrHN', '2jUWjl21f22wz27slRmrHN', '2jUWjl21f22wz27slRmrHN', '2jUWjl21f22wz27slRmrHN']\n",
            "['02hOaRKEjBgAjS9JQMsOP6', '02hOaRKEjBgAjS9JQMsOP6', '02hOaRKEjBgAjS9JQMsOP6', '02hOaRKEjBgAjS9JQMsOP6']\n",
            "['2aC3IZnPT41hX0EETgcK9i', '2aC3IZnPT41hX0EETgcK9i', '2aC3IZnPT41hX0EETgcK9i', '2aC3IZnPT41hX0EETgcK9i']\n",
            "['1q3t_LAZLAp9Jd3y_5T4sf', '1q3t_LAZLAp9Jd3y_5T4sf', '1q3t_LAZLAp9Jd3y_5T4sf', '1q3t_LAZLAp9Jd3y_5T4sf']\n",
            "['3g_LwPgxPAxRWRbwjTaX27', '3g_LwPgxPAxRWRbwjTaX27', '3g_LwPgxPAxRWRbwjTaX27', '3g_LwPgxPAxRWRbwjTaX27']\n",
            "[None, '0TAmI$AOf2HOFYvSNZEV2u', '0TAmI$AOf2HOFYvSNZEV2u', '0TAmI$AOf2HOFYvSNZEV2u']\n",
            "['0J7QUBttL7awKLeeANpSRi', '0J7QUBttL7awKLeeANpSRi', '0J7QUBttL7awKLeeANpSRi', '0J7QUBttL7awKLeeANpSRi']\n",
            "['2tin53J0b5DxW6FUtzXw$N', '2tin53J0b5DxW6FUtzXw$N', '2tin53J0b5DxW6FUtzXw$N', '2tin53J0b5DxW6FUtzXw$N']\n",
            "['19F6LEtSbAVBR1XKPuuhuV', '19F6LEtSbAVBR1XKPuuhuV', '19F6LEtSbAVBR1XKPuuhuV', '19F6LEtSbAVBR1XKPuuhuV']\n",
            "['25QUbgSn11Sg8Mg0FVi20w', '25QUbgSn11Sg8Mg0FVi20w', '25QUbgSn11Sg8Mg0FVi20w', '25QUbgSn11Sg8Mg0FVi20w']\n",
            "['1nAASufsDATfjsa2p_h_jC', '1nAASufsDATfjsa2p_h_jC', '1nAASufsDATfjsa2p_h_jC', '1nAASufsDATfjsa2p_h_jC']\n",
            "['1dwzNjJZv1yO7T8_N5CEil', '1dwzNjJZv1yO7T8_N5CEil', '1dwzNjJZv1yO7T8_N5CEil', None]\n",
            "['1oE_lMPgT3i8iGS$TUCPfG', '1oE_lMPgT3i8iGS$TUCPfG', '1oE_lMPgT3i8iGS$TUCPfG', '1oE_lMPgT3i8iGS$TUCPfG']\n",
            "['0WxY6hgiz8gglERVIFmXk5', '0WxY6hgiz8gglERVIFmXk5', '0WxY6hgiz8gglERVIFmXk5', None]\n",
            "['1eLDLm1PPFof8SttOwnXEe', '1eLDLm1PPFof8SttOwnXEe', '1eLDLm1PPFof8SttOwnXEe', '1eLDLm1PPFof8SttOwnXEe']\n",
            "['13V0IX1jT0X8ICxdE$Hu4Y', '13V0IX1jT0X8ICxdE$Hu4Y', '13V0IX1jT0X8ICxdE$Hu4Y', '13V0IX1jT0X8ICxdE$Hu4Y']\n",
            "['1PnkQiomP5ZeJmHopgRgeA', '1PnkQiomP5ZeJmHopgRgeA', '1PnkQiomP5ZeJmHopgRgeA', '1PnkQiomP5ZeJmHopgRgeA']\n",
            "['2mrlSJvPX6uBjt_DXT3qts', '2mrlSJvPX6uBjt_DXT3qts', '2mrlSJvPX6uBjt_DXT3qts', '2mrlSJvPX6uBjt_DXT3qts']\n",
            "['1dXJV405f8YgcAPzi7SLJ8', '1dXJV405f8YgcAPzi7SLJ8', '1dXJV405f8YgcAPzi7SLJ8', '1dXJV405f8YgcAPzi7SLJ8']\n",
            "['2jqlDEIRr1OQUStj6LnXrF', '2jqlDEIRr1OQUStj6LnXrF', '2jqlDEIRr1OQUStj6LnXrF', '2jqlDEIRr1OQUStj6LnXrF']\n",
            "['118rT40yz2KOJWDkn_n6P7', '118rT40yz2KOJWDkn_n6P7', '118rT40yz2KOJWDkn_n6P7', '118rT40yz2KOJWDkn_n6P7']\n",
            "['0Tead4W4n4tBt6u_vHGNmS', '0Tead4W4n4tBt6u_vHGNmS', '0Tead4W4n4tBt6u_vHGNmS', '0Tead4W4n4tBt6u_vHGNmS']\n",
            "['3QUCtX27T5xO8wto_aMoxc', '3QUCtX27T5xO8wto_aMoxc', '3QUCtX27T5xO8wto_aMoxc', '3QUCtX27T5xO8wto_aMoxc']\n",
            "['3$9lfqT9fDlA3lahR6fkFY', '3$9lfqT9fDlA3lahR6fkFY', '3$9lfqT9fDlA3lahR6fkFY', None]\n",
            "['3fwqAkbDzCiPm0uBimwvyp', '3fwqAkbDzCiPm0uBimwvyp', '3fwqAkbDzCiPm0uBimwvyp', None]\n",
            "['1vir7pGs94EAEu0ATbrKdX', '1vir7pGs94EAEu0ATbrKdX', '1vir7pGs94EAEu0ATbrKdX', '1vir7pGs94EAEu0ATbrKdX']\n",
            "['26FOaE_GfCewbBERm_U3rp', '26FOaE_GfCewbBERm_U3rp', '26FOaE_GfCewbBERm_U3rp', '26FOaE_GfCewbBERm_U3rp']\n",
            "['1DFVX0yqvAX83zIe0G7QK9', '1DFVX0yqvAX83zIe0G7QK9', '1DFVX0yqvAX83zIe0G7QK9', '1DFVX0yqvAX83zIe0G7QK9']\n",
            "['0kg6FaO3975AZ4ew2GsBwm', '0kg6FaO3975AZ4ew2GsBwm', '0kg6FaO3975AZ4ew2GsBwm', '0kg6FaO3975AZ4ew2GsBwm']\n",
            "['1ldtF8gff5exaRG1fbv0LO', '1ldtF8gff5exaRG1fbv0LO', '1ldtF8gff5exaRG1fbv0LO', '1ldtF8gff5exaRG1fbv0LO']\n",
            "['2JNu9VlSvCbPthpPfpOqkH', '2JNu9VlSvCbPthpPfpOqkH', '2JNu9VlSvCbPthpPfpOqkH', '2JNu9VlSvCbPthpPfpOqkH']\n",
            "['3Zr2lZTZj0GhCS2xwxq5AA', '3Zr2lZTZj0GhCS2xwxq5AA', '3Zr2lZTZj0GhCS2xwxq5AA', '3Zr2lZTZj0GhCS2xwxq5AA']\n",
            "['2vIG8xIxz9JAdNkaviSMyL', '2vIG8xIxz9JAdNkaviSMyL', '2vIG8xIxz9JAdNkaviSMyL', '2vIG8xIxz9JAdNkaviSMyL']\n",
            "['0bWgLiY8rBNhIJFPX39fOP', '0bWgLiY8rBNhIJFPX39fOP', '0bWgLiY8rBNhIJFPX39fOP', '0bWgLiY8rBNhIJFPX39fOP']\n",
            "['25gX1l3Jf0ch$MTJXWpGAu', '25gX1l3Jf0ch$MTJXWpGAu', '25gX1l3Jf0ch$MTJXWpGAu', '25gX1l3Jf0ch$MTJXWpGAu']\n",
            "['1lp0VHt0v5Jw2DbctZLwkP', '1lp0VHt0v5Jw2DbctZLwkP', '1lp0VHt0v5Jw2DbctZLwkP', '1lp0VHt0v5Jw2DbctZLwkP']\n",
            "['3ceTJNzLPDgeU7MOP6zNXD', '3ceTJNzLPDgeU7MOP6zNXD', '3ceTJNzLPDgeU7MOP6zNXD', '3ceTJNzLPDgeU7MOP6zNXD']\n",
            "['1ExlF2Qnv1QA32hRKgFhNX', '1ExlF2Qnv1QA32hRKgFhNX', '1ExlF2Qnv1QA32hRKgFhNX', '1ExlF2Qnv1QA32hRKgFhNX']\n",
            "[None, '1QmrSv$7f8vB34GVkkI57J', '1QmrSv$7f8vB34GVkkI57J', '1QmrSv$7f8vB34GVkkI57J']\n",
            "['0w376m0Gn5OBk2hjF7w8QH', '0w376m0Gn5OBk2hjF7w8QH', '0w376m0Gn5OBk2hjF7w8QH', '0w376m0Gn5OBk2hjF7w8QH']\n",
            "['3vKQh6nWH0vw4rDR1VVPw$', '3vKQh6nWH0vw4rDR1VVPw$', '3vKQh6nWH0vw4rDR1VVPw$', '3vKQh6nWH0vw4rDR1VVPw$']\n",
            "['30hkiadELDdv_FREFEwKCf', '30hkiadELDdv_FREFEwKCf', '30hkiadELDdv_FREFEwKCf', '30hkiadELDdv_FREFEwKCf']\n",
            "['0WXcsBSOT22f8oEUOuCO7C', '0WXcsBSOT22f8oEUOuCO7C', '0WXcsBSOT22f8oEUOuCO7C', '0WXcsBSOT22f8oEUOuCO7C']\n",
            "['1JoOUqAkLEGBzi44$T3bEU', '1JoOUqAkLEGBzi44$T3bEU', '1JoOUqAkLEGBzi44$T3bEU', '1JoOUqAkLEGBzi44$T3bEU']\n",
            "['3GL03oJs53aR6zUFjZzYBs', '3GL03oJs53aR6zUFjZzYBs', '3GL03oJs53aR6zUFjZzYBs', '3GL03oJs53aR6zUFjZzYBs']\n",
            "['0uDB6gC0fD0Obk04OXjgvd', '0uDB6gC0fD0Obk04OXjgvd', '0uDB6gC0fD0Obk04OXjgvd', '0uDB6gC0fD0Obk04OXjgvd']\n",
            "['2b6pyIaQjCA9qm0CqZRCan', '2b6pyIaQjCA9qm0CqZRCan', '2b6pyIaQjCA9qm0CqZRCan', None]\n",
            "['39i76Ijf102uL8acgFJS2p', '39i76Ijf102uL8acgFJS2p', '39i76Ijf102uL8acgFJS2p', '39i76Ijf102uL8acgFJS2p']\n",
            "['2yTQoXZfj6be$WZcD7lAhv', '2yTQoXZfj6be$WZcD7lAhv', '2yTQoXZfj6be$WZcD7lAhv', '2yTQoXZfj6be$WZcD7lAhv']\n",
            "['0Kv5xszNX9ch4COWOMacTV', '0Kv5xszNX9ch4COWOMacTV', '0Kv5xszNX9ch4COWOMacTV', '0Kv5xszNX9ch4COWOMacTV']\n",
            "['01Xe6XD9r31f$X_ec1OhJP', '01Xe6XD9r31f$X_ec1OhJP', '01Xe6XD9r31f$X_ec1OhJP', '01Xe6XD9r31f$X_ec1OhJP']\n",
            "['3fz3gdDjj9uf5cydtBW3Gj', '3fz3gdDjj9uf5cydtBW3Gj', '3fz3gdDjj9uf5cydtBW3Gj', '3fz3gdDjj9uf5cydtBW3Gj']\n",
            "['3qTu0pcEn7JheR3YE53DLz', '3qTu0pcEn7JheR3YE53DLz', '3qTu0pcEn7JheR3YE53DLz', '3qTu0pcEn7JheR3YE53DLz']\n",
            "['1nVG4aErHEyQy1pZhGvi$t', '1nVG4aErHEyQy1pZhGvi$t', '1nVG4aErHEyQy1pZhGvi$t', '1nVG4aErHEyQy1pZhGvi$t']\n",
            "['0__W5oNUDEfQXYsv3z4PMt', '0__W5oNUDEfQXYsv3z4PMt', '0__W5oNUDEfQXYsv3z4PMt', '0__W5oNUDEfQXYsv3z4PMt']\n",
            "['233yO8mFL7C8APPTV4buM5', '233yO8mFL7C8APPTV4buM5', '233yO8mFL7C8APPTV4buM5', '233yO8mFL7C8APPTV4buM5']\n",
            "['1s7zUDbffCIeu8PB_q9w5g', '1s7zUDbffCIeu8PB_q9w5g', '1s7zUDbffCIeu8PB_q9w5g', '1s7zUDbffCIeu8PB_q9w5g']\n",
            "['1G_3EEyZD059u94tnMJLNH', '1G_3EEyZD059u94tnMJLNH', '1G_3EEyZD059u94tnMJLNH', '1G_3EEyZD059u94tnMJLNH']\n",
            "['26sapmP$DEegdx71FdQwsk', '26sapmP$DEegdx71FdQwsk', '26sapmP$DEegdx71FdQwsk', '26sapmP$DEegdx71FdQwsk']\n",
            "['3rA5KGKhHDNe9Wa_vRbK4l', '3rA5KGKhHDNe9Wa_vRbK4l', '3rA5KGKhHDNe9Wa_vRbK4l', '3rA5KGKhHDNe9Wa_vRbK4l']\n",
            "['0QYhiIYr1Az8Z6zLV$240x', '0QYhiIYr1Az8Z6zLV$240x', '0QYhiIYr1Az8Z6zLV$240x', '0QYhiIYr1Az8Z6zLV$240x']\n",
            "['06Sg3E2OHBAPlzIxiojLsX', '06Sg3E2OHBAPlzIxiojLsX', '06Sg3E2OHBAPlzIxiojLsX', '06Sg3E2OHBAPlzIxiojLsX']\n",
            "['28$rebCmvCihTyoDv1C3np', '28$rebCmvCihTyoDv1C3np', '28$rebCmvCihTyoDv1C3np', '28$rebCmvCihTyoDv1C3np']\n",
            "['2tICrRkcL7o9sXd1zg9mNv', '2tICrRkcL7o9sXd1zg9mNv', '2tICrRkcL7o9sXd1zg9mNv', '2tICrRkcL7o9sXd1zg9mNv']\n",
            "['3rAz1WxeX8JO_M1ydsnidU', '3rAz1WxeX8JO_M1ydsnidU', '3rAz1WxeX8JO_M1ydsnidU', '3rAz1WxeX8JO_M1ydsnidU']\n",
            "['252f_0SLf4mv$R_6rYLTE3', '252f_0SLf4mv$R_6rYLTE3', '252f_0SLf4mv$R_6rYLTE3', '252f_0SLf4mv$R_6rYLTE3']\n",
            "['3B216$Mvr4dAU7Y4pLIsmx', '3B216$Mvr4dAU7Y4pLIsmx', '3B216$Mvr4dAU7Y4pLIsmx', '3B216$Mvr4dAU7Y4pLIsmx']\n",
            "['39jNungof3K8Zu66WDPq3v', '39jNungof3K8Zu66WDPq3v', '39jNungof3K8Zu66WDPq3v', '39jNungof3K8Zu66WDPq3v']\n",
            "['1Si22xhfzDmu2JovloFyKq', '1Si22xhfzDmu2JovloFyKq', '1Si22xhfzDmu2JovloFyKq', '1Si22xhfzDmu2JovloFyKq']\n",
            "['36k61F2ub5V8uYF2dEV3NH', '36k61F2ub5V8uYF2dEV3NH', '36k61F2ub5V8uYF2dEV3NH', None]\n",
            "['13t43jFwT0mewrAUE9momz', '13t43jFwT0mewrAUE9momz', '13t43jFwT0mewrAUE9momz', '13t43jFwT0mewrAUE9momz']\n",
            "[None, '3U_YbDPkP8wh$il6GPzfG6', '3U_YbDPkP8wh$il6GPzfG6', '3U_YbDPkP8wh$il6GPzfG6']\n",
            "['1R3PyqVZn1bQomEg8osr_H', '1R3PyqVZn1bQomEg8osr_H', '1R3PyqVZn1bQomEg8osr_H', '1R3PyqVZn1bQomEg8osr_H']\n",
            "['3KnlLPB755hRPRTUh_ffzh', '3KnlLPB755hRPRTUh_ffzh', '3KnlLPB755hRPRTUh_ffzh', '3KnlLPB755hRPRTUh_ffzh']\n",
            "['2YBPFNnjv9QwJ6a_Sltc1R', '2YBPFNnjv9QwJ6a_Sltc1R', '2YBPFNnjv9QwJ6a_Sltc1R', None]\n",
            "['1Xvd0iZZL9Sw$XPhJtzxbD', '1Xvd0iZZL9Sw$XPhJtzxbD', '1Xvd0iZZL9Sw$XPhJtzxbD', '1Xvd0iZZL9Sw$XPhJtzxbD']\n",
            "['2Ro_iCWfzFGgjVOENXB_rJ', '2Ro_iCWfzFGgjVOENXB_rJ', '2Ro_iCWfzFGgjVOENXB_rJ', '2Ro_iCWfzFGgjVOENXB_rJ']\n",
            "['1FRed891r1Vxy8nqfiV2gV', '1FRed891r1Vxy8nqfiV2gV', '1FRed891r1Vxy8nqfiV2gV', '1FRed891r1Vxy8nqfiV2gV']\n",
            "['0lgjCeQK5CeBrXBfEoy0Gb', '0lgjCeQK5CeBrXBfEoy0Gb', '0lgjCeQK5CeBrXBfEoy0Gb', '0lgjCeQK5CeBrXBfEoy0Gb']\n",
            "['0gPCrJxub3P8Sa_I7qumNe', '0gPCrJxub3P8Sa_I7qumNe', '0gPCrJxub3P8Sa_I7qumNe', '0gPCrJxub3P8Sa_I7qumNe']\n",
            "['1EmLgGRy95yP30_d_6Fq4t', '1EmLgGRy95yP30_d_6Fq4t', '1EmLgGRy95yP30_d_6Fq4t', '1EmLgGRy95yP30_d_6Fq4t']\n",
            "['2PhdIz0XP01uj_bLm7dmPZ', '2PhdIz0XP01uj_bLm7dmPZ', '2PhdIz0XP01uj_bLm7dmPZ', '2PhdIz0XP01uj_bLm7dmPZ']\n",
            "['3myR8TJ_z3WBrIDZBDUw52', '3myR8TJ_z3WBrIDZBDUw52', '3myR8TJ_z3WBrIDZBDUw52', '3myR8TJ_z3WBrIDZBDUw52']\n",
            "['01tLCLyK51QRkJlGgsP5ir', '01tLCLyK51QRkJlGgsP5ir', '01tLCLyK51QRkJlGgsP5ir', '01tLCLyK51QRkJlGgsP5ir']\n",
            "['2Co2SkEwn1wO498f3lZH6_', '2Co2SkEwn1wO498f3lZH6_', '2Co2SkEwn1wO498f3lZH6_', '2Co2SkEwn1wO498f3lZH6_']\n",
            "['3XS1RvHmPCbhLKbO6r100l', '3XS1RvHmPCbhLKbO6r100l', '3XS1RvHmPCbhLKbO6r100l', '3XS1RvHmPCbhLKbO6r100l']\n",
            "['2be3DhHDrESOP_OsuY_tqZ', '2be3DhHDrESOP_OsuY_tqZ', '2be3DhHDrESOP_OsuY_tqZ', '2be3DhHDrESOP_OsuY_tqZ']\n",
            "['01qe8Ty6bDDOgx_n$xmvwB', '01qe8Ty6bDDOgx_n$xmvwB', '01qe8Ty6bDDOgx_n$xmvwB', '01qe8Ty6bDDOgx_n$xmvwB']\n",
            "['0Qd8XMgjPCpQmJuj2AlONx', '0Qd8XMgjPCpQmJuj2AlONx', '0Qd8XMgjPCpQmJuj2AlONx', '0Qd8XMgjPCpQmJuj2AlONx']\n",
            "['2unIkpDa1AqfvJDx2bHkP9', '2unIkpDa1AqfvJDx2bHkP9', '2unIkpDa1AqfvJDx2bHkP9', '2unIkpDa1AqfvJDx2bHkP9']\n",
            "['0xjXnlncf2zRK5eP5MzTuZ', '0xjXnlncf2zRK5eP5MzTuZ', '0xjXnlncf2zRK5eP5MzTuZ', '0xjXnlncf2zRK5eP5MzTuZ']\n",
            "['3qcrDduYPBvQ2DHL4JH83o', '3qcrDduYPBvQ2DHL4JH83o', '3qcrDduYPBvQ2DHL4JH83o', '3qcrDduYPBvQ2DHL4JH83o']\n",
            "['0Wnc6M5Dz8tR11jHed1l6c', '0Wnc6M5Dz8tR11jHed1l6c', '0Wnc6M5Dz8tR11jHed1l6c', '0Wnc6M5Dz8tR11jHed1l6c']\n",
            "['0dhrhjatjD$fNIDHuLjgSP', '0dhrhjatjD$fNIDHuLjgSP', '0dhrhjatjD$fNIDHuLjgSP', '0dhrhjatjD$fNIDHuLjgSP']\n",
            "['1yDf8EKgfDihVd_seuryeM', None, '1yDf8EKgfDihVd_seuryeM', None]\n",
            "['1TdfuW11HAMBONTsZBMxsT', '1TdfuW11HAMBONTsZBMxsT', '1TdfuW11HAMBONTsZBMxsT', None]\n",
            "['1HcH0hVdf9jPR3vyfy9LoP', '1HcH0hVdf9jPR3vyfy9LoP', '1HcH0hVdf9jPR3vyfy9LoP', '1HcH0hVdf9jPR3vyfy9LoP']\n",
            "['2m03w10A17yQK7lo0C3sqC', '2m03w10A17yQK7lo0C3sqC', '2m03w10A17yQK7lo0C3sqC', '2m03w10A17yQK7lo0C3sqC']\n",
            "['1aIZS08IvDhhqgSVHFIM2f', '1aIZS08IvDhhqgSVHFIM2f', '1aIZS08IvDhhqgSVHFIM2f', '1aIZS08IvDhhqgSVHFIM2f']\n",
            "['0IiuUGBNj2BRVmBY0uoNSB', '0IiuUGBNj2BRVmBY0uoNSB', '0IiuUGBNj2BRVmBY0uoNSB', '0IiuUGBNj2BRVmBY0uoNSB']\n",
            "['0MFQQPkY10CRvp5MNQgG2S', '0MFQQPkY10CRvp5MNQgG2S', '0MFQQPkY10CRvp5MNQgG2S', '0MFQQPkY10CRvp5MNQgG2S']\n",
            "['2ZJzwsSM1BKw8xbHZQcDDP', '2ZJzwsSM1BKw8xbHZQcDDP', '2ZJzwsSM1BKw8xbHZQcDDP', '2ZJzwsSM1BKw8xbHZQcDDP']\n",
            "['17XIA2WiL2ovl_sxWeK9KW', '17XIA2WiL2ovl_sxWeK9KW', '17XIA2WiL2ovl_sxWeK9KW', '17XIA2WiL2ovl_sxWeK9KW']\n",
            "['3gXqNxy0LBNBaCjEVvMYSR', '3gXqNxy0LBNBaCjEVvMYSR', '3gXqNxy0LBNBaCjEVvMYSR', '3gXqNxy0LBNBaCjEVvMYSR']\n",
            "['0iQBVm0_H9Wvgw3fWqEB3m', '0iQBVm0_H9Wvgw3fWqEB3m', '0iQBVm0_H9Wvgw3fWqEB3m', '0iQBVm0_H9Wvgw3fWqEB3m']\n",
            "['1nsGK2CxH8Ev1AJg6UxCpW', '1nsGK2CxH8Ev1AJg6UxCpW', '1nsGK2CxH8Ev1AJg6UxCpW', '1nsGK2CxH8Ev1AJg6UxCpW']\n",
            "['3wyUI12ivCRvKdY11WtUYO', '3wyUI12ivCRvKdY11WtUYO', '3wyUI12ivCRvKdY11WtUYO', '3wyUI12ivCRvKdY11WtUYO']\n",
            "['3c8eLMlL91gRKdVs4$YmOh', '3c8eLMlL91gRKdVs4$YmOh', '3c8eLMlL91gRKdVs4$YmOh', '3c8eLMlL91gRKdVs4$YmOh']\n",
            "['3lcTygyOL0YfECLE1Aj8wA', '3lcTygyOL0YfECLE1Aj8wA', '3lcTygyOL0YfECLE1Aj8wA', '3lcTygyOL0YfECLE1Aj8wA']\n",
            "['3BC1YZAY12NOPkPM_$k6gI', '3BC1YZAY12NOPkPM_$k6gI', '3BC1YZAY12NOPkPM_$k6gI', '3BC1YZAY12NOPkPM_$k6gI']\n",
            "['2D6zz6MOv5Yh5q0HX$BCZu', '2D6zz6MOv5Yh5q0HX$BCZu', '2D6zz6MOv5Yh5q0HX$BCZu', '2D6zz6MOv5Yh5q0HX$BCZu']\n",
            "['2h4YrSS$n6jB6Pnz$4sMKD', '2h4YrSS$n6jB6Pnz$4sMKD', '2h4YrSS$n6jB6Pnz$4sMKD', '2h4YrSS$n6jB6Pnz$4sMKD']\n",
            "['24aB8tvPj67B4U2vqIinqC', '24aB8tvPj67B4U2vqIinqC', '24aB8tvPj67B4U2vqIinqC', '24aB8tvPj67B4U2vqIinqC']\n",
            "['1Eyidl9ZXE1hvAFqtyrl05', '1Eyidl9ZXE1hvAFqtyrl05', '1Eyidl9ZXE1hvAFqtyrl05', '1Eyidl9ZXE1hvAFqtyrl05']\n",
            "['2BqFyeJLnF$hTVLzqi1ZF6', '2BqFyeJLnF$hTVLzqi1ZF6', '2BqFyeJLnF$hTVLzqi1ZF6', '2BqFyeJLnF$hTVLzqi1ZF6']\n",
            "['0LdPIDKkf1qOmgx4kuxj7r', '0LdPIDKkf1qOmgx4kuxj7r', '0LdPIDKkf1qOmgx4kuxj7r', '0LdPIDKkf1qOmgx4kuxj7r']\n",
            "['1oYvF_rjT3KPMrPT16VaGl', '1oYvF_rjT3KPMrPT16VaGl', '1oYvF_rjT3KPMrPT16VaGl', '1oYvF_rjT3KPMrPT16VaGl']\n",
            "['00wRaHT1f9nQ2HbiT3oDO3', '00wRaHT1f9nQ2HbiT3oDO3', '00wRaHT1f9nQ2HbiT3oDO3', None]\n",
            "['32r22AmdP5MRsa05pTO21i', '32r22AmdP5MRsa05pTO21i', '32r22AmdP5MRsa05pTO21i', '32r22AmdP5MRsa05pTO21i']\n",
            "['3ruJiCUOD5z8VQcw5MtM9q', '3ruJiCUOD5z8VQcw5MtM9q', '3ruJiCUOD5z8VQcw5MtM9q', None]\n",
            "['3chxz6JLj4Gwe89bpv2aBb', '3chxz6JLj4Gwe89bpv2aBb', '3chxz6JLj4Gwe89bpv2aBb', None]\n",
            "['1ljSWpKv99t8qDHqDqFQyi', '1ljSWpKv99t8qDHqDqFQyi', '1ljSWpKv99t8qDHqDqFQyi', None]\n",
            "['0XXv$$pjjD09jcRnE6tHw1', None, '0XXv$$pjjD09jcRnE6tHw1', None]\n",
            "['2Hs4I_Tvn0NuDxE7h0F_lY', None, '2Hs4I_Tvn0NuDxE7h0F_lY', '2Hs4I_Tvn0NuDxE7h0F_lY']\n"
          ]
        }
      ]
    },
    {
      "cell_type": "code",
      "source": [
        "data = Data(x=x, edge_index=edge_index, y=y)"
      ],
      "metadata": {
        "id": "N5F55eh309_W"
      },
      "execution_count": 21,
      "outputs": []
    },
    {
      "cell_type": "code",
      "source": [
        "data.num_node_features"
      ],
      "metadata": {
        "colab": {
          "base_uri": "https://localhost:8080/"
        },
        "id": "WxBBlGJr07mx",
        "outputId": "b49b1c18-34b2-4fc1-94d2-0814ab53da7b"
      },
      "execution_count": 22,
      "outputs": [
        {
          "output_type": "execute_result",
          "data": {
            "text/plain": [
              "34"
            ]
          },
          "metadata": {},
          "execution_count": 22
        }
      ]
    },
    {
      "cell_type": "markdown",
      "source": [
        "# Split the data into k-fold for training and testing"
      ],
      "metadata": {
        "id": "iLJKmYTbzCy4"
      }
    },
    {
      "cell_type": "code",
      "source": [
        "from sklearn.model_selection import train_test_split\n",
        "\n",
        "# Step 1: Split the node indices\n",
        "num_nodes = data.num_nodes\n",
        "node_indices = np.arange(num_nodes)\n",
        "\n",
        "# Optional: Stratified sampling (preserves class balance)\n",
        "train_idx, test_idx = train_test_split(\n",
        "    node_indices,\n",
        "    test_size=0.2,\n",
        "    stratify=data.y.numpy(),  # ensures same label distribution\n",
        "    random_state=42\n",
        ")"
      ],
      "metadata": {
        "id": "Jt4MKiV01yeH"
      },
      "execution_count": 23,
      "outputs": []
    },
    {
      "cell_type": "code",
      "source": [
        "# Create train/test masks\n",
        "data.train_mask = torch.zeros(num_nodes, dtype=torch.bool)\n",
        "data.test_mask = torch.zeros(num_nodes, dtype=torch.bool)\n",
        "data.train_mask[train_idx] = True\n",
        "data.test_mask[test_idx] = True"
      ],
      "metadata": {
        "id": "FSpsxUtQzCki"
      },
      "execution_count": 24,
      "outputs": []
    },
    {
      "cell_type": "markdown",
      "source": [
        "# Create a GNN"
      ],
      "metadata": {
        "id": "7wZprOPKxYBo"
      }
    },
    {
      "cell_type": "code",
      "source": [
        "import torch\n",
        "import torch.nn.functional as F\n",
        "from torch_geometric.nn import GCNConv\n",
        "\n",
        "class GCN(torch.nn.Module):\n",
        "    def __init__(self, input_dim, hidden_dim, num_classes):\n",
        "        super().__init__()\n",
        "        self.conv1 = GCNConv(input_dim, hidden_dim)\n",
        "        self.conv2 = GCNConv(hidden_dim, num_classes)\n",
        "\n",
        "    def forward(self, data):\n",
        "        x, edge_index = data.x, data.edge_index\n",
        "\n",
        "        x = self.conv1(x, edge_index)\n",
        "        x = F.relu(x)\n",
        "        x = F.dropout(x, training=self.training)\n",
        "        x = self.conv2(x, edge_index)\n",
        "\n",
        "        return F.log_softmax(x, dim=1)"
      ],
      "metadata": {
        "id": "8tidcWR8Mfc3"
      },
      "execution_count": 25,
      "outputs": []
    },
    {
      "cell_type": "code",
      "source": [
        "model = GCN(input_dim=data.num_node_features, hidden_dim = 32, num_classes=len(le.classes_))"
      ],
      "metadata": {
        "id": "Z2i7Te5ywaLd"
      },
      "execution_count": 26,
      "outputs": []
    },
    {
      "cell_type": "markdown",
      "source": [
        "#Train the model"
      ],
      "metadata": {
        "id": "IHBA71pvxPFd"
      }
    },
    {
      "cell_type": "code",
      "source": [
        "input_dim = data.num_node_features\n",
        "hidden_dim = 32\n",
        "num_classes = len(le.classes_)\n",
        "\n",
        "model = GCN(input_dim, hidden_dim, num_classes)\n",
        "optimizer = torch.optim.Adam(model.parameters(), lr=0.01, weight_decay=5e-4)\n",
        "\n",
        "# Training loop\n",
        "model.train()\n",
        "for epoch in range(200):\n",
        "    optimizer.zero_grad()\n",
        "    out = model(data)\n",
        "    loss = F.nll_loss(out[data.train_mask], data.y[data.train_mask])\n",
        "    loss.backward()\n",
        "    optimizer.step()\n",
        "\n",
        "    if epoch % 20 == 0:\n",
        "        print(f\"Epoch {epoch:03d} | Loss: {loss.item():.4f}\")\n"
      ],
      "metadata": {
        "colab": {
          "base_uri": "https://localhost:8080/",
          "height": 373
        },
        "id": "Jx2cGrz0xNzU",
        "outputId": "eeac7cd1-5ec5-4cef-a9f1-8a0af6eff1b6"
      },
      "execution_count": 27,
      "outputs": [
        {
          "output_type": "error",
          "ename": "ValueError",
          "evalue": "`MessagePassing.propagate` only supports integer tensors of shape `[2, num_messages]`, `torch_sparse.SparseTensor` or `torch.sparse.Tensor` for argument `edge_index`.",
          "traceback": [
            "\u001b[0;31m---------------------------------------------------------------------------\u001b[0m",
            "\u001b[0;31mValueError\u001b[0m                                Traceback (most recent call last)",
            "\u001b[0;32m<ipython-input-27-3295bb39ad27>\u001b[0m in \u001b[0;36m<cell line: 0>\u001b[0;34m()\u001b[0m\n\u001b[1;32m     10\u001b[0m \u001b[0;32mfor\u001b[0m \u001b[0mepoch\u001b[0m \u001b[0;32min\u001b[0m \u001b[0mrange\u001b[0m\u001b[0;34m(\u001b[0m\u001b[0;36m200\u001b[0m\u001b[0;34m)\u001b[0m\u001b[0;34m:\u001b[0m\u001b[0;34m\u001b[0m\u001b[0;34m\u001b[0m\u001b[0m\n\u001b[1;32m     11\u001b[0m     \u001b[0moptimizer\u001b[0m\u001b[0;34m.\u001b[0m\u001b[0mzero_grad\u001b[0m\u001b[0;34m(\u001b[0m\u001b[0;34m)\u001b[0m\u001b[0;34m\u001b[0m\u001b[0;34m\u001b[0m\u001b[0m\n\u001b[0;32m---> 12\u001b[0;31m     \u001b[0mout\u001b[0m \u001b[0;34m=\u001b[0m \u001b[0mmodel\u001b[0m\u001b[0;34m(\u001b[0m\u001b[0mdata\u001b[0m\u001b[0;34m)\u001b[0m\u001b[0;34m\u001b[0m\u001b[0;34m\u001b[0m\u001b[0m\n\u001b[0m\u001b[1;32m     13\u001b[0m     \u001b[0mloss\u001b[0m \u001b[0;34m=\u001b[0m \u001b[0mF\u001b[0m\u001b[0;34m.\u001b[0m\u001b[0mnll_loss\u001b[0m\u001b[0;34m(\u001b[0m\u001b[0mout\u001b[0m\u001b[0;34m[\u001b[0m\u001b[0mdata\u001b[0m\u001b[0;34m.\u001b[0m\u001b[0mtrain_mask\u001b[0m\u001b[0;34m]\u001b[0m\u001b[0;34m,\u001b[0m \u001b[0mdata\u001b[0m\u001b[0;34m.\u001b[0m\u001b[0my\u001b[0m\u001b[0;34m[\u001b[0m\u001b[0mdata\u001b[0m\u001b[0;34m.\u001b[0m\u001b[0mtrain_mask\u001b[0m\u001b[0;34m]\u001b[0m\u001b[0;34m)\u001b[0m\u001b[0;34m\u001b[0m\u001b[0;34m\u001b[0m\u001b[0m\n\u001b[1;32m     14\u001b[0m     \u001b[0mloss\u001b[0m\u001b[0;34m.\u001b[0m\u001b[0mbackward\u001b[0m\u001b[0;34m(\u001b[0m\u001b[0;34m)\u001b[0m\u001b[0;34m\u001b[0m\u001b[0;34m\u001b[0m\u001b[0m\n",
            "\u001b[0;32m/usr/local/lib/python3.11/dist-packages/torch/nn/modules/module.py\u001b[0m in \u001b[0;36m_wrapped_call_impl\u001b[0;34m(self, *args, **kwargs)\u001b[0m\n\u001b[1;32m   1737\u001b[0m             \u001b[0;32mreturn\u001b[0m \u001b[0mself\u001b[0m\u001b[0;34m.\u001b[0m\u001b[0m_compiled_call_impl\u001b[0m\u001b[0;34m(\u001b[0m\u001b[0;34m*\u001b[0m\u001b[0margs\u001b[0m\u001b[0;34m,\u001b[0m \u001b[0;34m**\u001b[0m\u001b[0mkwargs\u001b[0m\u001b[0;34m)\u001b[0m  \u001b[0;31m# type: ignore[misc]\u001b[0m\u001b[0;34m\u001b[0m\u001b[0;34m\u001b[0m\u001b[0m\n\u001b[1;32m   1738\u001b[0m         \u001b[0;32melse\u001b[0m\u001b[0;34m:\u001b[0m\u001b[0;34m\u001b[0m\u001b[0;34m\u001b[0m\u001b[0m\n\u001b[0;32m-> 1739\u001b[0;31m             \u001b[0;32mreturn\u001b[0m \u001b[0mself\u001b[0m\u001b[0;34m.\u001b[0m\u001b[0m_call_impl\u001b[0m\u001b[0;34m(\u001b[0m\u001b[0;34m*\u001b[0m\u001b[0margs\u001b[0m\u001b[0;34m,\u001b[0m \u001b[0;34m**\u001b[0m\u001b[0mkwargs\u001b[0m\u001b[0;34m)\u001b[0m\u001b[0;34m\u001b[0m\u001b[0;34m\u001b[0m\u001b[0m\n\u001b[0m\u001b[1;32m   1740\u001b[0m \u001b[0;34m\u001b[0m\u001b[0m\n\u001b[1;32m   1741\u001b[0m     \u001b[0;31m# torchrec tests the code consistency with the following code\u001b[0m\u001b[0;34m\u001b[0m\u001b[0;34m\u001b[0m\u001b[0m\n",
            "\u001b[0;32m/usr/local/lib/python3.11/dist-packages/torch/nn/modules/module.py\u001b[0m in \u001b[0;36m_call_impl\u001b[0;34m(self, *args, **kwargs)\u001b[0m\n\u001b[1;32m   1748\u001b[0m                 \u001b[0;32mor\u001b[0m \u001b[0m_global_backward_pre_hooks\u001b[0m \u001b[0;32mor\u001b[0m \u001b[0m_global_backward_hooks\u001b[0m\u001b[0;34m\u001b[0m\u001b[0;34m\u001b[0m\u001b[0m\n\u001b[1;32m   1749\u001b[0m                 or _global_forward_hooks or _global_forward_pre_hooks):\n\u001b[0;32m-> 1750\u001b[0;31m             \u001b[0;32mreturn\u001b[0m \u001b[0mforward_call\u001b[0m\u001b[0;34m(\u001b[0m\u001b[0;34m*\u001b[0m\u001b[0margs\u001b[0m\u001b[0;34m,\u001b[0m \u001b[0;34m**\u001b[0m\u001b[0mkwargs\u001b[0m\u001b[0;34m)\u001b[0m\u001b[0;34m\u001b[0m\u001b[0;34m\u001b[0m\u001b[0m\n\u001b[0m\u001b[1;32m   1751\u001b[0m \u001b[0;34m\u001b[0m\u001b[0m\n\u001b[1;32m   1752\u001b[0m         \u001b[0mresult\u001b[0m \u001b[0;34m=\u001b[0m \u001b[0;32mNone\u001b[0m\u001b[0;34m\u001b[0m\u001b[0;34m\u001b[0m\u001b[0m\n",
            "\u001b[0;32m<ipython-input-25-5f11a83ba934>\u001b[0m in \u001b[0;36mforward\u001b[0;34m(self, data)\u001b[0m\n\u001b[1;32m     12\u001b[0m         \u001b[0mx\u001b[0m\u001b[0;34m,\u001b[0m \u001b[0medge_index\u001b[0m \u001b[0;34m=\u001b[0m \u001b[0mdata\u001b[0m\u001b[0;34m.\u001b[0m\u001b[0mx\u001b[0m\u001b[0;34m,\u001b[0m \u001b[0mdata\u001b[0m\u001b[0;34m.\u001b[0m\u001b[0medge_index\u001b[0m\u001b[0;34m\u001b[0m\u001b[0;34m\u001b[0m\u001b[0m\n\u001b[1;32m     13\u001b[0m \u001b[0;34m\u001b[0m\u001b[0m\n\u001b[0;32m---> 14\u001b[0;31m         \u001b[0mx\u001b[0m \u001b[0;34m=\u001b[0m \u001b[0mself\u001b[0m\u001b[0;34m.\u001b[0m\u001b[0mconv1\u001b[0m\u001b[0;34m(\u001b[0m\u001b[0mx\u001b[0m\u001b[0;34m,\u001b[0m \u001b[0medge_index\u001b[0m\u001b[0;34m)\u001b[0m\u001b[0;34m\u001b[0m\u001b[0;34m\u001b[0m\u001b[0m\n\u001b[0m\u001b[1;32m     15\u001b[0m         \u001b[0mx\u001b[0m \u001b[0;34m=\u001b[0m \u001b[0mF\u001b[0m\u001b[0;34m.\u001b[0m\u001b[0mrelu\u001b[0m\u001b[0;34m(\u001b[0m\u001b[0mx\u001b[0m\u001b[0;34m)\u001b[0m\u001b[0;34m\u001b[0m\u001b[0;34m\u001b[0m\u001b[0m\n\u001b[1;32m     16\u001b[0m         \u001b[0mx\u001b[0m \u001b[0;34m=\u001b[0m \u001b[0mF\u001b[0m\u001b[0;34m.\u001b[0m\u001b[0mdropout\u001b[0m\u001b[0;34m(\u001b[0m\u001b[0mx\u001b[0m\u001b[0;34m,\u001b[0m \u001b[0mtraining\u001b[0m\u001b[0;34m=\u001b[0m\u001b[0mself\u001b[0m\u001b[0;34m.\u001b[0m\u001b[0mtraining\u001b[0m\u001b[0;34m)\u001b[0m\u001b[0;34m\u001b[0m\u001b[0;34m\u001b[0m\u001b[0m\n",
            "\u001b[0;32m/usr/local/lib/python3.11/dist-packages/torch/nn/modules/module.py\u001b[0m in \u001b[0;36m_wrapped_call_impl\u001b[0;34m(self, *args, **kwargs)\u001b[0m\n\u001b[1;32m   1737\u001b[0m             \u001b[0;32mreturn\u001b[0m \u001b[0mself\u001b[0m\u001b[0;34m.\u001b[0m\u001b[0m_compiled_call_impl\u001b[0m\u001b[0;34m(\u001b[0m\u001b[0;34m*\u001b[0m\u001b[0margs\u001b[0m\u001b[0;34m,\u001b[0m \u001b[0;34m**\u001b[0m\u001b[0mkwargs\u001b[0m\u001b[0;34m)\u001b[0m  \u001b[0;31m# type: ignore[misc]\u001b[0m\u001b[0;34m\u001b[0m\u001b[0;34m\u001b[0m\u001b[0m\n\u001b[1;32m   1738\u001b[0m         \u001b[0;32melse\u001b[0m\u001b[0;34m:\u001b[0m\u001b[0;34m\u001b[0m\u001b[0;34m\u001b[0m\u001b[0m\n\u001b[0;32m-> 1739\u001b[0;31m             \u001b[0;32mreturn\u001b[0m \u001b[0mself\u001b[0m\u001b[0;34m.\u001b[0m\u001b[0m_call_impl\u001b[0m\u001b[0;34m(\u001b[0m\u001b[0;34m*\u001b[0m\u001b[0margs\u001b[0m\u001b[0;34m,\u001b[0m \u001b[0;34m**\u001b[0m\u001b[0mkwargs\u001b[0m\u001b[0;34m)\u001b[0m\u001b[0;34m\u001b[0m\u001b[0;34m\u001b[0m\u001b[0m\n\u001b[0m\u001b[1;32m   1740\u001b[0m \u001b[0;34m\u001b[0m\u001b[0m\n\u001b[1;32m   1741\u001b[0m     \u001b[0;31m# torchrec tests the code consistency with the following code\u001b[0m\u001b[0;34m\u001b[0m\u001b[0;34m\u001b[0m\u001b[0m\n",
            "\u001b[0;32m/usr/local/lib/python3.11/dist-packages/torch/nn/modules/module.py\u001b[0m in \u001b[0;36m_call_impl\u001b[0;34m(self, *args, **kwargs)\u001b[0m\n\u001b[1;32m   1748\u001b[0m                 \u001b[0;32mor\u001b[0m \u001b[0m_global_backward_pre_hooks\u001b[0m \u001b[0;32mor\u001b[0m \u001b[0m_global_backward_hooks\u001b[0m\u001b[0;34m\u001b[0m\u001b[0;34m\u001b[0m\u001b[0m\n\u001b[1;32m   1749\u001b[0m                 or _global_forward_hooks or _global_forward_pre_hooks):\n\u001b[0;32m-> 1750\u001b[0;31m             \u001b[0;32mreturn\u001b[0m \u001b[0mforward_call\u001b[0m\u001b[0;34m(\u001b[0m\u001b[0;34m*\u001b[0m\u001b[0margs\u001b[0m\u001b[0;34m,\u001b[0m \u001b[0;34m**\u001b[0m\u001b[0mkwargs\u001b[0m\u001b[0;34m)\u001b[0m\u001b[0;34m\u001b[0m\u001b[0;34m\u001b[0m\u001b[0m\n\u001b[0m\u001b[1;32m   1751\u001b[0m \u001b[0;34m\u001b[0m\u001b[0m\n\u001b[1;32m   1752\u001b[0m         \u001b[0mresult\u001b[0m \u001b[0;34m=\u001b[0m \u001b[0;32mNone\u001b[0m\u001b[0;34m\u001b[0m\u001b[0;34m\u001b[0m\u001b[0m\n",
            "\u001b[0;32m/usr/local/lib/python3.11/dist-packages/torch_geometric/nn/conv/gcn_conv.py\u001b[0m in \u001b[0;36mforward\u001b[0;34m(self, x, edge_index, edge_weight)\u001b[0m\n\u001b[1;32m    261\u001b[0m \u001b[0;34m\u001b[0m\u001b[0m\n\u001b[1;32m    262\u001b[0m         \u001b[0;31m# propagate_type: (x: Tensor, edge_weight: OptTensor)\u001b[0m\u001b[0;34m\u001b[0m\u001b[0;34m\u001b[0m\u001b[0m\n\u001b[0;32m--> 263\u001b[0;31m         \u001b[0mout\u001b[0m \u001b[0;34m=\u001b[0m \u001b[0mself\u001b[0m\u001b[0;34m.\u001b[0m\u001b[0mpropagate\u001b[0m\u001b[0;34m(\u001b[0m\u001b[0medge_index\u001b[0m\u001b[0;34m,\u001b[0m \u001b[0mx\u001b[0m\u001b[0;34m=\u001b[0m\u001b[0mx\u001b[0m\u001b[0;34m,\u001b[0m \u001b[0medge_weight\u001b[0m\u001b[0;34m=\u001b[0m\u001b[0medge_weight\u001b[0m\u001b[0;34m)\u001b[0m\u001b[0;34m\u001b[0m\u001b[0;34m\u001b[0m\u001b[0m\n\u001b[0m\u001b[1;32m    264\u001b[0m \u001b[0;34m\u001b[0m\u001b[0m\n\u001b[1;32m    265\u001b[0m         \u001b[0;32mif\u001b[0m \u001b[0mself\u001b[0m\u001b[0;34m.\u001b[0m\u001b[0mbias\u001b[0m \u001b[0;32mis\u001b[0m \u001b[0;32mnot\u001b[0m \u001b[0;32mNone\u001b[0m\u001b[0;34m:\u001b[0m\u001b[0;34m\u001b[0m\u001b[0;34m\u001b[0m\u001b[0m\n",
            "\u001b[0;32m/tmp/torch_geometric.nn.conv.gcn_conv_GCNConv_propagate_x99jron_.py\u001b[0m in \u001b[0;36mpropagate\u001b[0;34m(self, edge_index, x, edge_weight, size)\u001b[0m\n\u001b[1;32m    136\u001b[0m     \u001b[0;31m# End Propagate Forward Pre Hook ###########################################\u001b[0m\u001b[0;34m\u001b[0m\u001b[0;34m\u001b[0m\u001b[0m\n\u001b[1;32m    137\u001b[0m \u001b[0;34m\u001b[0m\u001b[0m\n\u001b[0;32m--> 138\u001b[0;31m     \u001b[0mmutable_size\u001b[0m \u001b[0;34m=\u001b[0m \u001b[0mself\u001b[0m\u001b[0;34m.\u001b[0m\u001b[0m_check_input\u001b[0m\u001b[0;34m(\u001b[0m\u001b[0medge_index\u001b[0m\u001b[0;34m,\u001b[0m \u001b[0msize\u001b[0m\u001b[0;34m)\u001b[0m\u001b[0;34m\u001b[0m\u001b[0;34m\u001b[0m\u001b[0m\n\u001b[0m\u001b[1;32m    139\u001b[0m \u001b[0;34m\u001b[0m\u001b[0m\n\u001b[1;32m    140\u001b[0m     \u001b[0;31m# Run \"fused\" message and aggregation (if applicable).\u001b[0m\u001b[0;34m\u001b[0m\u001b[0;34m\u001b[0m\u001b[0m\n",
            "\u001b[0;32m/usr/local/lib/python3.11/dist-packages/torch_geometric/nn/conv/message_passing.py\u001b[0m in \u001b[0;36m_check_input\u001b[0;34m(self, edge_index, size)\u001b[0m\n\u001b[1;32m    242\u001b[0m             \u001b[0;32mreturn\u001b[0m \u001b[0mlist\u001b[0m\u001b[0;34m(\u001b[0m\u001b[0msize\u001b[0m\u001b[0;34m)\u001b[0m \u001b[0;32mif\u001b[0m \u001b[0msize\u001b[0m \u001b[0;32mis\u001b[0m \u001b[0;32mnot\u001b[0m \u001b[0;32mNone\u001b[0m \u001b[0;32melse\u001b[0m \u001b[0;34m[\u001b[0m\u001b[0;32mNone\u001b[0m\u001b[0;34m,\u001b[0m \u001b[0;32mNone\u001b[0m\u001b[0;34m]\u001b[0m\u001b[0;34m\u001b[0m\u001b[0;34m\u001b[0m\u001b[0m\n\u001b[1;32m    243\u001b[0m \u001b[0;34m\u001b[0m\u001b[0m\n\u001b[0;32m--> 244\u001b[0;31m         raise ValueError(\n\u001b[0m\u001b[1;32m    245\u001b[0m             \u001b[0;34m'`MessagePassing.propagate` only supports integer tensors of '\u001b[0m\u001b[0;34m\u001b[0m\u001b[0;34m\u001b[0m\u001b[0m\n\u001b[1;32m    246\u001b[0m             \u001b[0;34m'shape `[2, num_messages]`, `torch_sparse.SparseTensor` or '\u001b[0m\u001b[0;34m\u001b[0m\u001b[0;34m\u001b[0m\u001b[0m\n",
            "\u001b[0;31mValueError\u001b[0m: `MessagePassing.propagate` only supports integer tensors of shape `[2, num_messages]`, `torch_sparse.SparseTensor` or `torch.sparse.Tensor` for argument `edge_index`."
          ]
        }
      ]
    },
    {
      "cell_type": "markdown",
      "source": [
        "# Evaluate the model"
      ],
      "metadata": {
        "id": "UlD67LVQzl1i"
      }
    },
    {
      "cell_type": "code",
      "source": [
        "model.eval()\n",
        "with torch.no_grad():\n",
        "    out = model(data)\n",
        "    pred = out.argmax(dim=1)\n",
        "    correct = (pred[data.test_mask] == data.y[data.test_mask]).sum()\n",
        "    acc = correct / data.test_mask.sum()\n",
        "    print(f\"\\n✅ Test Accuracy: {acc:.4f}\")"
      ],
      "metadata": {
        "id": "BI73J-avwZ0f"
      },
      "execution_count": null,
      "outputs": []
    },
    {
      "cell_type": "markdown",
      "source": [
        "# Tuning the model"
      ],
      "metadata": {
        "id": "BNIOVEWuDHQB"
      }
    },
    {
      "cell_type": "markdown",
      "source": [
        "The model has only 60% accuracy at first but it shows that it is learning something.\n",
        "In the Stacked RF two step classification apporach, even with just the intrisic features, the models could reach over 90% accuracy.\n",
        "So first, lets see if we can up the performance by\n",
        "1. Increasing the epochs\n",
        "2. Increase the layers in the models"
      ],
      "metadata": {
        "id": "ORUjkV7tAXU3"
      }
    },
    {
      "cell_type": "code",
      "source": [
        "import torch\n",
        "import torch.nn as nn\n",
        "import torch.nn.functional as F\n",
        "from torch_geometric.nn import GCNConv\n",
        "\n",
        "# Custom GCN block\n",
        "class GCNBlock(nn.Module):\n",
        "    def __init__(self, in_channels, out_channels):\n",
        "        super().__init__()\n",
        "        self.conv = GCNConv(in_channels, out_channels)\n",
        "        self.activation = nn.ReLU()\n",
        "\n",
        "    def forward(self, x, edge_index):\n",
        "        x = self.conv(x, edge_index)\n",
        "        x = self.activation(x)\n",
        "        return x"
      ],
      "metadata": {
        "id": "FkuhBbJR2ibK"
      },
      "execution_count": null,
      "outputs": []
    },
    {
      "cell_type": "code",
      "source": [
        "class DeepGCN(nn.Module):\n",
        "    def __init__(self, input_dim, hidden_dims, num_classes):\n",
        "        super().__init__()\n",
        "\n",
        "        self.layers = nn.ModuleList()\n",
        "        dims = [input_dim] + hidden_dims\n",
        "\n",
        "        for i in range(len(hidden_dims)):\n",
        "            self.layers.append(GCNBlock(dims[i], dims[i + 1]))\n",
        "\n",
        "        self.final_conv = GCNConv(dims[-1], num_classes)\n",
        "\n",
        "    def forward(self, data):\n",
        "        x, edge_index = data.x, data.edge_index\n",
        "\n",
        "        for layer in self.layers:\n",
        "            x = layer(x, edge_index)\n",
        "            x = F.dropout(x, p=0.5, training=self.training)\n",
        "\n",
        "        x = self.final_conv(x, edge_index)\n",
        "        return F.log_softmax(x, dim=1)"
      ],
      "metadata": {
        "id": "zr12aYTcA6Mo"
      },
      "execution_count": null,
      "outputs": []
    },
    {
      "cell_type": "code",
      "source": [
        "input_dim = data.num_node_features\n",
        "hidden_dim = [32, 64, 64] # this now takes a list\n",
        "num_classes = len(le.classes_)\n",
        "\n",
        "model = DeepGCN(input_dim, hidden_dim, num_classes)\n",
        "optimizer = torch.optim.Adam(model.parameters(), lr=0.01, weight_decay=5e-4)\n",
        "\n",
        "# Training loop also increased the epoch\n",
        "model.train()\n",
        "for epoch in range(500):\n",
        "    optimizer.zero_grad()\n",
        "    out = model(data)\n",
        "    loss = F.nll_loss(out[data.train_mask], data.y[data.train_mask])\n",
        "    loss.backward()\n",
        "    optimizer.step()\n",
        "\n",
        "    if epoch % 50 == 0:\n",
        "        print(f\"Epoch {epoch:03d} | Loss: {loss.item():.4f}\")\n"
      ],
      "metadata": {
        "id": "HYyapo2gDR6P"
      },
      "execution_count": null,
      "outputs": []
    },
    {
      "cell_type": "code",
      "source": [
        "model.eval()\n",
        "with torch.no_grad():\n",
        "    out = model(data)\n",
        "    pred = out.argmax(dim=1)\n",
        "    correct = (pred[data.test_mask] == data.y[data.test_mask]).sum()\n",
        "    acc = correct / data.test_mask.sum()\n",
        "    print(f\"\\n✅ Test Accuracy: {acc:.4f}\")"
      ],
      "metadata": {
        "id": "JCJ5LwRID3_O"
      },
      "execution_count": null,
      "outputs": []
    },
    {
      "cell_type": "markdown",
      "source": [
        "# Graph Attention"
      ],
      "metadata": {
        "id": "gAWgkqThEXsU"
      }
    },
    {
      "cell_type": "markdown",
      "source": [
        "since the model is not improving much by adding complexity,\n",
        "it could be because now the averaging mechnicsm in Conv does not fit the case where certain nodes need more attention than the others.\n",
        "In our case, we can try graph attention system"
      ],
      "metadata": {
        "id": "10JLE0eWEZTZ"
      }
    },
    {
      "cell_type": "code",
      "source": [
        "from torch_geometric.nn import GATConv\n",
        "\n",
        "class GATBlock(nn.Module):\n",
        "    def __init__(self, in_channels, out_channels, heads =4, concat = True):\n",
        "        super().__init__()\n",
        "        self.gat = GATConv(in_channels, out_channels, heads= heads, concat= concat)\n",
        "        self.activation = nn.ReLU()\n",
        "        self.output_dim = out_channels * heads if concat else out_channels\n",
        "\n",
        "    def forward(self, x, edge_index):\n",
        "        x = self.gat(x, edge_index)\n",
        "        x = self.activation(x)\n",
        "        return x"
      ],
      "metadata": {
        "id": "9vhRoR75DDqQ"
      },
      "execution_count": null,
      "outputs": []
    },
    {
      "cell_type": "code",
      "source": [
        "class DeepGAT(nn.Module):\n",
        "    def __init__(self, input_dim, hidden_dims, num_classes, heads, concat):\n",
        "        super().__init__()\n",
        "\n",
        "        self.layers = nn.ModuleList()\n",
        "        dims = [input_dim] + hidden_dims\n",
        "\n",
        "        for i in range(len(hidden_dims)):\n",
        "          concat = True if i < len(hidden_dims) - 1 else False  # Final layer? Don't concat\n",
        "          block = GATBlock(dims[i], dims[i + 1], heads= heads, concat= concat)\n",
        "          self.layers.append(block)\n",
        "          dims[i + 1] = block.output_dim\n",
        "\n",
        "        self.final_gat = GATConv(dims[-1], num_classes, heads=1, concat=False)\n",
        "\n",
        "    def forward(self, data):\n",
        "        x, edge_index = data.x, data.edge_index\n",
        "        for layer in self.layers:\n",
        "            x = layer(x, edge_index)\n",
        "            x = F.dropout(x, p=0.65, training=self.training)\n",
        "        x = self.final_gat(x, edge_index)\n",
        "        return F.log_softmax(x, dim=1)"
      ],
      "metadata": {
        "id": "nPBAR8_hFGa-"
      },
      "execution_count": null,
      "outputs": []
    },
    {
      "cell_type": "code",
      "source": [
        "input_dim = data.num_node_features\n",
        "hidden_dim = [32, 64, 64] # this now takes a list\n",
        "num_classes = len(le.classes_)\n",
        "heads = 4\n",
        "concat = True\n",
        "\n",
        "model = DeepGAT(input_dim, hidden_dim, num_classes, heads = heads, concat = concat)\n",
        "optimizer = torch.optim.Adam(model.parameters(), lr=0.01, weight_decay=5e-4)\n",
        "\n",
        "# Training loop also increased the epoch\n",
        "model.train()\n",
        "for epoch in range(200):\n",
        "    optimizer.zero_grad()\n",
        "    out = model(data)\n",
        "    loss = F.nll_loss(out[data.train_mask], data.y[data.train_mask])\n",
        "    loss.backward()\n",
        "    optimizer.step()\n",
        "\n",
        "    if epoch % 50 == 0:\n",
        "        print(f\"Epoch {epoch:03d} | Loss: {loss.item():.4f}\")\n"
      ],
      "metadata": {
        "id": "_iCNeTevFRNS"
      },
      "execution_count": null,
      "outputs": []
    },
    {
      "cell_type": "code",
      "source": [
        "model.eval()\n",
        "with torch.no_grad():\n",
        "    out = model(data)\n",
        "    pred = out.argmax(dim=1)\n",
        "    correct = (pred[data.test_mask] == data.y[data.test_mask]).sum()\n",
        "    acc = correct / data.test_mask.sum()\n",
        "    print(f\"\\n✅ Test Accuracy: {acc:.4f}\")"
      ],
      "metadata": {
        "id": "AOhADhy6FUI7"
      },
      "execution_count": null,
      "outputs": []
    },
    {
      "cell_type": "markdown",
      "source": [
        "# Creating Edge Features"
      ],
      "metadata": {
        "id": "sSi77oeCH1DN"
      }
    },
    {
      "cell_type": "code",
      "source": [],
      "metadata": {
        "id": "n0SCy1JIE4s8"
      },
      "execution_count": null,
      "outputs": []
    }
  ]
}