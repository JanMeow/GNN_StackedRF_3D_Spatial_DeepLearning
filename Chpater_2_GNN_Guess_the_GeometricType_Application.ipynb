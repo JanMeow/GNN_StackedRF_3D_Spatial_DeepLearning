{
  "nbformat": 4,
  "nbformat_minor": 0,
  "metadata": {
    "colab": {
      "provenance": [],
      "authorship_tag": "ABX9TyMyjVSinSNRypo/gxP+LFFo",
      "include_colab_link": true
    },
    "kernelspec": {
      "name": "python3",
      "display_name": "Python 3"
    },
    "language_info": {
      "name": "python"
    }
  },
  "cells": [
    {
      "cell_type": "markdown",
      "metadata": {
        "id": "view-in-github",
        "colab_type": "text"
      },
      "source": [
        "<a href=\"https://colab.research.google.com/github/JanMeow/GNN_StackedRF_3D_Spatial_DeepLearning/blob/main/Chpater_2_GNN_Guess_the_GeometricType_Application.ipynb\" target=\"_parent\"><img src=\"https://colab.research.google.com/assets/colab-badge.svg\" alt=\"Open In Colab\"/></a>"
      ]
    },
    {
      "cell_type": "code",
      "execution_count": 1,
      "metadata": {
        "colab": {
          "base_uri": "https://localhost:8080/"
        },
        "id": "ztp7jgt_W09h",
        "outputId": "f96474c6-2a6c-4ea2-9f45-ffed7652b321"
      },
      "outputs": [
        {
          "output_type": "stream",
          "name": "stdout",
          "text": [
            "Requirement already satisfied: numpy in /usr/local/lib/python3.11/dist-packages (2.0.2)\n",
            "Collecting pytorch\n",
            "  Downloading pytorch-1.0.2.tar.gz (689 bytes)\n",
            "  Preparing metadata (setup.py) ... \u001b[?25l\u001b[?25hdone\n",
            "Building wheels for collected packages: pytorch\n",
            "  \u001b[1;31merror\u001b[0m: \u001b[1msubprocess-exited-with-error\u001b[0m\n",
            "  \n",
            "  \u001b[31m×\u001b[0m \u001b[32mpython setup.py bdist_wheel\u001b[0m did not run successfully.\n",
            "  \u001b[31m│\u001b[0m exit code: \u001b[1;36m1\u001b[0m\n",
            "  \u001b[31m╰─>\u001b[0m See above for output.\n",
            "  \n",
            "  \u001b[1;35mnote\u001b[0m: This error originates from a subprocess, and is likely not a problem with pip.\n",
            "  Building wheel for pytorch (setup.py) ... \u001b[?25lerror\n",
            "\u001b[31m  ERROR: Failed building wheel for pytorch\u001b[0m\u001b[31m\n",
            "\u001b[0m\u001b[?25h  Running setup.py clean for pytorch\n",
            "Failed to build pytorch\n",
            "\u001b[31mERROR: ERROR: Failed to build installable wheels for some pyproject.toml based projects (pytorch)\u001b[0m\u001b[31m\n",
            "\u001b[0mCollecting torch_geometric\n",
            "  Downloading torch_geometric-2.6.1-py3-none-any.whl.metadata (63 kB)\n",
            "\u001b[2K     \u001b[90m━━━━━━━━━━━━━━━━━━━━━━━━━━━━━━━━━━━━━━━━\u001b[0m \u001b[32m63.1/63.1 kB\u001b[0m \u001b[31m1.3 MB/s\u001b[0m eta \u001b[36m0:00:00\u001b[0m\n",
            "\u001b[?25hRequirement already satisfied: aiohttp in /usr/local/lib/python3.11/dist-packages (from torch_geometric) (3.11.15)\n",
            "Requirement already satisfied: fsspec in /usr/local/lib/python3.11/dist-packages (from torch_geometric) (2025.3.2)\n",
            "Requirement already satisfied: jinja2 in /usr/local/lib/python3.11/dist-packages (from torch_geometric) (3.1.6)\n",
            "Requirement already satisfied: numpy in /usr/local/lib/python3.11/dist-packages (from torch_geometric) (2.0.2)\n",
            "Requirement already satisfied: psutil>=5.8.0 in /usr/local/lib/python3.11/dist-packages (from torch_geometric) (5.9.5)\n",
            "Requirement already satisfied: pyparsing in /usr/local/lib/python3.11/dist-packages (from torch_geometric) (3.2.3)\n",
            "Requirement already satisfied: requests in /usr/local/lib/python3.11/dist-packages (from torch_geometric) (2.32.3)\n",
            "Requirement already satisfied: tqdm in /usr/local/lib/python3.11/dist-packages (from torch_geometric) (4.67.1)\n",
            "Requirement already satisfied: aiohappyeyeballs>=2.3.0 in /usr/local/lib/python3.11/dist-packages (from aiohttp->torch_geometric) (2.6.1)\n",
            "Requirement already satisfied: aiosignal>=1.1.2 in /usr/local/lib/python3.11/dist-packages (from aiohttp->torch_geometric) (1.3.2)\n",
            "Requirement already satisfied: attrs>=17.3.0 in /usr/local/lib/python3.11/dist-packages (from aiohttp->torch_geometric) (25.3.0)\n",
            "Requirement already satisfied: frozenlist>=1.1.1 in /usr/local/lib/python3.11/dist-packages (from aiohttp->torch_geometric) (1.6.0)\n",
            "Requirement already satisfied: multidict<7.0,>=4.5 in /usr/local/lib/python3.11/dist-packages (from aiohttp->torch_geometric) (6.4.3)\n",
            "Requirement already satisfied: propcache>=0.2.0 in /usr/local/lib/python3.11/dist-packages (from aiohttp->torch_geometric) (0.3.1)\n",
            "Requirement already satisfied: yarl<2.0,>=1.17.0 in /usr/local/lib/python3.11/dist-packages (from aiohttp->torch_geometric) (1.20.0)\n",
            "Requirement already satisfied: MarkupSafe>=2.0 in /usr/local/lib/python3.11/dist-packages (from jinja2->torch_geometric) (3.0.2)\n",
            "Requirement already satisfied: charset-normalizer<4,>=2 in /usr/local/lib/python3.11/dist-packages (from requests->torch_geometric) (3.4.1)\n",
            "Requirement already satisfied: idna<4,>=2.5 in /usr/local/lib/python3.11/dist-packages (from requests->torch_geometric) (3.10)\n",
            "Requirement already satisfied: urllib3<3,>=1.21.1 in /usr/local/lib/python3.11/dist-packages (from requests->torch_geometric) (2.3.0)\n",
            "Requirement already satisfied: certifi>=2017.4.17 in /usr/local/lib/python3.11/dist-packages (from requests->torch_geometric) (2025.1.31)\n",
            "Downloading torch_geometric-2.6.1-py3-none-any.whl (1.1 MB)\n",
            "\u001b[2K   \u001b[90m━━━━━━━━━━━━━━━━━━━━━━━━━━━━━━━━━━━━━━━━\u001b[0m \u001b[32m1.1/1.1 MB\u001b[0m \u001b[31m17.0 MB/s\u001b[0m eta \u001b[36m0:00:00\u001b[0m\n",
            "\u001b[?25hInstalling collected packages: torch_geometric\n",
            "Successfully installed torch_geometric-2.6.1\n"
          ]
        }
      ],
      "source": [
        "!pip install numpy\n",
        "!pip install pytorch\n",
        "!pip install torch_geometric"
      ]
    },
    {
      "cell_type": "code",
      "source": [
        "import torch\n",
        "print(torch.__version__)"
      ],
      "metadata": {
        "colab": {
          "base_uri": "https://localhost:8080/"
        },
        "id": "svJnGaIOdSft",
        "outputId": "934bcbd2-1548-4312-ddd9-279034b2f677"
      },
      "execution_count": 2,
      "outputs": [
        {
          "output_type": "stream",
          "name": "stdout",
          "text": [
            "2.6.0+cu124\n"
          ]
        }
      ]
    },
    {
      "cell_type": "code",
      "source": [
        "print(f\"python {torch.version.cuda}\")"
      ],
      "metadata": {
        "colab": {
          "base_uri": "https://localhost:8080/"
        },
        "id": "QeKgxSEWdYOe",
        "outputId": "80dbd2b4-305a-4cdb-c254-401ae0c233b1"
      },
      "execution_count": 3,
      "outputs": [
        {
          "output_type": "stream",
          "name": "stdout",
          "text": [
            "python 12.4\n"
          ]
        }
      ]
    },
    {
      "cell_type": "code",
      "source": [
        "torch.cuda.is_available()"
      ],
      "metadata": {
        "colab": {
          "base_uri": "https://localhost:8080/"
        },
        "id": "BqZe4QvKcjqq",
        "outputId": "a87d0c33-2f30-4291-fe67-9c846e1e66d4"
      },
      "execution_count": 4,
      "outputs": [
        {
          "output_type": "execute_result",
          "data": {
            "text/plain": [
              "False"
            ]
          },
          "metadata": {},
          "execution_count": 4
        }
      ]
    },
    {
      "cell_type": "code",
      "source": [
        "import torch\n",
        "from torch_geometric.data import Data\n",
        "\n",
        "edge_index = torch.tensor([[0, 1, 1, 2],\n",
        "                           [1, 0, 2, 1]], dtype=torch.long)\n",
        "x = torch.tensor([[-1], [0], [1]], dtype=torch.float)\n",
        "\n",
        "data = Data(x=x, edge_index=edge_index)\n",
        "Data(edge_index=[2, 4], x=[3, 1])"
      ],
      "metadata": {
        "id": "oBvT6NKmdJFz",
        "colab": {
          "base_uri": "https://localhost:8080/"
        },
        "outputId": "11ffb252-717b-4b61-d443-fd09b1dba8e6"
      },
      "execution_count": 5,
      "outputs": [
        {
          "output_type": "execute_result",
          "data": {
            "text/plain": [
              "Data(x=[2], edge_index=[2])"
            ]
          },
          "metadata": {},
          "execution_count": 5
        }
      ]
    },
    {
      "cell_type": "markdown",
      "source": [
        "#Transforming our graph into PYG graph"
      ],
      "metadata": {
        "id": "bwsSwjTlEkRj"
      }
    },
    {
      "cell_type": "markdown",
      "source": [
        "Although our data is in graph structure, it is different from the PyG format of graph we need for training.\n",
        "So the first step would be to turn our graph into a PyG *graph*\n",
        "\n",
        "\n",
        "1.   Turn node index into integers\n",
        "2.   Use node.near property to connect the indexs\n",
        "\n"
      ],
      "metadata": {
        "id": "eVFiGXlKEoQB"
      }
    },
    {
      "cell_type": "code",
      "source": [
        "# Getting the data and data engineering functions\n",
        "!git clone https://github.com/JanMeow/3d_graph_data_engineering.git\n",
        "# Install the dependency\n",
        "!mv 3d_graph_data_engineering data_engineering\n",
        "!pip install numpy pandas ifcopenshell"
      ],
      "metadata": {
        "colab": {
          "base_uri": "https://localhost:8080/"
        },
        "id": "kAElHJlRH8XQ",
        "outputId": "313e4d19-34f7-4acb-b890-df534b1ed725"
      },
      "execution_count": 6,
      "outputs": [
        {
          "output_type": "stream",
          "name": "stdout",
          "text": [
            "Cloning into '3d_graph_data_engineering'...\n",
            "remote: Enumerating objects: 120, done.\u001b[K\n",
            "remote: Counting objects: 100% (120/120), done.\u001b[K\n",
            "remote: Compressing objects: 100% (81/81), done.\u001b[K\n",
            "remote: Total 120 (delta 71), reused 80 (delta 33), pack-reused 0 (from 0)\u001b[K\n",
            "Receiving objects: 100% (120/120), 341.71 KiB | 5.69 MiB/s, done.\n",
            "Resolving deltas: 100% (71/71), done.\n",
            "Requirement already satisfied: numpy in /usr/local/lib/python3.11/dist-packages (2.0.2)\n",
            "Requirement already satisfied: pandas in /usr/local/lib/python3.11/dist-packages (2.2.2)\n",
            "Collecting ifcopenshell\n",
            "  Downloading ifcopenshell-0.8.2-py311-none-manylinux_2_31_x86_64.whl.metadata (11 kB)\n",
            "Requirement already satisfied: python-dateutil>=2.8.2 in /usr/local/lib/python3.11/dist-packages (from pandas) (2.8.2)\n",
            "Requirement already satisfied: pytz>=2020.1 in /usr/local/lib/python3.11/dist-packages (from pandas) (2025.2)\n",
            "Requirement already satisfied: tzdata>=2022.7 in /usr/local/lib/python3.11/dist-packages (from pandas) (2025.2)\n",
            "Requirement already satisfied: shapely in /usr/local/lib/python3.11/dist-packages (from ifcopenshell) (2.1.0)\n",
            "Collecting isodate (from ifcopenshell)\n",
            "  Downloading isodate-0.7.2-py3-none-any.whl.metadata (11 kB)\n",
            "Collecting lark (from ifcopenshell)\n",
            "  Downloading lark-1.2.2-py3-none-any.whl.metadata (1.8 kB)\n",
            "Requirement already satisfied: typing-extensions in /usr/local/lib/python3.11/dist-packages (from ifcopenshell) (4.13.2)\n",
            "Requirement already satisfied: six>=1.5 in /usr/local/lib/python3.11/dist-packages (from python-dateutil>=2.8.2->pandas) (1.17.0)\n",
            "Downloading ifcopenshell-0.8.2-py311-none-manylinux_2_31_x86_64.whl (40.8 MB)\n",
            "\u001b[2K   \u001b[90m━━━━━━━━━━━━━━━━━━━━━━━━━━━━━━━━━━━━━━━━\u001b[0m \u001b[32m40.8/40.8 MB\u001b[0m \u001b[31m16.6 MB/s\u001b[0m eta \u001b[36m0:00:00\u001b[0m\n",
            "\u001b[?25hDownloading isodate-0.7.2-py3-none-any.whl (22 kB)\n",
            "Downloading lark-1.2.2-py3-none-any.whl (111 kB)\n",
            "\u001b[2K   \u001b[90m━━━━━━━━━━━━━━━━━━━━━━━━━━━━━━━━━━━━━━━━\u001b[0m \u001b[32m111.0/111.0 kB\u001b[0m \u001b[31m8.0 MB/s\u001b[0m eta \u001b[36m0:00:00\u001b[0m\n",
            "\u001b[?25hInstalling collected packages: lark, isodate, ifcopenshell\n",
            "Successfully installed ifcopenshell-0.8.2 isodate-0.7.2 lark-1.2.2\n"
          ]
        }
      ]
    },
    {
      "cell_type": "code",
      "source": [
        "import numpy as np\n",
        "import pandas as pd\n",
        "import ifcopenshell\n",
        "import sys\n",
        "sys.path.append('/content/data_engineering')\n",
        "from data_engineering import collision as C, utils as U, compute_proxy as CP"
      ],
      "metadata": {
        "id": "odRH75BSIAVZ"
      },
      "execution_count": 7,
      "outputs": []
    },
    {
      "cell_type": "code",
      "source": [
        "from pathlib import Path\n",
        "# lets use the test ifc_model\n",
        "ifc_path = \"/content/data_engineering/data/ifc/ML_train_data_0.ifc\""
      ],
      "metadata": {
        "id": "c7ezFr_WIEIv"
      },
      "execution_count": 8,
      "outputs": []
    },
    {
      "cell_type": "code",
      "source": [
        "model = ifcopenshell.open(ifc_path)\n",
        "root = model.by_type(\"IfcProject\")[0]"
      ],
      "metadata": {
        "id": "ZJuVbdZTIFu_"
      },
      "execution_count": 9,
      "outputs": []
    },
    {
      "cell_type": "code",
      "source": [
        "from utils import  Graph\n",
        "# Create a graph and establish BVH Tree=\n",
        "graph = Graph.create(root)\n",
        "graph.build_bvh()"
      ],
      "metadata": {
        "colab": {
          "base_uri": "https://localhost:8080/"
        },
        "id": "CkP9G3KeIIx2",
        "outputId": "e3472676-ed2e-497f-d5f7-4201ea14e112"
      },
      "execution_count": 10,
      "outputs": [
        {
          "output_type": "stream",
          "name": "stdout",
          "text": [
            "Function ended, No more spatial child\n",
            "Graph created\n"
          ]
        }
      ]
    },
    {
      "cell_type": "code",
      "source": [
        "# Set seeds\n",
        "import os\n",
        "import random\n",
        "\n",
        "\n",
        "def set_seed(seed=42):\n",
        "    random.seed(seed)\n",
        "    np.random.seed(seed)\n",
        "    torch.manual_seed(seed)\n",
        "    torch.cuda.manual_seed_all(seed)\n",
        "\n",
        "    # Optional: enforce deterministic behavior (slower but more consistent)\n",
        "    torch.backends.cudnn.deterministic = True\n",
        "    torch.backends.cudnn.benchmark = False\n",
        "\n",
        "    os.environ['PYTHONHASHSEED'] = str(seed)\n",
        "\n",
        "set_seed(42)"
      ],
      "metadata": {
        "id": "np3O9oEqa85i"
      },
      "execution_count": 11,
      "outputs": []
    },
    {
      "cell_type": "code",
      "source": [
        "for node in graph.node_dict.values():\n",
        "      if node.geom_info != None:\n",
        "          node.near = [graph[guid] for guid in graph.bvh_query(node.geom_info[\"bbox\"])\n",
        "                        if guid != node.guid]"
      ],
      "metadata": {
        "id": "yPSM-0aeK4ag"
      },
      "execution_count": 12,
      "outputs": []
    },
    {
      "cell_type": "markdown",
      "source": [
        "# Turn the data into features embedding for the GNN"
      ],
      "metadata": {
        "id": "WE-7QIi1E7vY"
      }
    },
    {
      "cell_type": "code",
      "source": [
        "#Get Intrisic features for all nodes\n",
        "intrinsic_features = [CP.get_Intrinsic_features(graph, key) for key in graph.node_dict.keys()]\n",
        "print(\"Finished Extracting Intrinsic Features\")"
      ],
      "metadata": {
        "colab": {
          "base_uri": "https://localhost:8080/"
        },
        "id": "-XE8PwUIFM2g",
        "outputId": "168a8808-183d-48bd-b9a7-af5b77bb388d"
      },
      "execution_count": 13,
      "outputs": [
        {
          "output_type": "stream",
          "name": "stdout",
          "text": [
            "Finished Extracting Intrinsic Features\n"
          ]
        }
      ]
    },
    {
      "cell_type": "code",
      "source": [
        "#Example of an intrisic features\n",
        "df1 = pd.DataFrame(intrinsic_features)\n",
        "df1.head()"
      ],
      "metadata": {
        "colab": {
          "base_uri": "https://localhost:8080/",
          "height": 255
        },
        "id": "UfIQ5_D3FGOU",
        "outputId": "9d8ed874-50c9-489d-ecae-31f7924605c7"
      },
      "execution_count": 14,
      "outputs": [
        {
          "output_type": "execute_result",
          "data": {
            "text/plain": [
              "   AABB_X_Extent  OOBB_X_Extent  AABB_Y_Extent  OOBB_Y_Extent  AABB_Z_Extent  \\\n",
              "0           4.69       4.651975           6.78       6.953317           0.04   \n",
              "1           1.98       0.280000           3.70       0.202695           0.28   \n",
              "2           3.44       4.458813           3.08       0.199449           0.28   \n",
              "3           4.18       3.491121           6.53       6.070073           0.04   \n",
              "4           0.57       0.280000           1.78       0.206350           0.28   \n",
              "\n",
              "   OOBB_Z_Extent  AABB_base_area  OOBB_Base_area  World_X_Extent  \\\n",
              "0       0.040000           15.94           32.35           27.68   \n",
              "1       4.058783            0.80            0.06           27.68   \n",
              "2       0.280000            0.87            0.89           27.68   \n",
              "3       0.040000           15.59           21.19           27.68   \n",
              "4       1.831194            0.33            0.06           27.68   \n",
              "\n",
              "   World_Y_Extent  ...  Surface_area    Volume  Largest_face_area  \\\n",
              "0           13.68  ...     32.549824  0.659685              15.94   \n",
              "1           13.68  ...      3.953537  0.223608               1.12   \n",
              "2           13.68  ...      4.335963  0.244300               1.24   \n",
              "3           13.68  ...     31.833550  0.623736              15.59   \n",
              "4           13.68  ...      1.731608  0.092064               0.51   \n",
              "\n",
              "   Largest_face_normal_has_Z_vector  Number_of_vertices_in_base  \\\n",
              "0                              True                           6   \n",
              "1                             False                           4   \n",
              "2                             False                           4   \n",
              "3                              True                           5   \n",
              "4                             False                           4   \n",
              "\n",
              "   Number_of_vertices  Number_of_faces  Number_of_XYZ_aligned_faces  \\\n",
              "0                  12               20                            8   \n",
              "1                   8               12                            4   \n",
              "2                   8               12                            4   \n",
              "3                  10               16                            6   \n",
              "4                   8               12                            4   \n",
              "\n",
              "   Number_of_Z_aligned_faces  Number_of_faces_in_largest_face  \n",
              "0                          8                                4  \n",
              "1                          4                                2  \n",
              "2                          4                                2  \n",
              "3                          6                                3  \n",
              "4                          4                                2  \n",
              "\n",
              "[5 rows x 34 columns]"
            ],
            "text/html": [
              "\n",
              "  <div id=\"df-89d55878-3f45-4665-b97b-5d04a700e0f4\" class=\"colab-df-container\">\n",
              "    <div>\n",
              "<style scoped>\n",
              "    .dataframe tbody tr th:only-of-type {\n",
              "        vertical-align: middle;\n",
              "    }\n",
              "\n",
              "    .dataframe tbody tr th {\n",
              "        vertical-align: top;\n",
              "    }\n",
              "\n",
              "    .dataframe thead th {\n",
              "        text-align: right;\n",
              "    }\n",
              "</style>\n",
              "<table border=\"1\" class=\"dataframe\">\n",
              "  <thead>\n",
              "    <tr style=\"text-align: right;\">\n",
              "      <th></th>\n",
              "      <th>AABB_X_Extent</th>\n",
              "      <th>OOBB_X_Extent</th>\n",
              "      <th>AABB_Y_Extent</th>\n",
              "      <th>OOBB_Y_Extent</th>\n",
              "      <th>AABB_Z_Extent</th>\n",
              "      <th>OOBB_Z_Extent</th>\n",
              "      <th>AABB_base_area</th>\n",
              "      <th>OOBB_Base_area</th>\n",
              "      <th>World_X_Extent</th>\n",
              "      <th>World_Y_Extent</th>\n",
              "      <th>...</th>\n",
              "      <th>Surface_area</th>\n",
              "      <th>Volume</th>\n",
              "      <th>Largest_face_area</th>\n",
              "      <th>Largest_face_normal_has_Z_vector</th>\n",
              "      <th>Number_of_vertices_in_base</th>\n",
              "      <th>Number_of_vertices</th>\n",
              "      <th>Number_of_faces</th>\n",
              "      <th>Number_of_XYZ_aligned_faces</th>\n",
              "      <th>Number_of_Z_aligned_faces</th>\n",
              "      <th>Number_of_faces_in_largest_face</th>\n",
              "    </tr>\n",
              "  </thead>\n",
              "  <tbody>\n",
              "    <tr>\n",
              "      <th>0</th>\n",
              "      <td>4.69</td>\n",
              "      <td>4.651975</td>\n",
              "      <td>6.78</td>\n",
              "      <td>6.953317</td>\n",
              "      <td>0.04</td>\n",
              "      <td>0.040000</td>\n",
              "      <td>15.94</td>\n",
              "      <td>32.35</td>\n",
              "      <td>27.68</td>\n",
              "      <td>13.68</td>\n",
              "      <td>...</td>\n",
              "      <td>32.549824</td>\n",
              "      <td>0.659685</td>\n",
              "      <td>15.94</td>\n",
              "      <td>True</td>\n",
              "      <td>6</td>\n",
              "      <td>12</td>\n",
              "      <td>20</td>\n",
              "      <td>8</td>\n",
              "      <td>8</td>\n",
              "      <td>4</td>\n",
              "    </tr>\n",
              "    <tr>\n",
              "      <th>1</th>\n",
              "      <td>1.98</td>\n",
              "      <td>0.280000</td>\n",
              "      <td>3.70</td>\n",
              "      <td>0.202695</td>\n",
              "      <td>0.28</td>\n",
              "      <td>4.058783</td>\n",
              "      <td>0.80</td>\n",
              "      <td>0.06</td>\n",
              "      <td>27.68</td>\n",
              "      <td>13.68</td>\n",
              "      <td>...</td>\n",
              "      <td>3.953537</td>\n",
              "      <td>0.223608</td>\n",
              "      <td>1.12</td>\n",
              "      <td>False</td>\n",
              "      <td>4</td>\n",
              "      <td>8</td>\n",
              "      <td>12</td>\n",
              "      <td>4</td>\n",
              "      <td>4</td>\n",
              "      <td>2</td>\n",
              "    </tr>\n",
              "    <tr>\n",
              "      <th>2</th>\n",
              "      <td>3.44</td>\n",
              "      <td>4.458813</td>\n",
              "      <td>3.08</td>\n",
              "      <td>0.199449</td>\n",
              "      <td>0.28</td>\n",
              "      <td>0.280000</td>\n",
              "      <td>0.87</td>\n",
              "      <td>0.89</td>\n",
              "      <td>27.68</td>\n",
              "      <td>13.68</td>\n",
              "      <td>...</td>\n",
              "      <td>4.335963</td>\n",
              "      <td>0.244300</td>\n",
              "      <td>1.24</td>\n",
              "      <td>False</td>\n",
              "      <td>4</td>\n",
              "      <td>8</td>\n",
              "      <td>12</td>\n",
              "      <td>4</td>\n",
              "      <td>4</td>\n",
              "      <td>2</td>\n",
              "    </tr>\n",
              "    <tr>\n",
              "      <th>3</th>\n",
              "      <td>4.18</td>\n",
              "      <td>3.491121</td>\n",
              "      <td>6.53</td>\n",
              "      <td>6.070073</td>\n",
              "      <td>0.04</td>\n",
              "      <td>0.040000</td>\n",
              "      <td>15.59</td>\n",
              "      <td>21.19</td>\n",
              "      <td>27.68</td>\n",
              "      <td>13.68</td>\n",
              "      <td>...</td>\n",
              "      <td>31.833550</td>\n",
              "      <td>0.623736</td>\n",
              "      <td>15.59</td>\n",
              "      <td>True</td>\n",
              "      <td>5</td>\n",
              "      <td>10</td>\n",
              "      <td>16</td>\n",
              "      <td>6</td>\n",
              "      <td>6</td>\n",
              "      <td>3</td>\n",
              "    </tr>\n",
              "    <tr>\n",
              "      <th>4</th>\n",
              "      <td>0.57</td>\n",
              "      <td>0.280000</td>\n",
              "      <td>1.78</td>\n",
              "      <td>0.206350</td>\n",
              "      <td>0.28</td>\n",
              "      <td>1.831194</td>\n",
              "      <td>0.33</td>\n",
              "      <td>0.06</td>\n",
              "      <td>27.68</td>\n",
              "      <td>13.68</td>\n",
              "      <td>...</td>\n",
              "      <td>1.731608</td>\n",
              "      <td>0.092064</td>\n",
              "      <td>0.51</td>\n",
              "      <td>False</td>\n",
              "      <td>4</td>\n",
              "      <td>8</td>\n",
              "      <td>12</td>\n",
              "      <td>4</td>\n",
              "      <td>4</td>\n",
              "      <td>2</td>\n",
              "    </tr>\n",
              "  </tbody>\n",
              "</table>\n",
              "<p>5 rows × 34 columns</p>\n",
              "</div>\n",
              "    <div class=\"colab-df-buttons\">\n",
              "\n",
              "  <div class=\"colab-df-container\">\n",
              "    <button class=\"colab-df-convert\" onclick=\"convertToInteractive('df-89d55878-3f45-4665-b97b-5d04a700e0f4')\"\n",
              "            title=\"Convert this dataframe to an interactive table.\"\n",
              "            style=\"display:none;\">\n",
              "\n",
              "  <svg xmlns=\"http://www.w3.org/2000/svg\" height=\"24px\" viewBox=\"0 -960 960 960\">\n",
              "    <path d=\"M120-120v-720h720v720H120Zm60-500h600v-160H180v160Zm220 220h160v-160H400v160Zm0 220h160v-160H400v160ZM180-400h160v-160H180v160Zm440 0h160v-160H620v160ZM180-180h160v-160H180v160Zm440 0h160v-160H620v160Z\"/>\n",
              "  </svg>\n",
              "    </button>\n",
              "\n",
              "  <style>\n",
              "    .colab-df-container {\n",
              "      display:flex;\n",
              "      gap: 12px;\n",
              "    }\n",
              "\n",
              "    .colab-df-convert {\n",
              "      background-color: #E8F0FE;\n",
              "      border: none;\n",
              "      border-radius: 50%;\n",
              "      cursor: pointer;\n",
              "      display: none;\n",
              "      fill: #1967D2;\n",
              "      height: 32px;\n",
              "      padding: 0 0 0 0;\n",
              "      width: 32px;\n",
              "    }\n",
              "\n",
              "    .colab-df-convert:hover {\n",
              "      background-color: #E2EBFA;\n",
              "      box-shadow: 0px 1px 2px rgba(60, 64, 67, 0.3), 0px 1px 3px 1px rgba(60, 64, 67, 0.15);\n",
              "      fill: #174EA6;\n",
              "    }\n",
              "\n",
              "    .colab-df-buttons div {\n",
              "      margin-bottom: 4px;\n",
              "    }\n",
              "\n",
              "    [theme=dark] .colab-df-convert {\n",
              "      background-color: #3B4455;\n",
              "      fill: #D2E3FC;\n",
              "    }\n",
              "\n",
              "    [theme=dark] .colab-df-convert:hover {\n",
              "      background-color: #434B5C;\n",
              "      box-shadow: 0px 1px 3px 1px rgba(0, 0, 0, 0.15);\n",
              "      filter: drop-shadow(0px 1px 2px rgba(0, 0, 0, 0.3));\n",
              "      fill: #FFFFFF;\n",
              "    }\n",
              "  </style>\n",
              "\n",
              "    <script>\n",
              "      const buttonEl =\n",
              "        document.querySelector('#df-89d55878-3f45-4665-b97b-5d04a700e0f4 button.colab-df-convert');\n",
              "      buttonEl.style.display =\n",
              "        google.colab.kernel.accessAllowed ? 'block' : 'none';\n",
              "\n",
              "      async function convertToInteractive(key) {\n",
              "        const element = document.querySelector('#df-89d55878-3f45-4665-b97b-5d04a700e0f4');\n",
              "        const dataTable =\n",
              "          await google.colab.kernel.invokeFunction('convertToInteractive',\n",
              "                                                    [key], {});\n",
              "        if (!dataTable) return;\n",
              "\n",
              "        const docLinkHtml = 'Like what you see? Visit the ' +\n",
              "          '<a target=\"_blank\" href=https://colab.research.google.com/notebooks/data_table.ipynb>data table notebook</a>'\n",
              "          + ' to learn more about interactive tables.';\n",
              "        element.innerHTML = '';\n",
              "        dataTable['output_type'] = 'display_data';\n",
              "        await google.colab.output.renderOutput(dataTable, element);\n",
              "        const docLink = document.createElement('div');\n",
              "        docLink.innerHTML = docLinkHtml;\n",
              "        element.appendChild(docLink);\n",
              "      }\n",
              "    </script>\n",
              "  </div>\n",
              "\n",
              "\n",
              "<div id=\"df-68f82862-056b-4491-9900-c7fb963da4c6\">\n",
              "  <button class=\"colab-df-quickchart\" onclick=\"quickchart('df-68f82862-056b-4491-9900-c7fb963da4c6')\"\n",
              "            title=\"Suggest charts\"\n",
              "            style=\"display:none;\">\n",
              "\n",
              "<svg xmlns=\"http://www.w3.org/2000/svg\" height=\"24px\"viewBox=\"0 0 24 24\"\n",
              "     width=\"24px\">\n",
              "    <g>\n",
              "        <path d=\"M19 3H5c-1.1 0-2 .9-2 2v14c0 1.1.9 2 2 2h14c1.1 0 2-.9 2-2V5c0-1.1-.9-2-2-2zM9 17H7v-7h2v7zm4 0h-2V7h2v10zm4 0h-2v-4h2v4z\"/>\n",
              "    </g>\n",
              "</svg>\n",
              "  </button>\n",
              "\n",
              "<style>\n",
              "  .colab-df-quickchart {\n",
              "      --bg-color: #E8F0FE;\n",
              "      --fill-color: #1967D2;\n",
              "      --hover-bg-color: #E2EBFA;\n",
              "      --hover-fill-color: #174EA6;\n",
              "      --disabled-fill-color: #AAA;\n",
              "      --disabled-bg-color: #DDD;\n",
              "  }\n",
              "\n",
              "  [theme=dark] .colab-df-quickchart {\n",
              "      --bg-color: #3B4455;\n",
              "      --fill-color: #D2E3FC;\n",
              "      --hover-bg-color: #434B5C;\n",
              "      --hover-fill-color: #FFFFFF;\n",
              "      --disabled-bg-color: #3B4455;\n",
              "      --disabled-fill-color: #666;\n",
              "  }\n",
              "\n",
              "  .colab-df-quickchart {\n",
              "    background-color: var(--bg-color);\n",
              "    border: none;\n",
              "    border-radius: 50%;\n",
              "    cursor: pointer;\n",
              "    display: none;\n",
              "    fill: var(--fill-color);\n",
              "    height: 32px;\n",
              "    padding: 0;\n",
              "    width: 32px;\n",
              "  }\n",
              "\n",
              "  .colab-df-quickchart:hover {\n",
              "    background-color: var(--hover-bg-color);\n",
              "    box-shadow: 0 1px 2px rgba(60, 64, 67, 0.3), 0 1px 3px 1px rgba(60, 64, 67, 0.15);\n",
              "    fill: var(--button-hover-fill-color);\n",
              "  }\n",
              "\n",
              "  .colab-df-quickchart-complete:disabled,\n",
              "  .colab-df-quickchart-complete:disabled:hover {\n",
              "    background-color: var(--disabled-bg-color);\n",
              "    fill: var(--disabled-fill-color);\n",
              "    box-shadow: none;\n",
              "  }\n",
              "\n",
              "  .colab-df-spinner {\n",
              "    border: 2px solid var(--fill-color);\n",
              "    border-color: transparent;\n",
              "    border-bottom-color: var(--fill-color);\n",
              "    animation:\n",
              "      spin 1s steps(1) infinite;\n",
              "  }\n",
              "\n",
              "  @keyframes spin {\n",
              "    0% {\n",
              "      border-color: transparent;\n",
              "      border-bottom-color: var(--fill-color);\n",
              "      border-left-color: var(--fill-color);\n",
              "    }\n",
              "    20% {\n",
              "      border-color: transparent;\n",
              "      border-left-color: var(--fill-color);\n",
              "      border-top-color: var(--fill-color);\n",
              "    }\n",
              "    30% {\n",
              "      border-color: transparent;\n",
              "      border-left-color: var(--fill-color);\n",
              "      border-top-color: var(--fill-color);\n",
              "      border-right-color: var(--fill-color);\n",
              "    }\n",
              "    40% {\n",
              "      border-color: transparent;\n",
              "      border-right-color: var(--fill-color);\n",
              "      border-top-color: var(--fill-color);\n",
              "    }\n",
              "    60% {\n",
              "      border-color: transparent;\n",
              "      border-right-color: var(--fill-color);\n",
              "    }\n",
              "    80% {\n",
              "      border-color: transparent;\n",
              "      border-right-color: var(--fill-color);\n",
              "      border-bottom-color: var(--fill-color);\n",
              "    }\n",
              "    90% {\n",
              "      border-color: transparent;\n",
              "      border-bottom-color: var(--fill-color);\n",
              "    }\n",
              "  }\n",
              "</style>\n",
              "\n",
              "  <script>\n",
              "    async function quickchart(key) {\n",
              "      const quickchartButtonEl =\n",
              "        document.querySelector('#' + key + ' button');\n",
              "      quickchartButtonEl.disabled = true;  // To prevent multiple clicks.\n",
              "      quickchartButtonEl.classList.add('colab-df-spinner');\n",
              "      try {\n",
              "        const charts = await google.colab.kernel.invokeFunction(\n",
              "            'suggestCharts', [key], {});\n",
              "      } catch (error) {\n",
              "        console.error('Error during call to suggestCharts:', error);\n",
              "      }\n",
              "      quickchartButtonEl.classList.remove('colab-df-spinner');\n",
              "      quickchartButtonEl.classList.add('colab-df-quickchart-complete');\n",
              "    }\n",
              "    (() => {\n",
              "      let quickchartButtonEl =\n",
              "        document.querySelector('#df-68f82862-056b-4491-9900-c7fb963da4c6 button');\n",
              "      quickchartButtonEl.style.display =\n",
              "        google.colab.kernel.accessAllowed ? 'block' : 'none';\n",
              "    })();\n",
              "  </script>\n",
              "</div>\n",
              "\n",
              "    </div>\n",
              "  </div>\n"
            ],
            "application/vnd.google.colaboratory.intrinsic+json": {
              "type": "dataframe",
              "variable_name": "df1"
            }
          },
          "metadata": {},
          "execution_count": 14
        }
      ]
    },
    {
      "cell_type": "code",
      "source": [
        "df1[\"Z_axis_aligned\"] = df1[\"Z_axis_aligned\"].apply(lambda x: 1 if x else 0)\n",
        "df1[\"Largest_face_normal_has_Z_vector\"] = df1[\"Largest_face_normal_has_Z_vector\"].apply(lambda x: 1 if x else 0)\n",
        "df1.head(2)"
      ],
      "metadata": {
        "colab": {
          "base_uri": "https://localhost:8080/",
          "height": 161
        },
        "id": "1tccJdievDBO",
        "outputId": "d0194188-b853-4280-9e29-441f9efedb02"
      },
      "execution_count": 15,
      "outputs": [
        {
          "output_type": "execute_result",
          "data": {
            "text/plain": [
              "   AABB_X_Extent  OOBB_X_Extent  AABB_Y_Extent  OOBB_Y_Extent  AABB_Z_Extent  \\\n",
              "0           4.69       4.651975           6.78       6.953317           0.04   \n",
              "1           1.98       0.280000           3.70       0.202695           0.28   \n",
              "\n",
              "   OOBB_Z_Extent  AABB_base_area  OOBB_Base_area  World_X_Extent  \\\n",
              "0       0.040000           15.94           32.35           27.68   \n",
              "1       4.058783            0.80            0.06           27.68   \n",
              "\n",
              "   World_Y_Extent  ...  Surface_area    Volume  Largest_face_area  \\\n",
              "0           13.68  ...     32.549824  0.659685              15.94   \n",
              "1           13.68  ...      3.953537  0.223608               1.12   \n",
              "\n",
              "   Largest_face_normal_has_Z_vector  Number_of_vertices_in_base  \\\n",
              "0                                 1                           6   \n",
              "1                                 0                           4   \n",
              "\n",
              "   Number_of_vertices  Number_of_faces  Number_of_XYZ_aligned_faces  \\\n",
              "0                  12               20                            8   \n",
              "1                   8               12                            4   \n",
              "\n",
              "   Number_of_Z_aligned_faces  Number_of_faces_in_largest_face  \n",
              "0                          8                                4  \n",
              "1                          4                                2  \n",
              "\n",
              "[2 rows x 34 columns]"
            ],
            "text/html": [
              "\n",
              "  <div id=\"df-32cd68bb-382c-44a3-b47d-6e037a04610b\" class=\"colab-df-container\">\n",
              "    <div>\n",
              "<style scoped>\n",
              "    .dataframe tbody tr th:only-of-type {\n",
              "        vertical-align: middle;\n",
              "    }\n",
              "\n",
              "    .dataframe tbody tr th {\n",
              "        vertical-align: top;\n",
              "    }\n",
              "\n",
              "    .dataframe thead th {\n",
              "        text-align: right;\n",
              "    }\n",
              "</style>\n",
              "<table border=\"1\" class=\"dataframe\">\n",
              "  <thead>\n",
              "    <tr style=\"text-align: right;\">\n",
              "      <th></th>\n",
              "      <th>AABB_X_Extent</th>\n",
              "      <th>OOBB_X_Extent</th>\n",
              "      <th>AABB_Y_Extent</th>\n",
              "      <th>OOBB_Y_Extent</th>\n",
              "      <th>AABB_Z_Extent</th>\n",
              "      <th>OOBB_Z_Extent</th>\n",
              "      <th>AABB_base_area</th>\n",
              "      <th>OOBB_Base_area</th>\n",
              "      <th>World_X_Extent</th>\n",
              "      <th>World_Y_Extent</th>\n",
              "      <th>...</th>\n",
              "      <th>Surface_area</th>\n",
              "      <th>Volume</th>\n",
              "      <th>Largest_face_area</th>\n",
              "      <th>Largest_face_normal_has_Z_vector</th>\n",
              "      <th>Number_of_vertices_in_base</th>\n",
              "      <th>Number_of_vertices</th>\n",
              "      <th>Number_of_faces</th>\n",
              "      <th>Number_of_XYZ_aligned_faces</th>\n",
              "      <th>Number_of_Z_aligned_faces</th>\n",
              "      <th>Number_of_faces_in_largest_face</th>\n",
              "    </tr>\n",
              "  </thead>\n",
              "  <tbody>\n",
              "    <tr>\n",
              "      <th>0</th>\n",
              "      <td>4.69</td>\n",
              "      <td>4.651975</td>\n",
              "      <td>6.78</td>\n",
              "      <td>6.953317</td>\n",
              "      <td>0.04</td>\n",
              "      <td>0.040000</td>\n",
              "      <td>15.94</td>\n",
              "      <td>32.35</td>\n",
              "      <td>27.68</td>\n",
              "      <td>13.68</td>\n",
              "      <td>...</td>\n",
              "      <td>32.549824</td>\n",
              "      <td>0.659685</td>\n",
              "      <td>15.94</td>\n",
              "      <td>1</td>\n",
              "      <td>6</td>\n",
              "      <td>12</td>\n",
              "      <td>20</td>\n",
              "      <td>8</td>\n",
              "      <td>8</td>\n",
              "      <td>4</td>\n",
              "    </tr>\n",
              "    <tr>\n",
              "      <th>1</th>\n",
              "      <td>1.98</td>\n",
              "      <td>0.280000</td>\n",
              "      <td>3.70</td>\n",
              "      <td>0.202695</td>\n",
              "      <td>0.28</td>\n",
              "      <td>4.058783</td>\n",
              "      <td>0.80</td>\n",
              "      <td>0.06</td>\n",
              "      <td>27.68</td>\n",
              "      <td>13.68</td>\n",
              "      <td>...</td>\n",
              "      <td>3.953537</td>\n",
              "      <td>0.223608</td>\n",
              "      <td>1.12</td>\n",
              "      <td>0</td>\n",
              "      <td>4</td>\n",
              "      <td>8</td>\n",
              "      <td>12</td>\n",
              "      <td>4</td>\n",
              "      <td>4</td>\n",
              "      <td>2</td>\n",
              "    </tr>\n",
              "  </tbody>\n",
              "</table>\n",
              "<p>2 rows × 34 columns</p>\n",
              "</div>\n",
              "    <div class=\"colab-df-buttons\">\n",
              "\n",
              "  <div class=\"colab-df-container\">\n",
              "    <button class=\"colab-df-convert\" onclick=\"convertToInteractive('df-32cd68bb-382c-44a3-b47d-6e037a04610b')\"\n",
              "            title=\"Convert this dataframe to an interactive table.\"\n",
              "            style=\"display:none;\">\n",
              "\n",
              "  <svg xmlns=\"http://www.w3.org/2000/svg\" height=\"24px\" viewBox=\"0 -960 960 960\">\n",
              "    <path d=\"M120-120v-720h720v720H120Zm60-500h600v-160H180v160Zm220 220h160v-160H400v160Zm0 220h160v-160H400v160ZM180-400h160v-160H180v160Zm440 0h160v-160H620v160ZM180-180h160v-160H180v160Zm440 0h160v-160H620v160Z\"/>\n",
              "  </svg>\n",
              "    </button>\n",
              "\n",
              "  <style>\n",
              "    .colab-df-container {\n",
              "      display:flex;\n",
              "      gap: 12px;\n",
              "    }\n",
              "\n",
              "    .colab-df-convert {\n",
              "      background-color: #E8F0FE;\n",
              "      border: none;\n",
              "      border-radius: 50%;\n",
              "      cursor: pointer;\n",
              "      display: none;\n",
              "      fill: #1967D2;\n",
              "      height: 32px;\n",
              "      padding: 0 0 0 0;\n",
              "      width: 32px;\n",
              "    }\n",
              "\n",
              "    .colab-df-convert:hover {\n",
              "      background-color: #E2EBFA;\n",
              "      box-shadow: 0px 1px 2px rgba(60, 64, 67, 0.3), 0px 1px 3px 1px rgba(60, 64, 67, 0.15);\n",
              "      fill: #174EA6;\n",
              "    }\n",
              "\n",
              "    .colab-df-buttons div {\n",
              "      margin-bottom: 4px;\n",
              "    }\n",
              "\n",
              "    [theme=dark] .colab-df-convert {\n",
              "      background-color: #3B4455;\n",
              "      fill: #D2E3FC;\n",
              "    }\n",
              "\n",
              "    [theme=dark] .colab-df-convert:hover {\n",
              "      background-color: #434B5C;\n",
              "      box-shadow: 0px 1px 3px 1px rgba(0, 0, 0, 0.15);\n",
              "      filter: drop-shadow(0px 1px 2px rgba(0, 0, 0, 0.3));\n",
              "      fill: #FFFFFF;\n",
              "    }\n",
              "  </style>\n",
              "\n",
              "    <script>\n",
              "      const buttonEl =\n",
              "        document.querySelector('#df-32cd68bb-382c-44a3-b47d-6e037a04610b button.colab-df-convert');\n",
              "      buttonEl.style.display =\n",
              "        google.colab.kernel.accessAllowed ? 'block' : 'none';\n",
              "\n",
              "      async function convertToInteractive(key) {\n",
              "        const element = document.querySelector('#df-32cd68bb-382c-44a3-b47d-6e037a04610b');\n",
              "        const dataTable =\n",
              "          await google.colab.kernel.invokeFunction('convertToInteractive',\n",
              "                                                    [key], {});\n",
              "        if (!dataTable) return;\n",
              "\n",
              "        const docLinkHtml = 'Like what you see? Visit the ' +\n",
              "          '<a target=\"_blank\" href=https://colab.research.google.com/notebooks/data_table.ipynb>data table notebook</a>'\n",
              "          + ' to learn more about interactive tables.';\n",
              "        element.innerHTML = '';\n",
              "        dataTable['output_type'] = 'display_data';\n",
              "        await google.colab.output.renderOutput(dataTable, element);\n",
              "        const docLink = document.createElement('div');\n",
              "        docLink.innerHTML = docLinkHtml;\n",
              "        element.appendChild(docLink);\n",
              "      }\n",
              "    </script>\n",
              "  </div>\n",
              "\n",
              "\n",
              "<div id=\"df-75ee0dcf-48f9-47d5-b23a-f320455317ca\">\n",
              "  <button class=\"colab-df-quickchart\" onclick=\"quickchart('df-75ee0dcf-48f9-47d5-b23a-f320455317ca')\"\n",
              "            title=\"Suggest charts\"\n",
              "            style=\"display:none;\">\n",
              "\n",
              "<svg xmlns=\"http://www.w3.org/2000/svg\" height=\"24px\"viewBox=\"0 0 24 24\"\n",
              "     width=\"24px\">\n",
              "    <g>\n",
              "        <path d=\"M19 3H5c-1.1 0-2 .9-2 2v14c0 1.1.9 2 2 2h14c1.1 0 2-.9 2-2V5c0-1.1-.9-2-2-2zM9 17H7v-7h2v7zm4 0h-2V7h2v10zm4 0h-2v-4h2v4z\"/>\n",
              "    </g>\n",
              "</svg>\n",
              "  </button>\n",
              "\n",
              "<style>\n",
              "  .colab-df-quickchart {\n",
              "      --bg-color: #E8F0FE;\n",
              "      --fill-color: #1967D2;\n",
              "      --hover-bg-color: #E2EBFA;\n",
              "      --hover-fill-color: #174EA6;\n",
              "      --disabled-fill-color: #AAA;\n",
              "      --disabled-bg-color: #DDD;\n",
              "  }\n",
              "\n",
              "  [theme=dark] .colab-df-quickchart {\n",
              "      --bg-color: #3B4455;\n",
              "      --fill-color: #D2E3FC;\n",
              "      --hover-bg-color: #434B5C;\n",
              "      --hover-fill-color: #FFFFFF;\n",
              "      --disabled-bg-color: #3B4455;\n",
              "      --disabled-fill-color: #666;\n",
              "  }\n",
              "\n",
              "  .colab-df-quickchart {\n",
              "    background-color: var(--bg-color);\n",
              "    border: none;\n",
              "    border-radius: 50%;\n",
              "    cursor: pointer;\n",
              "    display: none;\n",
              "    fill: var(--fill-color);\n",
              "    height: 32px;\n",
              "    padding: 0;\n",
              "    width: 32px;\n",
              "  }\n",
              "\n",
              "  .colab-df-quickchart:hover {\n",
              "    background-color: var(--hover-bg-color);\n",
              "    box-shadow: 0 1px 2px rgba(60, 64, 67, 0.3), 0 1px 3px 1px rgba(60, 64, 67, 0.15);\n",
              "    fill: var(--button-hover-fill-color);\n",
              "  }\n",
              "\n",
              "  .colab-df-quickchart-complete:disabled,\n",
              "  .colab-df-quickchart-complete:disabled:hover {\n",
              "    background-color: var(--disabled-bg-color);\n",
              "    fill: var(--disabled-fill-color);\n",
              "    box-shadow: none;\n",
              "  }\n",
              "\n",
              "  .colab-df-spinner {\n",
              "    border: 2px solid var(--fill-color);\n",
              "    border-color: transparent;\n",
              "    border-bottom-color: var(--fill-color);\n",
              "    animation:\n",
              "      spin 1s steps(1) infinite;\n",
              "  }\n",
              "\n",
              "  @keyframes spin {\n",
              "    0% {\n",
              "      border-color: transparent;\n",
              "      border-bottom-color: var(--fill-color);\n",
              "      border-left-color: var(--fill-color);\n",
              "    }\n",
              "    20% {\n",
              "      border-color: transparent;\n",
              "      border-left-color: var(--fill-color);\n",
              "      border-top-color: var(--fill-color);\n",
              "    }\n",
              "    30% {\n",
              "      border-color: transparent;\n",
              "      border-left-color: var(--fill-color);\n",
              "      border-top-color: var(--fill-color);\n",
              "      border-right-color: var(--fill-color);\n",
              "    }\n",
              "    40% {\n",
              "      border-color: transparent;\n",
              "      border-right-color: var(--fill-color);\n",
              "      border-top-color: var(--fill-color);\n",
              "    }\n",
              "    60% {\n",
              "      border-color: transparent;\n",
              "      border-right-color: var(--fill-color);\n",
              "    }\n",
              "    80% {\n",
              "      border-color: transparent;\n",
              "      border-right-color: var(--fill-color);\n",
              "      border-bottom-color: var(--fill-color);\n",
              "    }\n",
              "    90% {\n",
              "      border-color: transparent;\n",
              "      border-bottom-color: var(--fill-color);\n",
              "    }\n",
              "  }\n",
              "</style>\n",
              "\n",
              "  <script>\n",
              "    async function quickchart(key) {\n",
              "      const quickchartButtonEl =\n",
              "        document.querySelector('#' + key + ' button');\n",
              "      quickchartButtonEl.disabled = true;  // To prevent multiple clicks.\n",
              "      quickchartButtonEl.classList.add('colab-df-spinner');\n",
              "      try {\n",
              "        const charts = await google.colab.kernel.invokeFunction(\n",
              "            'suggestCharts', [key], {});\n",
              "      } catch (error) {\n",
              "        console.error('Error during call to suggestCharts:', error);\n",
              "      }\n",
              "      quickchartButtonEl.classList.remove('colab-df-spinner');\n",
              "      quickchartButtonEl.classList.add('colab-df-quickchart-complete');\n",
              "    }\n",
              "    (() => {\n",
              "      let quickchartButtonEl =\n",
              "        document.querySelector('#df-75ee0dcf-48f9-47d5-b23a-f320455317ca button');\n",
              "      quickchartButtonEl.style.display =\n",
              "        google.colab.kernel.accessAllowed ? 'block' : 'none';\n",
              "    })();\n",
              "  </script>\n",
              "</div>\n",
              "\n",
              "    </div>\n",
              "  </div>\n"
            ],
            "application/vnd.google.colaboratory.intrinsic+json": {
              "type": "dataframe",
              "variable_name": "df1"
            }
          },
          "metadata": {},
          "execution_count": 15
        }
      ]
    },
    {
      "cell_type": "code",
      "source": [
        "x = []\n",
        "for feature in intrinsic_features:\n",
        "  x.append([v for v in feature.values()])\n",
        "x = torch.tensor(x, dtype=torch.float)"
      ],
      "metadata": {
        "id": "J4rdDFpnH7b9"
      },
      "execution_count": 16,
      "outputs": []
    },
    {
      "cell_type": "code",
      "source": [
        "x"
      ],
      "metadata": {
        "colab": {
          "base_uri": "https://localhost:8080/"
        },
        "id": "dHnv0xBQv5WL",
        "outputId": "33be3bec-b117-4052-b84e-8179ee408834"
      },
      "execution_count": 17,
      "outputs": [
        {
          "output_type": "execute_result",
          "data": {
            "text/plain": [
              "tensor([[ 4.6900,  4.6520,  6.7800,  ...,  8.0000,  8.0000,  4.0000],\n",
              "        [ 1.9800,  0.2800,  3.7000,  ...,  4.0000,  4.0000,  2.0000],\n",
              "        [ 3.4400,  4.4588,  3.0800,  ...,  4.0000,  4.0000,  2.0000],\n",
              "        ...,\n",
              "        [ 0.0700,  0.0700,  5.1800,  ..., 42.0000, 10.0000,  8.0000],\n",
              "        [ 0.2000,  0.2000,  0.2000,  ..., 12.0000,  4.0000,  2.0000],\n",
              "        [ 0.2000,  0.2800,  3.6700,  ..., 10.0000,  4.0000,  2.0000]])"
            ]
          },
          "metadata": {},
          "execution_count": 17
        }
      ]
    },
    {
      "cell_type": "code",
      "source": [
        "#Encode target labels\n",
        "targets = [node.geom_type for node in graph.node_dict.values()]"
      ],
      "metadata": {
        "id": "GzlqJPuOqxVi"
      },
      "execution_count": 18,
      "outputs": []
    },
    {
      "cell_type": "code",
      "source": [
        "from sklearn.preprocessing import LabelEncoder\n",
        "\n",
        "le = LabelEncoder()\n",
        "y = le.fit_transform(targets)  # Now y is a NumPy array of integers\n",
        "y = torch.tensor(y, dtype=torch.long)"
      ],
      "metadata": {
        "id": "NL7fc3aVuZ_z"
      },
      "execution_count": 19,
      "outputs": []
    },
    {
      "cell_type": "code",
      "source": [
        "# Create Different Edges\n",
        "directions = ['upper', 'lower', 'left', 'right', 'near']\n",
        "def encode_relation(relation):\n",
        "    one_hot = [0] * len(directions)\n",
        "    if relation in directions:\n",
        "        one_hot[directions.index(relation)] = 1\n",
        "    return np.array(one_hot)"
      ],
      "metadata": {
        "id": "vekkZ2v5XmmI"
      },
      "execution_count": 55,
      "outputs": []
    },
    {
      "cell_type": "code",
      "source": [
        "edge_index = []\n",
        "edge_attr = []\n",
        "for index, node in enumerate(graph.node_dict.values()):\n",
        "  node.index = index\n",
        "for node in graph.node_dict.values():\n",
        "  for near_node in node.near:\n",
        "    edge_index.append([node.index, near_node.index]) #.near\n",
        "    edge_attr.append(encode_relation(\"near\"))\n",
        "  # Encode relation as one-hot (upper, lower, left, right)\n",
        "  neighbours = CP.assign_neighbours(node, atol = 0.01, return_type = \"guid\")\n",
        "  for neighbour, direction in zip(neighbours, directions[0:4]):\n",
        "    if neighbour != None:\n",
        "      near_node = graph[neighbour]\n",
        "      neighbour_attr = CP.get_edge_attr_for_GNN(node, near_node)\n",
        "      edge_index.append([node.index, near_node.index])\n",
        "      edge_attr.append(encode_relation(direction))"
      ],
      "metadata": {
        "id": "CxSn6AnZWXUD"
      },
      "execution_count": 56,
      "outputs": []
    },
    {
      "cell_type": "code",
      "source": [
        "# Convert edge_index to tensor\n",
        "edge_index_tensor = torch.tensor(edge_index, dtype=torch.long).t().contiguous()\n",
        "edge_attr_tensor = torch.tensor(edge_attr, dtype=torch.float)  # if needed later\n",
        "\n",
        "# Create data — use different name if you want to preserve the list\n",
        "data = Data(x=x, edge_index=edge_index_tensor, y=y)"
      ],
      "metadata": {
        "colab": {
          "base_uri": "https://localhost:8080/"
        },
        "id": "5gdvyhu49IBD",
        "outputId": "e92bddd4-baa3-4b4d-8f8c-fb57af7b4b16"
      },
      "execution_count": 57,
      "outputs": [
        {
          "output_type": "stream",
          "name": "stderr",
          "text": [
            "<ipython-input-57-4b280f4aa0bd>:3: UserWarning: Creating a tensor from a list of numpy.ndarrays is extremely slow. Please consider converting the list to a single numpy.ndarray with numpy.array() before converting to a tensor. (Triggered internally at /pytorch/torch/csrc/utils/tensor_new.cpp:254.)\n",
            "  edge_attr_tensor = torch.tensor(edge_attr, dtype=torch.float)  # if needed later\n"
          ]
        }
      ]
    },
    {
      "cell_type": "code",
      "source": [
        "print(\"type:\", type(data.edge_index))\n",
        "print(\"shape:\", data.edge_index.shape)\n",
        "print(\"dtype:\", data.edge_index.dtype)"
      ],
      "metadata": {
        "colab": {
          "base_uri": "https://localhost:8080/"
        },
        "id": "A5kYZBT28tI6",
        "outputId": "de4d5a39-4baf-4f17-8ac3-666aaa243a01"
      },
      "execution_count": 58,
      "outputs": [
        {
          "output_type": "stream",
          "name": "stdout",
          "text": [
            "type: <class 'torch.Tensor'>\n",
            "shape: torch.Size([2, 4619])\n",
            "dtype: torch.int64\n"
          ]
        }
      ]
    },
    {
      "cell_type": "code",
      "source": [
        "data.num_node_features"
      ],
      "metadata": {
        "colab": {
          "base_uri": "https://localhost:8080/"
        },
        "id": "WxBBlGJr07mx",
        "outputId": "0b032dca-aea8-4924-9b5f-9ea71661aaf4"
      },
      "execution_count": 59,
      "outputs": [
        {
          "output_type": "execute_result",
          "data": {
            "text/plain": [
              "34"
            ]
          },
          "metadata": {},
          "execution_count": 59
        }
      ]
    },
    {
      "cell_type": "markdown",
      "source": [
        "# Split the data into k-fold for training and testing"
      ],
      "metadata": {
        "id": "iLJKmYTbzCy4"
      }
    },
    {
      "cell_type": "code",
      "source": [
        "from sklearn.model_selection import train_test_split\n",
        "\n",
        "# Step 1: Split the node indices\n",
        "num_nodes = data.num_nodes\n",
        "node_indices = np.arange(num_nodes)\n",
        "\n",
        "# Optional: Stratified sampling (preserves class balance)\n",
        "train_idx, test_idx = train_test_split(\n",
        "    node_indices,\n",
        "    test_size=0.2,\n",
        "    stratify=data.y.numpy(),  # ensures same label distribution\n",
        "    random_state=42\n",
        ")"
      ],
      "metadata": {
        "id": "Jt4MKiV01yeH"
      },
      "execution_count": 60,
      "outputs": []
    },
    {
      "cell_type": "code",
      "source": [
        "# Create train/test masks\n",
        "data.train_mask = torch.zeros(num_nodes, dtype=torch.bool)\n",
        "data.test_mask = torch.zeros(num_nodes, dtype=torch.bool)\n",
        "data.train_mask[train_idx] = True\n",
        "data.test_mask[test_idx] = True"
      ],
      "metadata": {
        "id": "FSpsxUtQzCki"
      },
      "execution_count": 61,
      "outputs": []
    },
    {
      "cell_type": "markdown",
      "source": [
        "# Create a GNN"
      ],
      "metadata": {
        "id": "7wZprOPKxYBo"
      }
    },
    {
      "cell_type": "markdown",
      "source": [
        "We first try a version where edge attribute is not used"
      ],
      "metadata": {
        "id": "PloBE5YU6bER"
      }
    },
    {
      "cell_type": "code",
      "source": [
        "if hasattr(data, \"edge_attr\"):\n",
        "  data.edge_attr = None"
      ],
      "metadata": {
        "id": "ZKwu5MzY7awI"
      },
      "execution_count": 62,
      "outputs": []
    },
    {
      "cell_type": "code",
      "source": [
        "print(\"edge_attr exists:\", hasattr(data, \"edge_attr\"))\n",
        "print(\"edge_attr value:\", data.edge_attr)"
      ],
      "metadata": {
        "colab": {
          "base_uri": "https://localhost:8080/"
        },
        "id": "ni-ZFZK-8HkI",
        "outputId": "bb1f89fc-5c33-46a2-e4be-7ff0431557a9"
      },
      "execution_count": 63,
      "outputs": [
        {
          "output_type": "stream",
          "name": "stdout",
          "text": [
            "edge_attr exists: True\n",
            "edge_attr value: None\n"
          ]
        }
      ]
    },
    {
      "cell_type": "code",
      "source": [
        "import torch\n",
        "import torch.nn.functional as F\n",
        "from torch_geometric.nn import GCNConv # GCN conv does not work with edge attr but we try without attr first\n",
        "\n",
        "class GCN(torch.nn.Module):\n",
        "    def __init__(self, input_dim, hidden_dim, num_classes):\n",
        "        super().__init__()\n",
        "        self.conv1 = GCNConv(input_dim, hidden_dim)\n",
        "        self.conv2 = GCNConv(hidden_dim, num_classes)\n",
        "\n",
        "    def forward(self, data):\n",
        "        x, edge_index = data.x, data.edge_index\n",
        "\n",
        "        x = self.conv1(x, edge_index)\n",
        "        x = F.relu(x)\n",
        "        x = F.dropout(x, training=self.training)\n",
        "        x = self.conv2(x, edge_index)\n",
        "\n",
        "        return F.log_softmax(x, dim=1)"
      ],
      "metadata": {
        "id": "8tidcWR8Mfc3"
      },
      "execution_count": 64,
      "outputs": []
    },
    {
      "cell_type": "code",
      "source": [
        "model = GCN(input_dim=data.num_node_features, hidden_dim = 32, num_classes=len(le.classes_))"
      ],
      "metadata": {
        "id": "Z2i7Te5ywaLd"
      },
      "execution_count": 65,
      "outputs": []
    },
    {
      "cell_type": "markdown",
      "source": [
        "#Train the model"
      ],
      "metadata": {
        "id": "IHBA71pvxPFd"
      }
    },
    {
      "cell_type": "code",
      "source": [
        "input_dim = data.num_node_features\n",
        "hidden_dim = 32\n",
        "num_classes = len(le.classes_)\n",
        "\n",
        "model = GCN(input_dim, hidden_dim, num_classes)\n",
        "optimizer = torch.optim.Adam(model.parameters(), lr=0.01, weight_decay=5e-4)\n",
        "\n",
        "# Training loop\n",
        "model.train()\n",
        "for epoch in range(200):\n",
        "    optimizer.zero_grad()\n",
        "    out = model(data)\n",
        "    loss = F.nll_loss(out[data.train_mask], data.y[data.train_mask])\n",
        "    loss.backward()\n",
        "    optimizer.step()\n",
        "\n",
        "    if epoch % 20 == 0:\n",
        "        print(f\"Epoch {epoch:03d} | Loss: {loss.item():.4f}\")\n"
      ],
      "metadata": {
        "colab": {
          "base_uri": "https://localhost:8080/"
        },
        "id": "Jx2cGrz0xNzU",
        "outputId": "2763ca2a-ea65-4cee-9f94-f12a395cbbc7"
      },
      "execution_count": 66,
      "outputs": [
        {
          "output_type": "stream",
          "name": "stdout",
          "text": [
            "Epoch 000 | Loss: 10.1760\n",
            "Epoch 020 | Loss: 1.6336\n",
            "Epoch 040 | Loss: 1.3731\n",
            "Epoch 060 | Loss: 1.3025\n",
            "Epoch 080 | Loss: 1.2172\n",
            "Epoch 100 | Loss: 1.2074\n",
            "Epoch 120 | Loss: 1.1544\n",
            "Epoch 140 | Loss: 1.0579\n",
            "Epoch 160 | Loss: 1.0293\n",
            "Epoch 180 | Loss: 1.0556\n"
          ]
        }
      ]
    },
    {
      "cell_type": "markdown",
      "source": [
        "# Evaluate the model"
      ],
      "metadata": {
        "id": "UlD67LVQzl1i"
      }
    },
    {
      "cell_type": "code",
      "source": [
        "model.eval()\n",
        "with torch.no_grad():\n",
        "    out = model(data)\n",
        "    pred = out.argmax(dim=1)\n",
        "    correct = (pred[data.test_mask] == data.y[data.test_mask]).sum()\n",
        "    acc = correct / data.test_mask.sum()\n",
        "    print(f\"\\n✅ Test Accuracy: {acc:.4f}\")"
      ],
      "metadata": {
        "colab": {
          "base_uri": "https://localhost:8080/"
        },
        "id": "BI73J-avwZ0f",
        "outputId": "758b9934-5bc2-4390-ad6b-92a46de68a96"
      },
      "execution_count": 67,
      "outputs": [
        {
          "output_type": "stream",
          "name": "stdout",
          "text": [
            "\n",
            "✅ Test Accuracy: 0.6349\n"
          ]
        }
      ]
    },
    {
      "cell_type": "markdown",
      "source": [
        "# Tuning the model"
      ],
      "metadata": {
        "id": "BNIOVEWuDHQB"
      }
    },
    {
      "cell_type": "markdown",
      "source": [
        "The model has only 60% accuracy at first but it shows that it is learning something.\n",
        "In the Stacked RF two step classification apporach, even with just the intrisic features, the models could reach over 90% accuracy.\n",
        "So first, lets see if we can up the performance by\n",
        "1. Increasing the epochs\n",
        "2. Increase the layers in the models"
      ],
      "metadata": {
        "id": "ORUjkV7tAXU3"
      }
    },
    {
      "cell_type": "code",
      "source": [
        "import torch\n",
        "import torch.nn as nn\n",
        "import torch.nn.functional as F\n",
        "from torch_geometric.nn import GCNConv\n",
        "\n",
        "# Custom GCN block\n",
        "class GCNBlock(nn.Module):\n",
        "    def __init__(self, in_channels, out_channels):\n",
        "        super().__init__()\n",
        "        self.conv = GCNConv(in_channels, out_channels)\n",
        "        self.activation = nn.ReLU()\n",
        "\n",
        "    def forward(self, x, edge_index):\n",
        "        x = self.conv(x, edge_index)\n",
        "        x = self.activation(x)\n",
        "        return x"
      ],
      "metadata": {
        "id": "FkuhBbJR2ibK"
      },
      "execution_count": 68,
      "outputs": []
    },
    {
      "cell_type": "code",
      "source": [
        "class DeepGCN(nn.Module):\n",
        "    def __init__(self, input_dim, hidden_dims, num_classes):\n",
        "        super().__init__()\n",
        "\n",
        "        self.layers = nn.ModuleList()\n",
        "        dims = [input_dim] + hidden_dims\n",
        "\n",
        "        for i in range(len(hidden_dims)):\n",
        "            self.layers.append(GCNBlock(dims[i], dims[i + 1]))\n",
        "\n",
        "        self.final_conv = GCNConv(dims[-1], num_classes)\n",
        "\n",
        "    def forward(self, data):\n",
        "        x, edge_index = data.x, data.edge_index\n",
        "\n",
        "        for layer in self.layers:\n",
        "            x = layer(x, edge_index)\n",
        "            x = F.dropout(x, p=0.5, training=self.training)\n",
        "\n",
        "        x = self.final_conv(x, edge_index)\n",
        "        return F.log_softmax(x, dim=1)"
      ],
      "metadata": {
        "id": "zr12aYTcA6Mo"
      },
      "execution_count": 69,
      "outputs": []
    },
    {
      "cell_type": "code",
      "source": [
        "input_dim = data.num_node_features\n",
        "hidden_dim = [32, 64, 64] # this now takes a list\n",
        "num_classes = len(le.classes_)\n",
        "\n",
        "model = DeepGCN(input_dim, hidden_dim, num_classes)\n",
        "optimizer = torch.optim.Adam(model.parameters(), lr=0.01, weight_decay=5e-4)\n",
        "\n",
        "# Training loop also increased the epoch\n",
        "model.train()\n",
        "for epoch in range(500):\n",
        "    optimizer.zero_grad()\n",
        "    out = model(data)\n",
        "    loss = F.nll_loss(out[data.train_mask], data.y[data.train_mask])\n",
        "    loss.backward()\n",
        "    optimizer.step()\n",
        "\n",
        "    if epoch % 50 == 0:\n",
        "        print(f\"Epoch {epoch:03d} | Loss: {loss.item():.4f}\")\n"
      ],
      "metadata": {
        "colab": {
          "base_uri": "https://localhost:8080/"
        },
        "id": "HYyapo2gDR6P",
        "outputId": "ee31179f-ed2b-41a0-ace2-833e1ac4949b"
      },
      "execution_count": 70,
      "outputs": [
        {
          "output_type": "stream",
          "name": "stdout",
          "text": [
            "Epoch 000 | Loss: 4.7085\n",
            "Epoch 050 | Loss: 1.3229\n",
            "Epoch 100 | Loss: 1.2064\n",
            "Epoch 150 | Loss: 1.0737\n",
            "Epoch 200 | Loss: 1.0476\n",
            "Epoch 250 | Loss: 0.9482\n",
            "Epoch 300 | Loss: 0.9314\n",
            "Epoch 350 | Loss: 0.9584\n",
            "Epoch 400 | Loss: 0.8642\n",
            "Epoch 450 | Loss: 0.8354\n"
          ]
        }
      ]
    },
    {
      "cell_type": "code",
      "source": [
        "model.eval()\n",
        "with torch.no_grad():\n",
        "    out = model(data)\n",
        "    pred = out.argmax(dim=1)\n",
        "    correct = (pred[data.test_mask] == data.y[data.test_mask]).sum()\n",
        "    acc = correct / data.test_mask.sum()\n",
        "    print(f\"\\n✅ Test Accuracy: {acc:.4f}\")"
      ],
      "metadata": {
        "colab": {
          "base_uri": "https://localhost:8080/"
        },
        "id": "JCJ5LwRID3_O",
        "outputId": "92840b84-5c65-4ae4-876f-bf8e22e0da3e"
      },
      "execution_count": 71,
      "outputs": [
        {
          "output_type": "stream",
          "name": "stdout",
          "text": [
            "\n",
            "✅ Test Accuracy: 0.6825\n"
          ]
        }
      ]
    },
    {
      "cell_type": "markdown",
      "source": [
        "We now try\n",
        "1. Another model architecture\n",
        "2. Add Edge Attrbute\n",
        "3. Enginer the Edge attribure (Previously was not used but it is just one hot encode, sparse vector are not beneficial to GNN learning)"
      ],
      "metadata": {
        "id": "1naoS8Gs9v1i"
      }
    },
    {
      "cell_type": "markdown",
      "source": [
        "#Edge Attribute"
      ],
      "metadata": {
        "id": "UuTWOSHC-eNx"
      }
    },
    {
      "cell_type": "code",
      "source": [
        "data = Data(x=x, edge_index=edge_index_tensor, edge_attr=edge_attr_tensor, y=y)"
      ],
      "metadata": {
        "id": "c41jdCif_Je7"
      },
      "execution_count": 72,
      "outputs": []
    },
    {
      "cell_type": "code",
      "source": [
        "# Create train/test masks\n",
        "data.train_mask = torch.zeros(num_nodes, dtype=torch.bool)\n",
        "data.test_mask = torch.zeros(num_nodes, dtype=torch.bool)\n",
        "data.train_mask[train_idx] = True\n",
        "data.test_mask[test_idx] = True"
      ],
      "metadata": {
        "id": "Zy-SzH6-_0Kz"
      },
      "execution_count": 73,
      "outputs": []
    },
    {
      "cell_type": "code",
      "source": [
        "from torch_geometric.nn import NNConv\n",
        "class EdgeAwareGNN(nn.Module):\n",
        "  def __init__(self, input_dim, hidden_dim, num_classes, edge_attr_dim):\n",
        "      super().__init__()\n",
        "      self.edge_mlp1 = nn.Sequential(\n",
        "          nn.Linear(edge_attr_dim, 64),\n",
        "          nn.ReLU(),\n",
        "          nn.Linear(64, input_dim * hidden_dim)\n",
        "      )\n",
        "\n",
        "      self.conv1 = NNConv(input_dim, hidden_dim, nn=self.edge_mlp1, aggr='mean')\n",
        "\n",
        "      self.edge_mlp2 = nn.Sequential(\n",
        "          nn.Linear(edge_attr_dim, 64),\n",
        "          nn.ReLU(),\n",
        "          nn.Linear(64, hidden_dim * num_classes)\n",
        "      )\n",
        "\n",
        "      self.conv2 = NNConv(hidden_dim, num_classes, nn=self.edge_mlp2, aggr='mean')\n",
        "\n",
        "  def forward(self, data):\n",
        "      x, edge_index, edge_attr = data.x, data.edge_index, data.edge_attr\n",
        "      x = self.conv1(x, edge_index, edge_attr)\n",
        "      x = F.relu(x)\n",
        "      x = F.dropout(x, p=0.5, training=self.training)\n",
        "      x = self.conv2(x, edge_index, edge_attr)\n",
        "      return F.log_softmax(x, dim=1)\n"
      ],
      "metadata": {
        "id": "vNxFoOrP-g8P"
      },
      "execution_count": 74,
      "outputs": []
    },
    {
      "cell_type": "code",
      "source": [
        "model = EdgeAwareGNN(\n",
        "    input_dim=data.num_node_features,\n",
        "    hidden_dim= 32,\n",
        "    num_classes=len(torch.unique(data.y)),\n",
        "    edge_attr_dim=data.edge_attr.shape[1]\n",
        ")"
      ],
      "metadata": {
        "id": "xpTqFzBX_EPM"
      },
      "execution_count": 75,
      "outputs": []
    },
    {
      "cell_type": "code",
      "source": [
        "optimizer = torch.optim.Adam(model.parameters(), lr=0.01, weight_decay=5e-4)\n",
        "\n",
        "model.train()\n",
        "for epoch in range(200):\n",
        "    optimizer.zero_grad()\n",
        "    out = model(data)\n",
        "    loss = F.nll_loss(out[data.train_mask], data.y[data.train_mask])\n",
        "    loss.backward()\n",
        "    optimizer.step()\n",
        "\n",
        "    if epoch % 20 == 0:\n",
        "        print(f\"Epoch {epoch:03d} | Loss: {loss.item():.4f}\")\n"
      ],
      "metadata": {
        "colab": {
          "base_uri": "https://localhost:8080/"
        },
        "id": "nHZ2j5qB_Dss",
        "outputId": "af1f6299-6815-4b38-d1f6-9618748eb0ec"
      },
      "execution_count": 76,
      "outputs": [
        {
          "output_type": "stream",
          "name": "stdout",
          "text": [
            "Epoch 000 | Loss: 19.3321\n",
            "Epoch 020 | Loss: 1.9082\n",
            "Epoch 040 | Loss: 1.5855\n",
            "Epoch 060 | Loss: 1.3808\n",
            "Epoch 080 | Loss: 1.2268\n",
            "Epoch 100 | Loss: 1.1651\n",
            "Epoch 120 | Loss: 1.2045\n",
            "Epoch 140 | Loss: 1.1166\n",
            "Epoch 160 | Loss: 1.0079\n",
            "Epoch 180 | Loss: 1.0031\n"
          ]
        }
      ]
    },
    {
      "cell_type": "code",
      "source": [
        "model.eval()\n",
        "with torch.no_grad():\n",
        "    pred = model(data).argmax(dim=1)\n",
        "    correct = (pred[data.test_mask] == data.y[data.test_mask]).sum()\n",
        "    acc = correct / data.test_mask.sum()\n",
        "    print(f\"\\n✅ Test Accuracy: {acc:.4f}\")"
      ],
      "metadata": {
        "colab": {
          "base_uri": "https://localhost:8080/"
        },
        "id": "pHutqFnO__Jf",
        "outputId": "545cdd97-f13c-49fb-b046-7cde6e37f2a5"
      },
      "execution_count": 77,
      "outputs": [
        {
          "output_type": "stream",
          "name": "stdout",
          "text": [
            "\n",
            "✅ Test Accuracy: 0.5238\n"
          ]
        }
      ]
    },
    {
      "cell_type": "markdown",
      "source": [
        "Why is DeepGCN outperforming EdgeAwareGNN? | Likely Because...\n",
        "\n",
        "1. One-hot edge features aren't expressive enough\n",
        "2. Edge semantics are inconsistent / noisy\n",
        "3. NNConv model is too complex for 250 nodes compared to GCNBlock, too little data for a complex model which results in overfitting\n",
        "4. GCN is simply a better match for your current data\n"
      ],
      "metadata": {
        "id": "1rbK1G4gg6zV"
      }
    },
    {
      "cell_type": "markdown",
      "source": [
        "# Feature Meaning Enrichment"
      ],
      "metadata": {
        "id": "WhEAPUiDhX7W"
      }
    },
    {
      "cell_type": "markdown",
      "source": [
        "* 🧭 z-difference | Vertical offset between center points of source and *target*\n",
        "* 📏 Euclidean distance | Total 3D distance between source and target\n",
        "* 🧮 Relative size ratio | Volume or height ratio of source vs. target node\n",
        "* 📐 Angular offset | Angle between principal axes\n",
        "* 📦 Intersection volume or overlap | How much AABB or OOBB intersect"
      ],
      "metadata": {
        "id": "xZYKHrVehNOU"
      }
    },
    {
      "cell_type": "markdown",
      "source": [
        "# Graph Attention"
      ],
      "metadata": {
        "id": "gAWgkqThEXsU"
      }
    },
    {
      "cell_type": "markdown",
      "source": [
        "Since the model is not improving much by adding complexity,\n",
        "it could be because now the averaging mechnicsm in Conv does not fit the case where certain nodes need more attention than the others.\n",
        "In our case, we can try graph attention system"
      ],
      "metadata": {
        "id": "10JLE0eWEZTZ"
      }
    },
    {
      "cell_type": "code",
      "source": [
        "from torch_geometric.nn import TransformerConv\n",
        "\n",
        "class TransformerBlock(nn.Module):\n",
        "    def __init__(self, in_dim, out_dim, edge_attr_dim, heads=4, dropout=0.5):\n",
        "        super().__init__()\n",
        "        self.conv = TransformerConv(\n",
        "            in_channels=in_dim,\n",
        "            out_channels=out_dim,\n",
        "            heads=heads,\n",
        "            dropout=dropout,\n",
        "            edge_dim=edge_attr_dim,\n",
        "            concat=True  # True = concat heads, False = average\n",
        "        )\n",
        "        self.output_dim = out_dim * heads\n",
        "        self.activation = nn.ReLU()\n",
        "\n",
        "    def forward(self, x, edge_index, edge_attr):\n",
        "        x = self.conv(x, edge_index, edge_attr)\n",
        "        x = self.activation(x)\n",
        "        return x"
      ],
      "metadata": {
        "id": "9vhRoR75DDqQ"
      },
      "execution_count": 47,
      "outputs": []
    },
    {
      "cell_type": "code",
      "source": [
        "class GraphTransformer(nn.Module):\n",
        "    def __init__(self, input_dim, hidden_dims, num_classes, edge_attr_dim, heads=4, dropout=0.5):\n",
        "        super().__init__()\n",
        "        self.layers = nn.ModuleList()\n",
        "        dims = [input_dim] + hidden_dims\n",
        "\n",
        "        for i in range(len(hidden_dims)):\n",
        "            block = TransformerBlock(\n",
        "                in_dim=dims[i],\n",
        "                out_dim=dims[i + 1],\n",
        "                edge_attr_dim=edge_attr_dim,\n",
        "                heads=heads,\n",
        "                dropout=dropout\n",
        "            )\n",
        "            self.layers.append(block)\n",
        "            dims[i + 1] = block.output_dim\n",
        "\n",
        "        self.final_conv = TransformerConv(\n",
        "            in_channels=dims[-1],\n",
        "            out_channels=num_classes,\n",
        "            heads=1,\n",
        "            concat=False,\n",
        "            dropout=dropout,\n",
        "            edge_dim=edge_attr_dim\n",
        "        )\n",
        "\n",
        "        self.dropout = dropout\n",
        "\n",
        "    def forward(self, data):\n",
        "        x, edge_index, edge_attr = data.x, data.edge_index, data.edge_attr\n",
        "\n",
        "        for layer in self.layers:\n",
        "            x = layer(x, edge_index, edge_attr)\n",
        "            x = F.dropout(x, p=self.dropout, training=self.training)\n",
        "\n",
        "        x = self.final_conv(x, edge_index, edge_attr)\n",
        "        return F.log_softmax(x, dim=1)"
      ],
      "metadata": {
        "id": "nPBAR8_hFGa-"
      },
      "execution_count": 48,
      "outputs": []
    },
    {
      "cell_type": "code",
      "source": [
        "input_dim = data.num_node_features\n",
        "hidden_dims = [32, 64, 64]\n",
        "num_classes = len(le.classes_)\n",
        "edge_attr_dim = data.edge_attr.shape[1]\n",
        "\n",
        "model = GraphTransformer(\n",
        "    input_dim=input_dim,\n",
        "    hidden_dims=hidden_dims,\n",
        "    num_classes=num_classes,\n",
        "    edge_attr_dim=edge_attr_dim,\n",
        "    heads=4,\n",
        "    dropout=0.5\n",
        ")\n",
        "\n",
        "optimizer = torch.optim.Adam(model.parameters(), lr=0.01, weight_decay=5e-4)"
      ],
      "metadata": {
        "id": "_iCNeTevFRNS"
      },
      "execution_count": 49,
      "outputs": []
    },
    {
      "cell_type": "code",
      "source": [
        "model.train()\n",
        "for epoch in range(200):\n",
        "    optimizer.zero_grad()\n",
        "    out = model(data)\n",
        "    loss = F.nll_loss(out[data.train_mask], data.y[data.train_mask])\n",
        "    loss.backward()\n",
        "    optimizer.step()\n",
        "\n",
        "    if epoch % 20 == 0:\n",
        "        print(f\"Epoch {epoch:03d} | Loss: {loss.item():.4f}\")"
      ],
      "metadata": {
        "colab": {
          "base_uri": "https://localhost:8080/"
        },
        "id": "J_VdF1njCOPH",
        "outputId": "51aa7ae2-997a-4be0-87eb-903de6f002c8"
      },
      "execution_count": 50,
      "outputs": [
        {
          "output_type": "stream",
          "name": "stdout",
          "text": [
            "Epoch 000 | Loss: 69.2571\n",
            "Epoch 020 | Loss: 29.5852\n",
            "Epoch 040 | Loss: 9.9291\n",
            "Epoch 060 | Loss: 7.8632\n",
            "Epoch 080 | Loss: 2.1135\n",
            "Epoch 100 | Loss: 2.3963\n",
            "Epoch 120 | Loss: 1.7719\n",
            "Epoch 140 | Loss: 2.2071\n",
            "Epoch 160 | Loss: 1.8778\n",
            "Epoch 180 | Loss: 1.9933\n"
          ]
        }
      ]
    },
    {
      "cell_type": "code",
      "source": [
        "model.eval()\n",
        "with torch.no_grad():\n",
        "    pred = model(data).argmax(dim=1)\n",
        "    correct = (pred[data.test_mask] == data.y[data.test_mask]).sum()\n",
        "    acc = correct / data.test_mask.sum()\n",
        "    print(f\"\\n✅ Test Accuracy: {acc:.4f}\")"
      ],
      "metadata": {
        "colab": {
          "base_uri": "https://localhost:8080/"
        },
        "id": "Z_seQ7npCTGj",
        "outputId": "ebdc07f4-c7d4-45ef-9322-27b5202676d1"
      },
      "execution_count": 51,
      "outputs": [
        {
          "output_type": "stream",
          "name": "stdout",
          "text": [
            "\n",
            "✅ Test Accuracy: 0.3968\n"
          ]
        }
      ]
    },
    {
      "cell_type": "markdown",
      "source": [
        "#🧠 Next Steps: Why Do GNNs Underperform Classical ML in our case?\n",
        "\n",
        "The accuracy of GNN comes much lower than the 2 stacked classifaction apporach using ensemble learnings or even to simple RNN and logistic regressions. Below could be the following reasons and next steps to work on"
      ],
      "metadata": {
        "id": "MfNkvovWKbm3"
      }
    },
    {
      "cell_type": "markdown",
      "source": [
        "\n",
        "### 🔹 1. Weak Graph Structure\n",
        "- GNNs depend on meaningful edges.\n",
        "- If the graph is noisy, overly dense, or doesn’t reflect true relationships, it can hurt performance.\n",
        "\n",
        "### 🔹 2. Strong Node Features\n",
        "- If intrinsic features already contain enough signal, classical models (RF, KNN) can perform very well without needing context from neighbors.\n",
        "\n",
        "### 🔹 3. Model Complexity\n",
        "- GNNs have many hyperparameters and are harder to tune.\n",
        "- They're more prone to overfitting, especially on smaller datasets.\n",
        "\n",
        "### 🔹 4. Over-smoothing\n",
        "- In deep GNNs, nodes can become indistinguishable as features are averaged across neighbors.\n",
        "\n",
        "### 🔹 5. Homophily Assumption Doesn’t Hold\n",
        "- Many GNNs assume nodes of the same class are connected.\n",
        "- In heterophilic graphs (e.g., walls connected to windows), this assumption breaks down.\n",
        "\n",
        "### 🔹 6. Data Efficiency\n",
        "- Classical models train faster and often require less data.\n",
        "- GNNs need more data and regularization to perform well.\n",
        "\n",
        "### 🔹 7. Graph Construction is Hard\n",
        "- If the edges are hand-crafted or inconsistent, GNN performance suffers.\n",
        "- Classical ML can directly use engineered features like cluster stats, variance, etc."
      ],
      "metadata": {
        "id": "5H22PIAoKylD"
      }
    },
    {
      "cell_type": "code",
      "source": [],
      "metadata": {
        "id": "n0SCy1JIE4s8"
      },
      "execution_count": 51,
      "outputs": []
    }
  ]
}